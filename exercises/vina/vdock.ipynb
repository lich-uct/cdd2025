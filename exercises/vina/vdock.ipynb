{
 "cells": [
  {
   "cell_type": "markdown",
   "id": "209c3121-17f1-4099-b055-59013bba1cbb",
   "metadata": {},
   "source": [
    "# importing stuff and checking if everything is installed"
   ]
  },
  {
   "cell_type": "code",
   "execution_count": 1,
   "id": "a458d37d-3083-4a53-b769-24aa32b38d06",
   "metadata": {
    "ExecuteTime": {
     "end_time": "2025-04-24T08:29:22.676530Z",
     "start_time": "2025-04-24T08:29:22.633595Z"
    }
   },
   "outputs": [
    {
     "ename": "ModuleNotFoundError",
     "evalue": "No module named 'rdkit.six'",
     "output_type": "error",
     "traceback": [
      "\u001b[31m---------------------------------------------------------------------------\u001b[39m",
      "\u001b[31mModuleNotFoundError\u001b[39m                       Traceback (most recent call last)",
      "\u001b[36mCell\u001b[39m\u001b[36m \u001b[39m\u001b[32mIn[1]\u001b[39m\u001b[32m, line 5\u001b[39m\n\u001b[32m      3\u001b[39m \u001b[38;5;28;01mfrom\u001b[39;00m\u001b[38;5;250m \u001b[39m\u001b[34;01mscrubber\u001b[39;00m\u001b[38;5;250m \u001b[39m\u001b[38;5;28;01mimport\u001b[39;00m Scrub\n\u001b[32m      4\u001b[39m \u001b[38;5;28;01mfrom\u001b[39;00m\u001b[38;5;250m \u001b[39m\u001b[34;01mrdkit\u001b[39;00m\u001b[38;5;250m \u001b[39m\u001b[38;5;28;01mimport\u001b[39;00m Chem\n\u001b[32m----> \u001b[39m\u001b[32m5\u001b[39m \u001b[38;5;28;01mfrom\u001b[39;00m\u001b[38;5;250m \u001b[39m\u001b[34;01mmeeko\u001b[39;00m\u001b[38;5;250m \u001b[39m\u001b[38;5;28;01mimport\u001b[39;00m MoleculePreparation\n\u001b[32m      6\u001b[39m \u001b[38;5;28;01mfrom\u001b[39;00m\u001b[38;5;250m \u001b[39m\u001b[34;01mmeeko\u001b[39;00m\u001b[38;5;250m \u001b[39m\u001b[38;5;28;01mimport\u001b[39;00m PDBQTWriterLegacy\n\u001b[32m      7\u001b[39m \u001b[38;5;28;01mfrom\u001b[39;00m\u001b[38;5;250m \u001b[39m\u001b[34;01mmeeko\u001b[39;00m\u001b[38;5;250m \u001b[39m\u001b[38;5;28;01mimport\u001b[39;00m PDBQTMolecule\n",
      "\u001b[36mFile \u001b[39m\u001b[32m~\\miniconda3\\envs\\docking\\Lib\\site-packages\\meeko\\__init__.py:32\u001b[39m\n\u001b[32m     30\u001b[39m \u001b[38;5;28;01mfrom\u001b[39;00m\u001b[38;5;250m \u001b[39m\u001b[34;01m.\u001b[39;00m\u001b[34;01mreceptor_pdbqt\u001b[39;00m\u001b[38;5;250m \u001b[39m\u001b[38;5;28;01mimport\u001b[39;00m PDBQTReceptor\n\u001b[32m     31\u001b[39m \u001b[38;5;28;01mfrom\u001b[39;00m\u001b[38;5;250m \u001b[39m\u001b[34;01m.\u001b[39;00m\u001b[34;01mmolecule_pdbqt\u001b[39;00m\u001b[38;5;250m \u001b[39m\u001b[38;5;28;01mimport\u001b[39;00m PDBQTMolecule\n\u001b[32m---> \u001b[39m\u001b[32m32\u001b[39m \u001b[38;5;28;01mfrom\u001b[39;00m\u001b[38;5;250m \u001b[39m\u001b[34;01m.\u001b[39;00m\u001b[34;01mrdkit_mol_create\u001b[39;00m\u001b[38;5;250m \u001b[39m\u001b[38;5;28;01mimport\u001b[39;00m RDKitMolCreate\n\u001b[32m     33\u001b[39m \u001b[38;5;28;01mfrom\u001b[39;00m\u001b[38;5;250m \u001b[39m\u001b[34;01m.\u001b[39;00m\u001b[34;01mreactive\u001b[39;00m\u001b[38;5;250m \u001b[39m\u001b[38;5;28;01mimport\u001b[39;00m reactive_typer\n\u001b[32m     34\u001b[39m \u001b[38;5;28;01mfrom\u001b[39;00m\u001b[38;5;250m \u001b[39m\u001b[34;01m.\u001b[39;00m\u001b[34;01mreactive\u001b[39;00m\u001b[38;5;250m \u001b[39m\u001b[38;5;28;01mimport\u001b[39;00m get_reactive_config\n",
      "\u001b[36mFile \u001b[39m\u001b[32m~\\miniconda3\\envs\\docking\\Lib\\site-packages\\meeko\\rdkit_mol_create.py:11\u001b[39m\n\u001b[32m      9\u001b[39m \u001b[38;5;28;01mfrom\u001b[39;00m\u001b[38;5;250m \u001b[39m\u001b[34;01mrdkit\u001b[39;00m\u001b[34;01m.\u001b[39;00m\u001b[34;01mGeometry\u001b[39;00m\u001b[38;5;250m \u001b[39m\u001b[38;5;28;01mimport\u001b[39;00m Point3D\n\u001b[32m     10\u001b[39m \u001b[38;5;28;01mfrom\u001b[39;00m\u001b[38;5;250m \u001b[39m\u001b[34;01mrdkit\u001b[39;00m\u001b[34;01m.\u001b[39;00m\u001b[34;01mChem\u001b[39;00m\u001b[38;5;250m \u001b[39m\u001b[38;5;28;01mimport\u001b[39;00m AllChem\n\u001b[32m---> \u001b[39m\u001b[32m11\u001b[39m \u001b[38;5;28;01mfrom\u001b[39;00m\u001b[38;5;250m \u001b[39m\u001b[34;01mrdkit\u001b[39;00m\u001b[34;01m.\u001b[39;00m\u001b[34;01msix\u001b[39;00m\u001b[38;5;250m \u001b[39m\u001b[38;5;28;01mimport\u001b[39;00m StringIO\n\u001b[32m     12\u001b[39m \u001b[38;5;28;01mimport\u001b[39;00m\u001b[38;5;250m \u001b[39m\u001b[34;01mjson\u001b[39;00m\n\u001b[32m     13\u001b[39m \u001b[38;5;28;01mimport\u001b[39;00m\u001b[38;5;250m \u001b[39m\u001b[34;01mos\u001b[39;00m\n",
      "\u001b[31mModuleNotFoundError\u001b[39m: No module named 'rdkit.six'"
     ]
    }
   ],
   "source": [
    "# I ran this in an env with pip install vina rdkit meeko molscrub spyrmsd py3Dmol scikit-learn matplotlib jupyterlab\n",
    "from vina import Vina\n",
    "from scrubber import Scrub\n",
    "from rdkit import Chem\n",
    "from meeko import MoleculePreparation\n",
    "from meeko import PDBQTWriterLegacy\n",
    "from meeko import PDBQTMolecule\n",
    "from meeko import RDKitMolCreate\n",
    "from spyrmsd.molecule import Molecule\n",
    "from spyrmsd.rmsd import rmsdwrapper\n",
    "\n",
    "\n",
    "#quiet down rdkit warnings\n",
    "from rdkit import RDLogger                                                                                                                                                               \n",
    "RDLogger.DisableLog('rdApp.*') "
   ]
  },
  {
   "cell_type": "markdown",
   "id": "c4181e20-864c-4fb2-be06-4ca4edc1365f",
   "metadata": {},
   "source": [
    "# ligand preparation\n",
    "AutoDock Vina authors recommend Meeko for Ligand preparation. Meeko has a handy python API which we will use. We need to pick out a relevant protomer/tautomer, add explicit Hs and generate a sensible conformation, for this purpose we use the tool MolScrub."
   ]
  },
  {
   "cell_type": "code",
   "execution_count": 59,
   "id": "1dd02228-d10f-40f5-99a6-c5569abb4b95",
   "metadata": {},
   "outputs": [],
   "source": [
    "# for generating protomers, tautomers, explicitHs\n",
    "scrub = Scrub(ph_low=7.4,ph_high=7.4) #physiological pH\n",
    "\n",
    "def mol_to_pdbqt(mol):\n",
    "    \"\"\"\n",
    "    input: an rdkit mol\n",
    "    output: a pdbqt string for use in vina docking\n",
    "    \"\"\"\n",
    "    # run scrub and take the first protomer/tautomer\n",
    "    mol_state = scrub(mol)[0]\n",
    "    # set up meeko preparation pipeline\n",
    "    mk_prep = MoleculePreparation()\n",
    "    molsetup_list = mk_prep(mol_state)\n",
    "    molsetup = molsetup_list[0]\n",
    "    # write setup to pdbqt block\n",
    "    pdbqt_string = PDBQTWriterLegacy.write_string(molsetup)\n",
    "    return pdbqt_string[0]\n",
    "\n",
    "def pdbqt_to_mols(pdbqts,scores,name,idx=0):\n",
    "    \"\"\"\n",
    "    input: a pdbqt string with (possibly several)\n",
    "    output: array of rdkit mols with properties\n",
    "    \"\"\"\n",
    "    pdbqtmols = PDBQTMolecule(pdbqts)\n",
    "    m = RDKitMolCreate.from_pdbqt_mol(pdbqtmols)[0]\n",
    "    m.SetProp(\"Score\",\",\".join([str(s) for s in scores]))\n",
    "    m.SetProp(\"_Name\",name)\n",
    "    m.SetProp(\"Idx\",str(idx))\n",
    "    m.ClearProp(\"meeko\")\n",
    "    return m\n",
    "\n",
    "m = Chem.MolFromSmiles(\"c2ccccc2CCN(CCCF)Cc2ccccc2\") # a molecule\n",
    "lig = mol_to_pdbqt_block(m)"
   ]
  },
  {
   "cell_type": "markdown",
   "id": "c44c04c4-ccae-4af9-860b-ba2b54566bde",
   "metadata": {},
   "source": [
    "# Receptor preparation (SKIPPED)\n",
    "Meeko can also be used to prepare a receptor for docking from a PDB file, using one of the helper scripts. However, cleaning up a PDB file usually requires tricky manual intervention so we will use prepared PDBQTs and config files. These were sourced from: https://github.com/dockstring/dockstring/tree/main/dockstring/resources/targets if you would like to know more about automatic protein preparation for Vina look here: https://ccsb.scripps.edu/adfr/downloads/\n",
    "\n",
    "For this example notebook, we're using DRD3 (dopamine receptor D3), a GPCR with high expression in the CNS and relevance to disease processes including those related to schizophrenia, addiction and Parkinson's.\n"
   ]
  },
  {
   "cell_type": "markdown",
   "id": "08813c50-92ff-4690-8f24-24a01407b139",
   "metadata": {},
   "source": [
    "# Docking a single molecule\n",
    "to show how to use the Vina python bindings"
   ]
  },
  {
   "cell_type": "code",
   "execution_count": 120,
   "id": "f64ec11e-266c-4e71-9919-b1a288cbf049",
   "metadata": {},
   "outputs": [
    {
     "name": "stdout",
     "output_type": "stream",
     "text": [
      "Computing Vina grid ... done.\n"
     ]
    },
    {
     "name": "stderr",
     "output_type": "stream",
     "text": [
      "WARNING: At low exhaustiveness, it may be impossible to utilize all CPUs.\n"
     ]
    },
    {
     "name": "stdout",
     "output_type": "stream",
     "text": [
      "Performing docking (random seed: -1912764849) ... \n",
      "0%   10   20   30   40   50   60   70   80   90   100%\n",
      "|----|----|----|----|----|----|----|----|----|----|\n",
      "***************************************************\n",
      "done.\n"
     ]
    }
   ],
   "source": [
    "# random molecule\n",
    "mol = Chem.MolFromSmiles(\"c1c(Cl)c(Cl)ccc1N1CCN(C)CC1\")\n",
    "#scoring function: vina; verbose output\n",
    "v = Vina(sf_name='vina',verbosity=2)\n",
    "# our provided target protein\n",
    "v.set_receptor(\"DRD3_target.pdbqt\")\n",
    "# get ligand from rdkit mol using our helper function\n",
    "v.set_ligand_from_string(mol_to_pdbqt_block(mol)) \n",
    "#provided settings\n",
    "v.compute_vina_maps(center=[8.970,21.132,24.193], box_size=[25, 25, 25])\n",
    "#docking with 8 trials retaining the 5 best scores poses\n",
    "v.dock(exhaustiveness=8, n_poses=5)"
   ]
  },
  {
   "cell_type": "markdown",
   "id": "55f14d88-4d3f-43ef-92b7-6339f9992b45",
   "metadata": {},
   "source": [
    "# Docking molecules\n",
    "we write a helper script that iterates through a list of mols and returns the docked poses (as multiconformer rdkit mols) and saves them to SDF "
   ]
  },
  {
   "cell_type": "code",
   "execution_count": 124,
   "id": "4877d03a-0dff-4497-931e-70c65cd89bf2",
   "metadata": {},
   "outputs": [
    {
     "name": "stderr",
     "output_type": "stream",
     "text": [
      "WARNING: At low exhaustiveness, it may be impossible to utilize all CPUs.\n",
      "WARNING: At low exhaustiveness, it may be impossible to utilize all CPUs.\n"
     ]
    },
    {
     "data": {
      "text/plain": [
       "[<rdkit.Chem.rdchem.Mol at 0x727301619000>,\n",
       " <rdkit.Chem.rdchem.Mol at 0x727301618f20>]"
      ]
     },
     "execution_count": 124,
     "metadata": {},
     "output_type": "execute_result"
    }
   ],
   "source": [
    "def dock_mols(mols,outfile=\"out.sdf\",\n",
    "              receptor_file='DRD3_target.pdbqt',\n",
    "              save_output=True,\n",
    "              exhaustiveness=8,\n",
    "              n_poses=5):\n",
    "    docked_mols = []\n",
    "    v = Vina(sf_name='vina',verbosity=0) #scoring function: vina\n",
    "    \n",
    "    for idx,mol in enumerate(mols):\n",
    "        if \"_Name\" not in mol.GetPropsAsDict():\n",
    "            name = Chem.MolToSmiles(mol)\n",
    "        else:\n",
    "            name = Chem.GetProp(\"_Name\")\n",
    "        v.set_receptor(receptor_file)\n",
    "        v.set_ligand_from_string(mol_to_pdbqt_block(mol))\n",
    "        v.compute_vina_maps(center=[8.970,21.132,24.193], box_size=[25, 25, 25]) #provided settings\n",
    "        v.dock(exhaustiveness=exhaustiveness, n_poses=n_poses)\n",
    "        scores = [float(e[0]) for e in v.energies()]\n",
    "        poses = v.poses()\n",
    "        docked_mols.append(pdbqt_to_mols(poses,scores,name,idx))\n",
    "    \n",
    "    #save the poses as sdf\n",
    "    if save_output:\n",
    "        wri = Chem.SDWriter(outfile)\n",
    "        for m in docked_mols:\n",
    "            scores = [float(s) for s in m.GetProp(\"Score\").split(\",\")]\n",
    "            for i,score in enumerate(scores):\n",
    "                m.SetProp(\"Score\",str(score))\n",
    "                wri.write(m,confId=i)\n",
    "        wri.close()\n",
    "    return docked_mols\n",
    "\n",
    "#test the function with two random molecules\n",
    "ms = [Chem.MolFromSmiles(smi) for smi in [\"c1ccccc1CC(C)NCC\",\"Clc1c(Cl)ccc(CCOCCC2CNC2)c1\"]]\n",
    "dock_mols(ms)"
   ]
  },
  {
   "cell_type": "markdown",
   "id": "a07cd315-daa7-41bb-9755-dc84cf98b86e",
   "metadata": {},
   "source": [
    "# Docking reference\n",
    "How good is Vina at recovering our reference ligand's pose? We can redock the molecule (from SMILES, without coordinate information) and compare it with the coordinates from the PDB. Pose recovery is usually assessed using the RMSD, where an RMSD under 2 Angstrom's is considered a successful recovery."
   ]
  },
  {
   "cell_type": "code",
   "execution_count": 151,
   "id": "46250643-6c9c-4002-b55c-a8ef3bcf1de2",
   "metadata": {},
   "outputs": [
    {
     "name": "stdout",
     "output_type": "stream",
     "text": [
      "It worked. Docking was successful with RMSD of 1.1567860018239355\n"
     ]
    },
    {
     "name": "stderr",
     "output_type": "stream",
     "text": [
      "WARNING: At low exhaustiveness, it may be impossible to utilize all CPUs.\n"
     ]
    }
   ],
   "source": [
    "# load the reference\n",
    "ref = Chem.MolFromMol2File(\"reference_pose.mol2\")\n",
    "# convert to smiles\n",
    "mol = Chem.MolFromSmiles(Chem.MolToSmiles(ref))\n",
    "#dock mol using wrapper\n",
    "docked_mol = dock_mols([mol])[0]\n",
    "# convert rdkit mols to spyrmsd mols\n",
    "ref_s = Molecule.from_rdkit(ref)\n",
    "docked_mol_s = Molecule.from_rdkit(docked_mol)\n",
    "#calculate RMSD\n",
    "rms = rmsdwrapper(ref_s, docked_mol_s)[0]\n",
    "if rms<2:\n",
    "    print(f\"It worked. Docking was successful with RMSD of {rms}\")\n",
    "else:\n",
    "    print(f\"It failed. RMSD of {rms}, which is over 2.\")"
   ]
  },
  {
   "cell_type": "markdown",
   "id": "7d33d970-2480-4595-8635-7d945e508a95",
   "metadata": {},
   "source": [
    "# Show the overlay in 3D\n",
    "using py3Dmol JS widget"
   ]
  },
  {
   "cell_type": "code",
   "execution_count": 152,
   "id": "ec44c790-94c3-4893-a35e-5867f2123baf",
   "metadata": {},
   "outputs": [
    {
     "data": {
      "application/3dmoljs_load.v0": "<div id=\"3dmolviewer_17452737364548202\"  style=\"position: relative; width: 300px; height: 300px;\">\n        <p id=\"3dmolwarning_17452737364548202\" style=\"background-color:#ffcccc;color:black\">3Dmol.js failed to load for some reason.  Please check your browser console for error messages.<br></p>\n        </div>\n<script>\n\nvar loadScriptAsync = function(uri){\n  return new Promise((resolve, reject) => {\n    //this is to ignore the existence of requirejs amd\n    var savedexports, savedmodule;\n    if (typeof exports !== 'undefined') savedexports = exports;\n    else exports = {}\n    if (typeof module !== 'undefined') savedmodule = module;\n    else module = {}\n\n    var tag = document.createElement('script');\n    tag.src = uri;\n    tag.async = true;\n    tag.onload = () => {\n        exports = savedexports;\n        module = savedmodule;\n        resolve();\n    };\n  var firstScriptTag = document.getElementsByTagName('script')[0];\n  firstScriptTag.parentNode.insertBefore(tag, firstScriptTag);\n});\n};\n\nif(typeof $3Dmolpromise === 'undefined') {\n$3Dmolpromise = null;\n  $3Dmolpromise = loadScriptAsync('https://cdnjs.cloudflare.com/ajax/libs/3Dmol/2.4.2/3Dmol-min.js');\n}\n\nvar viewer_17452737364548202 = null;\nvar warn = document.getElementById(\"3dmolwarning_17452737364548202\");\nif(warn) {\n    warn.parentNode.removeChild(warn);\n}\n$3Dmolpromise.then(function() {\nviewer_17452737364548202 = $3Dmol.createViewer(document.getElementById(\"3dmolviewer_17452737364548202\"),{backgroundColor:\"white\"});\nviewer_17452737364548202.zoomTo();\n\tviewer_17452737364548202.removeAllModels();\n\tviewer_17452737364548202.addModel(\"*****\\n     RDKit          3D\\n\\n 23 24  0  0  0  0  0  0  0  0999 V2000\\n   12.4240   19.4450   22.7230 C   0  0  0  0  0  0  0  0  0  0  0  0\\n    7.9580   19.1110   22.2270 C   0  0  0  0  0  0  0  0  0  0  0  0\\n    8.1130   22.7200   22.8350 N   0  0  0  0  0  0  0  0  0  0  0  0\\n    6.6120   19.0100   22.0640 O   0  0  0  0  0  0  0  0  0  0  0  0\\n    8.7640   18.0060   21.9300 C   0  0  0  0  0  0  0  0  0  0  0  0\\n    7.9110   24.3440   25.4130 N   0  0  1  0  0  0  0  0  0  0  0  0\\n   10.4870   21.5450   23.3030 O   0  0  0  0  0  0  0  0  0  0  0  0\\n   10.1480   18.1280   22.0720 C   0  0  0  0  0  0  0  0  0  0  0  0\\n    6.3960   21.3210   23.2770 O   0  0  0  0  0  0  0  0  0  0  0  0\\n   10.7110   19.3190   22.5240 C   0  0  0  0  0  0  0  0  0  0  0  0\\n    9.9020   20.4090   22.8400 C   0  0  0  0  0  0  0  0  0  0  0  0\\n   10.7470   21.3910   24.7050 C   0  0  0  0  0  0  0  0  0  0  0  0\\n    8.5110   20.3090   22.7030 C   0  0  0  0  0  0  0  0  0  0  0  0\\n    7.5760   21.5070   22.9890 C   0  0  0  0  0  0  0  0  0  0  0  0\\n    7.3610   23.9750   23.0350 C   0  0  0  0  0  0  0  0  0  0  0  0\\n    6.8120   24.0730   24.4630 C   0  0  2  0  0  0  0  0  0  0  0  0\\n    5.8560   25.2590   24.5600 C   0  0  0  0  0  0  0  0  0  0  0  0\\n    6.7760   26.3970   24.9700 C   0  0  0  0  0  0  0  0  0  0  0  0\\n    7.7120   25.7060   25.9500 C   0  0  0  0  0  0  0  0  0  0  0  0\\n    7.8450   23.3630   26.5050 C   0  0  0  0  0  0  0  0  0  0  0  0\\n    9.2140   23.1980   27.1480 C   0  0  0  0  0  0  0  0  0  0  0  0\\n    8.2410   16.6670   21.3800 C   0  0  0  0  0  0  0  0  0  0  0  0\\n    7.2470   15.9870   22.3250 C   0  0  0  0  0  0  0  0  0  0  0  0\\n  5 22  1  0\\n 22 23  1  0\\n  5  8  1  0\\n  2  5  2  0\\n  2  4  1  0\\n  8 10  2  0\\n  2 13  1  0\\n  1 10  1  0\\n 10 11  1  0\\n 11 13  2  0\\n 13 14  1  0\\n  3 14  1  0\\n  3 15  1  0\\n  7 11  1  0\\n  9 14  2  0\\n 16 15  1  6\\n  7 12  1  0\\n 16 17  1  0\\n  6 16  1  0\\n 17 18  1  0\\n 18 19  1  0\\n  6 19  1  0\\n  6 20  1  1\\n 20 21  1  0\\nM  CHG  1   6   1\\nM  END\\n\",\"sdf\");\n\tviewer_17452737364548202.setStyle({\"stick\": {}});\n\tviewer_17452737364548202.addModel(\"CCc1cc(C)c(OC)c(C(=O)NC[C@@H]2CCC[N@H+]2CC)c1O\\n     RDKit          3D\\n\\n 23 24  0  0  0  0  0  0  0  0999 V2000\\n    7.1010   16.3600   22.9050 C   0  0  0  0  0  0  0  0  0  0  0  0\\n    7.5960   17.1280   21.6880 C   0  0  0  0  0  0  0  0  0  0  0  0\\n    8.5360   18.2480   22.0720 C   0  0  0  0  0  0  0  0  0  0  0  0\\n    9.9160   18.0030   22.1120 C   0  0  0  0  0  0  0  0  0  0  0  0\\n   10.8280   19.0130   22.4520 C   0  0  0  0  0  0  0  0  0  0  0  0\\n   12.2960   18.6900   22.4740 C   0  0  0  0  0  0  0  0  0  0  0  0\\n   10.3340   20.2850   22.7940 C   0  0  0  0  0  0  0  0  0  0  0  0\\n   11.2260   21.2590   23.1810 O   0  0  0  0  0  0  0  0  0  0  0  0\\n   11.4190   21.2090   24.6020 C   0  0  0  0  0  0  0  0  0  0  0  0\\n    8.9610   20.5780   22.6890 C   0  0  0  0  0  0  0  0  0  0  0  0\\n    8.4130   21.9520   22.8880 C   0  0  0  0  0  0  0  0  0  0  0  0\\n    8.9660   22.9290   22.3810 O   0  0  0  0  0  0  0  0  0  0  0  0\\n    7.3130   22.1050   23.7050 N   0  0  0  0  0  0  0  0  0  0  0  0\\n    6.7060   23.4030   23.9060 C   0  0  0  0  0  0  0  0  0  0  0  0\\n    6.5470   23.7600   25.3990 C   0  0  2  0  0  0  0  0  0  0  0  0\\n    5.7550   25.0390   25.6360 C   0  0  0  0  0  0  0  0  0  0  0  0\\n    6.1420   25.4010   27.0550 C   0  0  0  0  0  0  0  0  0  0  0  0\\n    7.6350   25.1320   27.1140 C   0  0  0  0  0  0  0  0  0  0  0  0\\n    7.8950   24.0660   26.0600 N   0  0  1  0  0  0  0  0  0  0  0  0\\n    8.5740   22.8170   26.5770 C   0  0  0  0  0  0  0  0  0  0  0  0\\n    8.8960   22.9770   28.0520 C   0  0  0  0  0  0  0  0  0  0  0  0\\n    8.0700   19.5400   22.3540 C   0  0  0  0  0  0  0  0  0  0  0  0\\n    6.7120   19.7370   22.2730 O   0  0  0  0  0  0  0  0  0  0  0  0\\n  1  2  1  0\\n  2  3  1  0\\n  3  4  2  0\\n  4  5  1  0\\n  5  6  1  0\\n  5  7  2  0\\n  7  8  1  0\\n  8  9  1  0\\n  7 10  1  0\\n 10 11  1  0\\n 11 12  2  0\\n 11 13  1  0\\n 13 14  1  0\\n 15 14  1  6\\n 15 16  1  0\\n 16 17  1  0\\n 17 18  1  0\\n 18 19  1  0\\n 19 20  1  1\\n 20 21  1  0\\n 10 22  2  0\\n 22 23  1  0\\n 22  3  1  0\\n 19 15  1  0\\nM  CHG  1  19   1\\nM  END\\n\",\"sdf\");\n\tviewer_17452737364548202.setStyle({\"stick\": {}});\n\tviewer_17452737364548202.zoomTo();\nviewer_17452737364548202.render();\n});\n</script>",
      "text/html": [
       "<div id=\"3dmolviewer_17452737364548202\"  style=\"position: relative; width: 300px; height: 300px;\">\n",
       "        <p id=\"3dmolwarning_17452737364548202\" style=\"background-color:#ffcccc;color:black\">3Dmol.js failed to load for some reason.  Please check your browser console for error messages.<br></p>\n",
       "        </div>\n",
       "<script>\n",
       "\n",
       "var loadScriptAsync = function(uri){\n",
       "  return new Promise((resolve, reject) => {\n",
       "    //this is to ignore the existence of requirejs amd\n",
       "    var savedexports, savedmodule;\n",
       "    if (typeof exports !== 'undefined') savedexports = exports;\n",
       "    else exports = {}\n",
       "    if (typeof module !== 'undefined') savedmodule = module;\n",
       "    else module = {}\n",
       "\n",
       "    var tag = document.createElement('script');\n",
       "    tag.src = uri;\n",
       "    tag.async = true;\n",
       "    tag.onload = () => {\n",
       "        exports = savedexports;\n",
       "        module = savedmodule;\n",
       "        resolve();\n",
       "    };\n",
       "  var firstScriptTag = document.getElementsByTagName('script')[0];\n",
       "  firstScriptTag.parentNode.insertBefore(tag, firstScriptTag);\n",
       "});\n",
       "};\n",
       "\n",
       "if(typeof $3Dmolpromise === 'undefined') {\n",
       "$3Dmolpromise = null;\n",
       "  $3Dmolpromise = loadScriptAsync('https://cdnjs.cloudflare.com/ajax/libs/3Dmol/2.4.2/3Dmol-min.js');\n",
       "}\n",
       "\n",
       "var viewer_17452737364548202 = null;\n",
       "var warn = document.getElementById(\"3dmolwarning_17452737364548202\");\n",
       "if(warn) {\n",
       "    warn.parentNode.removeChild(warn);\n",
       "}\n",
       "$3Dmolpromise.then(function() {\n",
       "viewer_17452737364548202 = $3Dmol.createViewer(document.getElementById(\"3dmolviewer_17452737364548202\"),{backgroundColor:\"white\"});\n",
       "viewer_17452737364548202.zoomTo();\n",
       "\tviewer_17452737364548202.removeAllModels();\n",
       "\tviewer_17452737364548202.addModel(\"*****\\n     RDKit          3D\\n\\n 23 24  0  0  0  0  0  0  0  0999 V2000\\n   12.4240   19.4450   22.7230 C   0  0  0  0  0  0  0  0  0  0  0  0\\n    7.9580   19.1110   22.2270 C   0  0  0  0  0  0  0  0  0  0  0  0\\n    8.1130   22.7200   22.8350 N   0  0  0  0  0  0  0  0  0  0  0  0\\n    6.6120   19.0100   22.0640 O   0  0  0  0  0  0  0  0  0  0  0  0\\n    8.7640   18.0060   21.9300 C   0  0  0  0  0  0  0  0  0  0  0  0\\n    7.9110   24.3440   25.4130 N   0  0  1  0  0  0  0  0  0  0  0  0\\n   10.4870   21.5450   23.3030 O   0  0  0  0  0  0  0  0  0  0  0  0\\n   10.1480   18.1280   22.0720 C   0  0  0  0  0  0  0  0  0  0  0  0\\n    6.3960   21.3210   23.2770 O   0  0  0  0  0  0  0  0  0  0  0  0\\n   10.7110   19.3190   22.5240 C   0  0  0  0  0  0  0  0  0  0  0  0\\n    9.9020   20.4090   22.8400 C   0  0  0  0  0  0  0  0  0  0  0  0\\n   10.7470   21.3910   24.7050 C   0  0  0  0  0  0  0  0  0  0  0  0\\n    8.5110   20.3090   22.7030 C   0  0  0  0  0  0  0  0  0  0  0  0\\n    7.5760   21.5070   22.9890 C   0  0  0  0  0  0  0  0  0  0  0  0\\n    7.3610   23.9750   23.0350 C   0  0  0  0  0  0  0  0  0  0  0  0\\n    6.8120   24.0730   24.4630 C   0  0  2  0  0  0  0  0  0  0  0  0\\n    5.8560   25.2590   24.5600 C   0  0  0  0  0  0  0  0  0  0  0  0\\n    6.7760   26.3970   24.9700 C   0  0  0  0  0  0  0  0  0  0  0  0\\n    7.7120   25.7060   25.9500 C   0  0  0  0  0  0  0  0  0  0  0  0\\n    7.8450   23.3630   26.5050 C   0  0  0  0  0  0  0  0  0  0  0  0\\n    9.2140   23.1980   27.1480 C   0  0  0  0  0  0  0  0  0  0  0  0\\n    8.2410   16.6670   21.3800 C   0  0  0  0  0  0  0  0  0  0  0  0\\n    7.2470   15.9870   22.3250 C   0  0  0  0  0  0  0  0  0  0  0  0\\n  5 22  1  0\\n 22 23  1  0\\n  5  8  1  0\\n  2  5  2  0\\n  2  4  1  0\\n  8 10  2  0\\n  2 13  1  0\\n  1 10  1  0\\n 10 11  1  0\\n 11 13  2  0\\n 13 14  1  0\\n  3 14  1  0\\n  3 15  1  0\\n  7 11  1  0\\n  9 14  2  0\\n 16 15  1  6\\n  7 12  1  0\\n 16 17  1  0\\n  6 16  1  0\\n 17 18  1  0\\n 18 19  1  0\\n  6 19  1  0\\n  6 20  1  1\\n 20 21  1  0\\nM  CHG  1   6   1\\nM  END\\n\",\"sdf\");\n",
       "\tviewer_17452737364548202.setStyle({\"stick\": {}});\n",
       "\tviewer_17452737364548202.addModel(\"CCc1cc(C)c(OC)c(C(=O)NC[C@@H]2CCC[N@H+]2CC)c1O\\n     RDKit          3D\\n\\n 23 24  0  0  0  0  0  0  0  0999 V2000\\n    7.1010   16.3600   22.9050 C   0  0  0  0  0  0  0  0  0  0  0  0\\n    7.5960   17.1280   21.6880 C   0  0  0  0  0  0  0  0  0  0  0  0\\n    8.5360   18.2480   22.0720 C   0  0  0  0  0  0  0  0  0  0  0  0\\n    9.9160   18.0030   22.1120 C   0  0  0  0  0  0  0  0  0  0  0  0\\n   10.8280   19.0130   22.4520 C   0  0  0  0  0  0  0  0  0  0  0  0\\n   12.2960   18.6900   22.4740 C   0  0  0  0  0  0  0  0  0  0  0  0\\n   10.3340   20.2850   22.7940 C   0  0  0  0  0  0  0  0  0  0  0  0\\n   11.2260   21.2590   23.1810 O   0  0  0  0  0  0  0  0  0  0  0  0\\n   11.4190   21.2090   24.6020 C   0  0  0  0  0  0  0  0  0  0  0  0\\n    8.9610   20.5780   22.6890 C   0  0  0  0  0  0  0  0  0  0  0  0\\n    8.4130   21.9520   22.8880 C   0  0  0  0  0  0  0  0  0  0  0  0\\n    8.9660   22.9290   22.3810 O   0  0  0  0  0  0  0  0  0  0  0  0\\n    7.3130   22.1050   23.7050 N   0  0  0  0  0  0  0  0  0  0  0  0\\n    6.7060   23.4030   23.9060 C   0  0  0  0  0  0  0  0  0  0  0  0\\n    6.5470   23.7600   25.3990 C   0  0  2  0  0  0  0  0  0  0  0  0\\n    5.7550   25.0390   25.6360 C   0  0  0  0  0  0  0  0  0  0  0  0\\n    6.1420   25.4010   27.0550 C   0  0  0  0  0  0  0  0  0  0  0  0\\n    7.6350   25.1320   27.1140 C   0  0  0  0  0  0  0  0  0  0  0  0\\n    7.8950   24.0660   26.0600 N   0  0  1  0  0  0  0  0  0  0  0  0\\n    8.5740   22.8170   26.5770 C   0  0  0  0  0  0  0  0  0  0  0  0\\n    8.8960   22.9770   28.0520 C   0  0  0  0  0  0  0  0  0  0  0  0\\n    8.0700   19.5400   22.3540 C   0  0  0  0  0  0  0  0  0  0  0  0\\n    6.7120   19.7370   22.2730 O   0  0  0  0  0  0  0  0  0  0  0  0\\n  1  2  1  0\\n  2  3  1  0\\n  3  4  2  0\\n  4  5  1  0\\n  5  6  1  0\\n  5  7  2  0\\n  7  8  1  0\\n  8  9  1  0\\n  7 10  1  0\\n 10 11  1  0\\n 11 12  2  0\\n 11 13  1  0\\n 13 14  1  0\\n 15 14  1  6\\n 15 16  1  0\\n 16 17  1  0\\n 17 18  1  0\\n 18 19  1  0\\n 19 20  1  1\\n 20 21  1  0\\n 10 22  2  0\\n 22 23  1  0\\n 22  3  1  0\\n 19 15  1  0\\nM  CHG  1  19   1\\nM  END\\n\",\"sdf\");\n",
       "\tviewer_17452737364548202.setStyle({\"stick\": {}});\n",
       "\tviewer_17452737364548202.zoomTo();\n",
       "viewer_17452737364548202.render();\n",
       "});\n",
       "</script>"
      ]
     },
     "metadata": {},
     "output_type": "display_data"
    }
   ],
   "source": [
    "\n",
    "v = py3Dmol.view(width=300,height=300)\n",
    "v.removeAllModels()\n",
    "IPythonConsole.addMolToView(Chem.RemoveHs(ref),v,confId=0)\n",
    "IPythonConsole.addMolToView(Chem.RemoveHs(docked_mol),v,confId=0)\n",
    "v.zoomTo()\n",
    "v.show()"
   ]
  },
  {
   "cell_type": "markdown",
   "id": "6bf6830e-bb50-4b6e-a6a6-3bb4073de7bf",
   "metadata": {},
   "source": [
    "# Virtual screening efficacy of docking\n",
    "10 true hits and 90 decoys are provided. How good is docking at distinguishing the hits from the non hits? Warning, this cell takes about 15 minutes to run (on my laptop)."
   ]
  },
  {
   "cell_type": "code",
   "execution_count": 134,
   "id": "2ace4fda-a4d3-4581-8507-a4e571549e7e",
   "metadata": {},
   "outputs": [
    {
     "name": "stderr",
     "output_type": "stream",
     "text": [
      "WARNING: At low exhaustiveness, it may be impossible to utilize all CPUs.\n",
      "WARNING: At low exhaustiveness, it may be impossible to utilize all CPUs.\n",
      "WARNING: At low exhaustiveness, it may be impossible to utilize all CPUs.\n",
      "WARNING: At low exhaustiveness, it may be impossible to utilize all CPUs.\n",
      "WARNING: At low exhaustiveness, it may be impossible to utilize all CPUs.\n",
      "WARNING: At low exhaustiveness, it may be impossible to utilize all CPUs.\n",
      "WARNING: At low exhaustiveness, it may be impossible to utilize all CPUs.\n",
      "WARNING: At low exhaustiveness, it may be impossible to utilize all CPUs.\n",
      "WARNING: At low exhaustiveness, it may be impossible to utilize all CPUs.\n",
      "WARNING: At low exhaustiveness, it may be impossible to utilize all CPUs.\n",
      "WARNING: At low exhaustiveness, it may be impossible to utilize all CPUs.\n",
      "WARNING: At low exhaustiveness, it may be impossible to utilize all CPUs.\n",
      "WARNING: At low exhaustiveness, it may be impossible to utilize all CPUs.\n",
      "WARNING: At low exhaustiveness, it may be impossible to utilize all CPUs.\n",
      "WARNING: At low exhaustiveness, it may be impossible to utilize all CPUs.\n",
      "WARNING: At low exhaustiveness, it may be impossible to utilize all CPUs.\n",
      "WARNING: At low exhaustiveness, it may be impossible to utilize all CPUs.\n"
     ]
    },
    {
     "name": "stdout",
     "output_type": "stream",
     "text": [
      "warning: found the maximum nr of matches (17) in RDKitMolSetup.get_symmetries_for_rmsd\n",
      "Maybe this molecule is \"too\" symmetric? C02054947 O=C(N[C@H](Nc1ccccc1C(F)(F)F)C(Cl)(Cl)Cl)c1ccccc1[N+](=O)[O-]\n"
     ]
    },
    {
     "name": "stderr",
     "output_type": "stream",
     "text": [
      "WARNING: At low exhaustiveness, it may be impossible to utilize all CPUs.\n",
      "WARNING: At low exhaustiveness, it may be impossible to utilize all CPUs.\n",
      "WARNING: At low exhaustiveness, it may be impossible to utilize all CPUs.\n",
      "WARNING: At low exhaustiveness, it may be impossible to utilize all CPUs.\n",
      "WARNING: At low exhaustiveness, it may be impossible to utilize all CPUs.\n",
      "WARNING: At low exhaustiveness, it may be impossible to utilize all CPUs.\n",
      "WARNING: At low exhaustiveness, it may be impossible to utilize all CPUs.\n",
      "WARNING: At low exhaustiveness, it may be impossible to utilize all CPUs.\n",
      "WARNING: At low exhaustiveness, it may be impossible to utilize all CPUs.\n",
      "WARNING: At low exhaustiveness, it may be impossible to utilize all CPUs.\n",
      "WARNING: At low exhaustiveness, it may be impossible to utilize all CPUs.\n",
      "WARNING: At low exhaustiveness, it may be impossible to utilize all CPUs.\n",
      "WARNING: At low exhaustiveness, it may be impossible to utilize all CPUs.\n",
      "WARNING: At low exhaustiveness, it may be impossible to utilize all CPUs.\n",
      "WARNING: At low exhaustiveness, it may be impossible to utilize all CPUs.\n",
      "WARNING: At low exhaustiveness, it may be impossible to utilize all CPUs.\n",
      "WARNING: At low exhaustiveness, it may be impossible to utilize all CPUs.\n",
      "WARNING: At low exhaustiveness, it may be impossible to utilize all CPUs.\n",
      "WARNING: At low exhaustiveness, it may be impossible to utilize all CPUs.\n",
      "WARNING: At low exhaustiveness, it may be impossible to utilize all CPUs.\n",
      "WARNING: At low exhaustiveness, it may be impossible to utilize all CPUs.\n",
      "WARNING: At low exhaustiveness, it may be impossible to utilize all CPUs.\n",
      "WARNING: At low exhaustiveness, it may be impossible to utilize all CPUs.\n",
      "WARNING: At low exhaustiveness, it may be impossible to utilize all CPUs.\n",
      "WARNING: At low exhaustiveness, it may be impossible to utilize all CPUs.\n",
      "WARNING: At low exhaustiveness, it may be impossible to utilize all CPUs.\n",
      "WARNING: At low exhaustiveness, it may be impossible to utilize all CPUs.\n",
      "WARNING: At low exhaustiveness, it may be impossible to utilize all CPUs.\n",
      "WARNING: At low exhaustiveness, it may be impossible to utilize all CPUs.\n",
      "WARNING: At low exhaustiveness, it may be impossible to utilize all CPUs.\n",
      "WARNING: At low exhaustiveness, it may be impossible to utilize all CPUs.\n",
      "WARNING: At low exhaustiveness, it may be impossible to utilize all CPUs.\n",
      "WARNING: At low exhaustiveness, it may be impossible to utilize all CPUs.\n",
      "WARNING: At low exhaustiveness, it may be impossible to utilize all CPUs.\n",
      "WARNING: At low exhaustiveness, it may be impossible to utilize all CPUs.\n",
      "WARNING: At low exhaustiveness, it may be impossible to utilize all CPUs.\n",
      "WARNING: At low exhaustiveness, it may be impossible to utilize all CPUs.\n",
      "WARNING: At low exhaustiveness, it may be impossible to utilize all CPUs.\n",
      "WARNING: At low exhaustiveness, it may be impossible to utilize all CPUs.\n",
      "WARNING: At low exhaustiveness, it may be impossible to utilize all CPUs.\n",
      "WARNING: At low exhaustiveness, it may be impossible to utilize all CPUs.\n",
      "WARNING: At low exhaustiveness, it may be impossible to utilize all CPUs.\n",
      "WARNING: At low exhaustiveness, it may be impossible to utilize all CPUs.\n",
      "WARNING: At low exhaustiveness, it may be impossible to utilize all CPUs.\n",
      "WARNING: At low exhaustiveness, it may be impossible to utilize all CPUs.\n",
      "WARNING: At low exhaustiveness, it may be impossible to utilize all CPUs.\n",
      "WARNING: At low exhaustiveness, it may be impossible to utilize all CPUs.\n",
      "WARNING: At low exhaustiveness, it may be impossible to utilize all CPUs.\n",
      "WARNING: At low exhaustiveness, it may be impossible to utilize all CPUs.\n",
      "WARNING: At low exhaustiveness, it may be impossible to utilize all CPUs.\n",
      "WARNING: At low exhaustiveness, it may be impossible to utilize all CPUs.\n",
      "WARNING: At low exhaustiveness, it may be impossible to utilize all CPUs.\n",
      "WARNING: At low exhaustiveness, it may be impossible to utilize all CPUs.\n",
      "WARNING: At low exhaustiveness, it may be impossible to utilize all CPUs.\n",
      "WARNING: At low exhaustiveness, it may be impossible to utilize all CPUs.\n",
      "WARNING: At low exhaustiveness, it may be impossible to utilize all CPUs.\n",
      "WARNING: At low exhaustiveness, it may be impossible to utilize all CPUs.\n",
      "WARNING: At low exhaustiveness, it may be impossible to utilize all CPUs.\n",
      "WARNING: At low exhaustiveness, it may be impossible to utilize all CPUs.\n",
      "WARNING: At low exhaustiveness, it may be impossible to utilize all CPUs.\n",
      "WARNING: At low exhaustiveness, it may be impossible to utilize all CPUs.\n",
      "WARNING: At low exhaustiveness, it may be impossible to utilize all CPUs.\n",
      "WARNING: At low exhaustiveness, it may be impossible to utilize all CPUs.\n",
      "WARNING: At low exhaustiveness, it may be impossible to utilize all CPUs.\n",
      "WARNING: At low exhaustiveness, it may be impossible to utilize all CPUs.\n"
     ]
    },
    {
     "name": "stdout",
     "output_type": "stream",
     "text": [
      "warning: found the maximum nr of matches (17) in RDKitMolSetup.get_symmetries_for_rmsd\n",
      "Maybe this molecule is \"too\" symmetric? C19315797 CC(C)(C)C(=O)N[C@@H]([NH+]1CCCCCC1)C(Cl)(Cl)Cl\n"
     ]
    },
    {
     "name": "stderr",
     "output_type": "stream",
     "text": [
      "WARNING: At low exhaustiveness, it may be impossible to utilize all CPUs.\n",
      "WARNING: At low exhaustiveness, it may be impossible to utilize all CPUs.\n",
      "WARNING: At low exhaustiveness, it may be impossible to utilize all CPUs.\n",
      "WARNING: At low exhaustiveness, it may be impossible to utilize all CPUs.\n",
      "WARNING: At low exhaustiveness, it may be impossible to utilize all CPUs.\n",
      "WARNING: At low exhaustiveness, it may be impossible to utilize all CPUs.\n",
      "WARNING: At low exhaustiveness, it may be impossible to utilize all CPUs.\n",
      "WARNING: At low exhaustiveness, it may be impossible to utilize all CPUs.\n",
      "WARNING: At low exhaustiveness, it may be impossible to utilize all CPUs.\n",
      "WARNING: At low exhaustiveness, it may be impossible to utilize all CPUs.\n",
      "WARNING: At low exhaustiveness, it may be impossible to utilize all CPUs.\n",
      "WARNING: At low exhaustiveness, it may be impossible to utilize all CPUs.\n",
      "WARNING: At low exhaustiveness, it may be impossible to utilize all CPUs.\n",
      "WARNING: At low exhaustiveness, it may be impossible to utilize all CPUs.\n",
      "WARNING: At low exhaustiveness, it may be impossible to utilize all CPUs.\n",
      "WARNING: At low exhaustiveness, it may be impossible to utilize all CPUs.\n",
      "WARNING: At low exhaustiveness, it may be impossible to utilize all CPUs.\n",
      "WARNING: At low exhaustiveness, it may be impossible to utilize all CPUs.\n"
     ]
    }
   ],
   "source": [
    "#load mols\n",
    "actives = [m for m in Chem.SmilesMolSupplier(\"actives.smi\",titleLine=False) if m]\n",
    "decoys = [m for m in Chem.SmilesMolSupplier(\"decoys.smi\",titleLine=False) if m]\n",
    "docked_actives = dock_mols(actives)\n",
    "docked_decoys = dock_mols(decoys)"
   ]
  },
  {
   "cell_type": "markdown",
   "id": "925a47b8-df19-4297-af10-9d5ebfb5cce0",
   "metadata": {},
   "source": [
    "# Visualize the scoring difference\n",
    "Using the AUC curve. This show moderate classification success, typical for docking"
   ]
  },
  {
   "cell_type": "code",
   "execution_count": 145,
   "id": "a9009a25-3bcc-4334-b937-d7fe29bd94c4",
   "metadata": {},
   "outputs": [],
   "source": [
    "docking_scores = []\n",
    "label = []\n",
    "#clean up scores\n",
    "for active in docked_actives:\n",
    "    label.append(1)\n",
    "    #get best score only\n",
    "    docking_scores.append(float(active.GetProp(\"Score\").split(\",\")[0]))\n",
    "for decoy in docked_decoys:\n",
    "    label.append(0)\n",
    "    #get best score only\n",
    "    docking_scores.append(float(decoy.GetProp(\"Score\").split(\",\")[0]))"
   ]
  },
  {
   "cell_type": "code",
   "execution_count": 150,
   "id": "a541e151-e0fa-4093-9221-932e3820ff24",
   "metadata": {},
   "outputs": [
    {
     "name": "stdout",
     "output_type": "stream",
     "text": [
      "0.6433333333333333\n"
     ]
    },
    {
     "data": {
      "image/png": "[encoded data removed]",
      "text/plain": [
       "<Figure size 640x480 with 1 Axes>"
      ]
     },
     "metadata": {},
     "output_type": "display_data"
    }
   ],
   "source": [
    "from sklearn.metrics import roc_curve,roc_auc_score\n",
    "from matplotlib import pyplot as plt\n",
    "\n",
    "print(roc_auc_score(label, [-x for x in docking_scores]))\n",
    "fpr, tpr, _ = roc_curve(label, [-x for x in docking_scores], pos_label=1)\n",
    "plt.plot(fpr,tpr,label=f\"AUC of {round(roc_auc_score(label, [-x for x in docking_scores]),3)}\")\n",
    "plt.plot([0,1],[0,1],label=\"Random performance\")\n",
    "plt.title(\"AUC curve\")\n",
    "plt.xlabel(\"FPR\")\n",
    "plt.ylabel(\"\")\n",
    "plt.legend()\n",
    "plt.show()"
   ]
  }
 ],
 "metadata": {
  "kernelspec": {
   "display_name": "Python 3 (ipykernel)",
   "language": "python",
   "name": "python3"
  },
  "language_info": {
   "codemirror_mode": {
    "name": "ipython",
    "version": 3
   },
   "file_extension": ".py",
   "mimetype": "text/x-python",
   "name": "python",
   "nbconvert_exporter": "python",
   "pygments_lexer": "ipython3",
   "version": "3.13.3"
  }
 },
 "nbformat": 4,
 "nbformat_minor": 5
}
