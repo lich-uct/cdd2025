{
 "cells": [
  {
   "cell_type": "markdown",
   "metadata": {},
   "source": [
    "Seminar 5"
   ]
  },
  {
   "cell_type": "code",
   "execution_count": 1,
   "metadata": {},
   "outputs": [],
   "source": [
    "from rdkit.Chem import AllChem as Chem\n",
    "from rdkit.Chem import Draw\n",
    "from rdkit.Chem.Draw import IPythonConsole\n",
    "import csv"
   ]
  },
  {
   "cell_type": "markdown",
   "metadata": {},
   "source": [
    "We say structures are similar if Tanimoto index is > 0.8"
   ]
  },
  {
   "cell_type": "code",
   "execution_count": 2,
   "metadata": {},
   "outputs": [
    {
     "name": "stderr",
     "output_type": "stream",
     "text": [
      "[12:29:03] Warning: ambiguous stereochemistry - opposing bonds have opposite wedging - at atom 28 ignored.\n",
      "[12:29:03] Warning: ambiguous stereochemistry - opposing bonds have opposite wedging - at atom 28 ignored.\n",
      "[12:29:03] Can't kekulize mol.  Unkekulized atoms: 1 2 3 5 6 7 8 9 10\n",
      "[12:29:03] ERROR: Could not sanitize molecule ending on line 250947\n",
      "[12:29:03] ERROR: Can't kekulize mol.  Unkekulized atoms: 1 2 3 5 6 7 8 9 10\n",
      "[12:29:03] Explicit valence for atom # 17 O, 2, is greater than permitted\n",
      "[12:29:03] ERROR: Could not sanitize molecule ending on line 258130\n",
      "[12:29:03] ERROR: Explicit valence for atom # 17 O, 2, is greater than permitted\n",
      "[12:29:03] Can't kekulize mol.  Unkekulized atoms: 57 58 59 60 61 62 63 64 65\n",
      "[12:29:03] ERROR: Could not sanitize molecule ending on line 261581\n",
      "[12:29:03] ERROR: Can't kekulize mol.  Unkekulized atoms: 57 58 59 60 61 62 63 64 65\n",
      "[12:29:03] Can't kekulize mol.  Unkekulized atoms: 0 1 2 6 7 8 9 10 11 12 13 14 15 16 17\n",
      "[12:29:03] ERROR: Could not sanitize molecule ending on line 280661\n",
      "[12:29:03] ERROR: Can't kekulize mol.  Unkekulized atoms: 0 1 2 6 7 8 9 10 11 12 13 14 15 16 17\n",
      "[12:29:03] Warning: ambiguous stereochemistry - zero final chiral volume - at atom 36 ignored\n",
      "[12:29:03] Explicit valence for atom # 13 Cl, 5, is greater than permitted\n",
      "[12:29:03] ERROR: Could not sanitize molecule ending on line 282635\n",
      "[12:29:03] ERROR: Explicit valence for atom # 13 Cl, 5, is greater than permitted\n",
      "[12:29:03] Can't kekulize mol.  Unkekulized atoms: 3 4 5 6 7 8 10 11 12\n",
      "[12:29:03] ERROR: Could not sanitize molecule ending on line 292762\n",
      "[12:29:03] ERROR: Can't kekulize mol.  Unkekulized atoms: 3 4 5 6 7 8 10 11 12\n",
      "[12:29:03] Can't kekulize mol.  Unkekulized atoms: 0 1 2 4 5 6 7 8 9 10\n",
      "[12:29:03] ERROR: Could not sanitize molecule ending on line 293836\n",
      "[12:29:03] ERROR: Can't kekulize mol.  Unkekulized atoms: 0 1 2 4 5 6 7 8 9 10\n",
      "[12:29:03] Can't kekulize mol.  Unkekulized atoms: 2 3 4 5 6 7 8 9 10\n",
      "[12:29:03] ERROR: Could not sanitize molecule ending on line 302815\n",
      "[12:29:03] ERROR: Can't kekulize mol.  Unkekulized atoms: 2 3 4 5 6 7 8 9 10\n",
      "[12:29:03] Can't kekulize mol.  Unkekulized atoms: 13 14 15 16 22\n",
      "[12:29:03] ERROR: Could not sanitize molecule ending on line 304047\n",
      "[12:29:03] ERROR: Can't kekulize mol.  Unkekulized atoms: 13 14 15 16 22\n",
      "[12:29:03] Explicit valence for atom # 27 N greater than permitted\n",
      "[12:29:03] ERROR: Could not sanitize molecule ending on line 317905\n",
      "[12:29:03] ERROR: Explicit valence for atom # 27 N greater than permitted\n",
      "[12:29:03] Explicit valence for atom # 16 N, 4, is greater than permitted\n",
      "[12:29:03] ERROR: Could not sanitize molecule ending on line 318439\n",
      "[12:29:03] ERROR: Explicit valence for atom # 16 N, 4, is greater than permitted\n",
      "[12:29:03] Can't kekulize mol.  Unkekulized atoms: 3 4 5 6 54\n",
      "[12:29:03] ERROR: Could not sanitize molecule ending on line 324910\n",
      "[12:29:03] ERROR: Can't kekulize mol.  Unkekulized atoms: 3 4 5 6 54\n",
      "[12:29:03] Can't kekulize mol.  Unkekulized atoms: 3 4 5 6 7\n",
      "[12:29:03] ERROR: Could not sanitize molecule ending on line 326050\n",
      "[12:29:03] ERROR: Can't kekulize mol.  Unkekulized atoms: 3 4 5 6 7\n",
      "[12:29:03] Can't kekulize mol.  Unkekulized atoms: 2 3 4 5 11\n",
      "[12:29:03] ERROR: Could not sanitize molecule ending on line 331986\n",
      "[12:29:03] ERROR: Can't kekulize mol.  Unkekulized atoms: 2 3 4 5 11\n",
      "[12:29:03] Can't kekulize mol.  Unkekulized atoms: 1 2 3 4 5 6 7 8 9\n",
      "[12:29:03] ERROR: Could not sanitize molecule ending on line 333287\n",
      "[12:29:03] ERROR: Can't kekulize mol.  Unkekulized atoms: 1 2 3 4 5 6 7 8 9\n",
      "[12:29:03] Can't kekulize mol.  Unkekulized atoms: 3 4 5 6 7\n",
      "[12:29:03] ERROR: Could not sanitize molecule ending on line 347574\n",
      "[12:29:03] ERROR: Can't kekulize mol.  Unkekulized atoms: 3 4 5 6 7\n",
      "[12:29:03] Can't kekulize mol.  Unkekulized atoms: 5 6 7 8 9 10 11 12 13\n",
      "[12:29:03] ERROR: Could not sanitize molecule ending on line 357505\n",
      "[12:29:03] ERROR: Can't kekulize mol.  Unkekulized atoms: 5 6 7 8 9 10 11 12 13\n",
      "[12:29:03] Can't kekulize mol.  Unkekulized atoms: 3 4 5 6 7\n",
      "[12:29:03] ERROR: Could not sanitize molecule ending on line 371006\n",
      "[12:29:03] ERROR: Can't kekulize mol.  Unkekulized atoms: 3 4 5 6 7\n",
      "[12:29:03] Can't kekulize mol.  Unkekulized atoms: 1 2 3 4 5 6 7 8 9\n",
      "[12:29:03] ERROR: Could not sanitize molecule ending on line 378618\n",
      "[12:29:03] ERROR: Can't kekulize mol.  Unkekulized atoms: 1 2 3 4 5 6 7 8 9\n",
      "[12:29:03] Can't kekulize mol.  Unkekulized atoms: 9 10 11 12 18\n",
      "[12:29:03] ERROR: Could not sanitize molecule ending on line 407765\n",
      "[12:29:03] ERROR: Can't kekulize mol.  Unkekulized atoms: 9 10 11 12 18\n",
      "[12:29:03] Can't kekulize mol.  Unkekulized atoms: 1 2 3 12 13 14 15 16 17\n",
      "[12:29:03] ERROR: Could not sanitize molecule ending on line 422810\n",
      "[12:29:03] ERROR: Can't kekulize mol.  Unkekulized atoms: 1 2 3 12 13 14 15 16 17\n",
      "[12:29:03] Can't kekulize mol.  Unkekulized atoms: 44 45 46 47 49\n",
      "[12:29:03] ERROR: Could not sanitize molecule ending on line 425190\n",
      "[12:29:03] ERROR: Can't kekulize mol.  Unkekulized atoms: 44 45 46 47 49\n",
      "[12:29:03] Explicit valence for atom # 8 N, 3, is greater than permitted\n",
      "[12:29:03] ERROR: Could not sanitize molecule ending on line 426332\n",
      "[12:29:03] ERROR: Explicit valence for atom # 8 N, 3, is greater than permitted\n",
      "[12:29:03] Can't kekulize mol.  Unkekulized atoms: 54 55 56 57 58 59 60 61 62\n",
      "[12:29:03] ERROR: Could not sanitize molecule ending on line 427901\n",
      "[12:29:03] ERROR: Can't kekulize mol.  Unkekulized atoms: 54 55 56 57 58 59 60 61 62\n",
      "[12:29:03] Can't kekulize mol.  Unkekulized atoms: 0 1 2 3 4 5 6 7 8\n",
      "[12:29:03] ERROR: Could not sanitize molecule ending on line 432118\n",
      "[12:29:03] ERROR: Can't kekulize mol.  Unkekulized atoms: 0 1 2 3 4 5 6 7 8\n",
      "[12:29:03] Can't kekulize mol.  Unkekulized atoms: 3 4 5 6 8 9 10\n",
      "[12:29:03] ERROR: Could not sanitize molecule ending on line 442989\n",
      "[12:29:03] ERROR: Can't kekulize mol.  Unkekulized atoms: 3 4 5 6 8 9 10\n",
      "[12:29:03] Can't kekulize mol.  Unkekulized atoms: 3 4 5 6 9\n",
      "[12:29:03] ERROR: Could not sanitize molecule ending on line 447465\n",
      "[12:29:03] ERROR: Can't kekulize mol.  Unkekulized atoms: 3 4 5 6 9\n",
      "[12:29:03] Can't kekulize mol.  Unkekulized atoms: 16 17 18 19 20\n",
      "[12:29:03] ERROR: Could not sanitize molecule ending on line 466177\n",
      "[12:29:03] ERROR: Can't kekulize mol.  Unkekulized atoms: 16 17 18 19 20\n",
      "[12:29:03] Can't kekulize mol.  Unkekulized atoms: 7 8 9 10 17\n",
      "[12:29:03] ERROR: Could not sanitize molecule ending on line 468852\n",
      "[12:29:03] ERROR: Can't kekulize mol.  Unkekulized atoms: 7 8 9 10 17\n",
      "[12:29:03] Can't kekulize mol.  Unkekulized atoms: 3 4 5 6 7 8 9 10 11\n",
      "[12:29:03] ERROR: Could not sanitize molecule ending on line 469201\n",
      "[12:29:03] ERROR: Can't kekulize mol.  Unkekulized atoms: 3 4 5 6 7 8 9 10 11\n",
      "[12:29:03] Explicit valence for atom # 53 N, 4, is greater than permitted\n",
      "[12:29:03] ERROR: Could not sanitize molecule ending on line 472285\n",
      "[12:29:03] ERROR: Explicit valence for atom # 53 N, 4, is greater than permitted\n",
      "[12:29:03] Can't kekulize mol.  Unkekulized atoms: 2 3 4 5 12\n",
      "[12:29:03] ERROR: Could not sanitize molecule ending on line 480504\n",
      "[12:29:03] ERROR: Can't kekulize mol.  Unkekulized atoms: 2 3 4 5 12\n",
      "[12:29:03] Explicit valence for atom # 3 Ga, 6, is greater than permitted\n",
      "[12:29:03] ERROR: Could not sanitize molecule ending on line 499305\n",
      "[12:29:03] ERROR: Explicit valence for atom # 3 Ga, 6, is greater than permitted\n",
      "[12:29:03] Can't kekulize mol.  Unkekulized atoms: 1 2 3 4 5 6 7 8 9\n",
      "[12:29:03] ERROR: Could not sanitize molecule ending on line 503342\n",
      "[12:29:03] ERROR: Can't kekulize mol.  Unkekulized atoms: 1 2 3 4 5 6 7 8 9\n",
      "[12:29:03] The bonds on one end of an atropisomer are both UP or both DOWN - atoms are: 4 5\n",
      "[12:29:03] Can't kekulize mol.  Unkekulized atoms: 0 1 2 4 5 6 7 8 9 10\n",
      "[12:29:03] ERROR: Could not sanitize molecule ending on line 508068\n",
      "[12:29:03] ERROR: Can't kekulize mol.  Unkekulized atoms: 0 1 2 4 5 6 7 8 9 10\n",
      "[12:29:03] Can't kekulize mol.  Unkekulized atoms: 1 2 3 4 5 6 7 8 9\n",
      "[12:29:03] ERROR: Could not sanitize molecule ending on line 510069\n",
      "[12:29:03] ERROR: Can't kekulize mol.  Unkekulized atoms: 1 2 3 4 5 6 7 8 9\n",
      "[12:29:03] Can't kekulize mol.  Unkekulized atoms: 3 4 5 6 7 8 10\n",
      "[12:29:03] ERROR: Could not sanitize molecule ending on line 511111\n",
      "[12:29:03] ERROR: Can't kekulize mol.  Unkekulized atoms: 3 4 5 6 7 8 10\n",
      "[12:29:03] Can't kekulize mol.  Unkekulized atoms: 1 2 3 5 6 7 8 9 10\n",
      "[12:29:03] ERROR: Could not sanitize molecule ending on line 512030\n",
      "[12:29:03] ERROR: Can't kekulize mol.  Unkekulized atoms: 1 2 3 5 6 7 8 9 10\n",
      "[12:29:03] Explicit valence for atom # 6 B, 4, is greater than permitted\n",
      "[12:29:03] ERROR: Could not sanitize molecule ending on line 541262\n",
      "[12:29:03] ERROR: Explicit valence for atom # 6 B, 4, is greater than permitted\n",
      "[12:29:03] Can't kekulize mol.  Unkekulized atoms: 2 3 17 19 20\n",
      "[12:29:03] ERROR: Could not sanitize molecule ending on line 557517\n",
      "[12:29:03] ERROR: Can't kekulize mol.  Unkekulized atoms: 2 3 17 19 20\n",
      "[12:29:03] Can't kekulize mol.  Unkekulized atoms: 0 1 2 4 5 6 7 8 9 10\n",
      "[12:29:03] ERROR: Could not sanitize molecule ending on line 561344\n",
      "[12:29:03] ERROR: Can't kekulize mol.  Unkekulized atoms: 0 1 2 4 5 6 7 8 9 10\n",
      "[12:29:03] Can't kekulize mol.  Unkekulized atoms: 10 11 12 13 19\n",
      "[12:29:03] ERROR: Could not sanitize molecule ending on line 562947\n",
      "[12:29:03] ERROR: Can't kekulize mol.  Unkekulized atoms: 10 11 12 13 19\n",
      "[12:29:03] Explicit valence for atom # 27 N, 4, is greater than permitted\n",
      "[12:29:03] ERROR: Could not sanitize molecule ending on line 567073\n",
      "[12:29:03] ERROR: Explicit valence for atom # 27 N, 4, is greater than permitted\n",
      "[12:29:03] Can't kekulize mol.  Unkekulized atoms: 9 10 11 12 13 14 15 16 17\n",
      "[12:29:03] ERROR: Could not sanitize molecule ending on line 568252\n",
      "[12:29:03] ERROR: Can't kekulize mol.  Unkekulized atoms: 9 10 11 12 13 14 15 16 17\n",
      "[12:29:03] Can't kekulize mol.  Unkekulized atoms: 23 24 25 26 27\n",
      "[12:29:03] ERROR: Could not sanitize molecule ending on line 574645\n",
      "[12:29:03] ERROR: Can't kekulize mol.  Unkekulized atoms: 23 24 25 26 27\n",
      "[12:29:03] Can't kekulize mol.  Unkekulized atoms: 5 6 7 8 9\n",
      "[12:29:03] ERROR: Could not sanitize molecule ending on line 592639\n",
      "[12:29:03] ERROR: Can't kekulize mol.  Unkekulized atoms: 5 6 7 8 9\n",
      "[12:29:03] Explicit valence for atom # 15 O, 3, is greater than permitted\n",
      "[12:29:03] ERROR: Could not sanitize molecule ending on line 595909\n",
      "[12:29:03] ERROR: Explicit valence for atom # 15 O, 3, is greater than permitted\n",
      "[12:29:03] WARNING: could not find number of expected rings. Switching to an approximate ring finding algorithm.\n",
      "[12:29:03] Explicit valence for atom # 0 Br greater than permitted\n",
      "[12:29:03] ERROR: Could not sanitize molecule ending on line 599041\n",
      "[12:29:03] ERROR: Explicit valence for atom # 0 Br greater than permitted\n",
      "[12:29:03] Explicit valence for atom # 1 N, 4, is greater than permitted\n",
      "[12:29:03] ERROR: Could not sanitize molecule ending on line 601819\n",
      "[12:29:03] ERROR: Explicit valence for atom # 1 N, 4, is greater than permitted\n",
      "[12:29:03] Explicit valence for atom # 6 Be, 4, is greater than permitted\n",
      "[12:29:03] ERROR: Could not sanitize molecule ending on line 604427\n",
      "[12:29:03] ERROR: Explicit valence for atom # 6 Be, 4, is greater than permitted\n",
      "[12:29:03] Can't kekulize mol.  Unkekulized atoms: 4 5 6 7 8 9 10 11 12\n",
      "[12:29:03] ERROR: Could not sanitize molecule ending on line 604912\n",
      "[12:29:03] ERROR: Can't kekulize mol.  Unkekulized atoms: 4 5 6 7 8 9 10 11 12\n",
      "[12:29:03] Can't kekulize mol.  Unkekulized atoms: 5 6 7 8 9 10 11 12 13\n",
      "[12:29:03] ERROR: Could not sanitize molecule ending on line 616025\n",
      "[12:29:03] ERROR: Can't kekulize mol.  Unkekulized atoms: 5 6 7 8 9 10 11 12 13\n",
      "[12:29:03] Can't kekulize mol.  Unkekulized atoms: 1 2 3 5 6 7 8 9 10\n",
      "[12:29:03] ERROR: Could not sanitize molecule ending on line 623202\n",
      "[12:29:03] ERROR: Can't kekulize mol.  Unkekulized atoms: 1 2 3 5 6 7 8 9 10\n",
      "[12:29:03] Can't kekulize mol.  Unkekulized atoms: 5 6 7 8 9 10 11 12 13\n",
      "[12:29:03] ERROR: Could not sanitize molecule ending on line 628065\n",
      "[12:29:03] ERROR: Can't kekulize mol.  Unkekulized atoms: 5 6 7 8 9 10 11 12 13\n",
      "[12:29:03] Explicit valence for atom # 19 N greater than permitted\n",
      "[12:29:03] ERROR: Could not sanitize molecule ending on line 636938\n",
      "[12:29:03] ERROR: Explicit valence for atom # 19 N greater than permitted\n",
      "[12:29:03] Explicit valence for atom # 0 O, 1, is greater than permitted\n",
      "[12:29:03] ERROR: Could not sanitize molecule ending on line 640674\n",
      "[12:29:03] ERROR: Explicit valence for atom # 0 O, 1, is greater than permitted\n",
      "[12:29:03] Explicit valence for atom # 1 Al, 4, is greater than permitted\n",
      "[12:29:03] ERROR: Could not sanitize molecule ending on line 645068\n",
      "[12:29:03] ERROR: Explicit valence for atom # 1 Al, 4, is greater than permitted\n",
      "[12:29:03] Can't kekulize mol.  Unkekulized atoms: 0 1 2 4 5 6 7 8 9 10\n",
      "[12:29:03] ERROR: Could not sanitize molecule ending on line 659994\n",
      "[12:29:03] ERROR: Can't kekulize mol.  Unkekulized atoms: 0 1 2 4 5 6 7 8 9 10\n",
      "[12:29:03] Warning: ambiguous stereochemistry - overlapping neighbors  - at atom 16 ignored\n",
      "[12:29:03] Warning: ambiguous stereochemistry - opposing bonds have opposite wedging - at atom 20 ignored.\n",
      "[12:29:03] Warning: ambiguous stereochemistry - opposing bonds have opposite wedging - at atom 20 ignored.\n",
      "[12:29:03] Explicit valence for atom # 0 Be, 4, is greater than permitted\n",
      "[12:29:03] ERROR: Could not sanitize molecule ending on line 995692\n",
      "[12:29:03] ERROR: Explicit valence for atom # 0 Be, 4, is greater than permitted\n",
      "[12:29:03] The 2 defining bonds for an atropisomer are co-planar - atoms are: 2 3\n",
      "[12:29:03] Explicit valence for atom # 0 C greater than permitted\n",
      "[12:29:03] ERROR: Could not sanitize molecule ending on line 1151592\n",
      "[12:29:03] ERROR: Explicit valence for atom # 0 C greater than permitted\n"
     ]
    }
   ],
   "source": [
    "# load your own set, and DrugBank :)\n",
    "with open('/Users/emafialova/cdd2025/data/chembl_mtor_ic50.csv', 'r') as csvfile:\n",
    "    reader = csv.DictReader(csvfile, delimiter=\";\")\n",
    "    mtor_ligands = [Chem.MolFromSmiles(m['Smiles']) for m in reader]\n",
    "\n",
    "suppl = Chem.SDMolSupplier('/Users/emafialova/cdd2025/data/drugbank.sdf')\n",
    "drugs = [m for m in suppl if m]"
   ]
  },
  {
   "cell_type": "code",
   "execution_count": 3,
   "metadata": {},
   "outputs": [
    {
     "data": {
      "text/plain": [
       "<rdkit.DataStructs.cDataStructs.ULongSparseIntVect at 0x111b714d0>"
      ]
     },
     "execution_count": 3,
     "metadata": {},
     "output_type": "execute_result"
    }
   ],
   "source": [
    "from rdkit.Chem import AllChem\n",
    "fpgen = AllChem.GetMorganGenerator(radius=2)\n",
    "m1 = Chem.MolFromSmiles('Cc1ccccc1')\n",
    "fp1 = fpgen.GetSparseCountFingerprint(m1)\n",
    "fp1"
   ]
  },
  {
   "cell_type": "code",
   "execution_count": 4,
   "metadata": {},
   "outputs": [
    {
     "data": {
      "text/plain": [
       "{98513984: 3,\n",
       " 422715066: 1,\n",
       " 908339072: 1,\n",
       " 951226070: 2,\n",
       " 2246728737: 1,\n",
       " 2763854213: 1,\n",
       " 3207567135: 1,\n",
       " 3217380708: 1,\n",
       " 3218693969: 5,\n",
       " 3999906991: 2,\n",
       " 4244175903: 2}"
      ]
     },
     "execution_count": 4,
     "metadata": {},
     "output_type": "execute_result"
    }
   ],
   "source": [
    "fp1.GetNonzeroElements()"
   ]
  },
  {
   "cell_type": "code",
   "execution_count": 5,
   "metadata": {},
   "outputs": [
    {
     "data": {
      "text/plain": [
       "b\"\\x01\\x00\\x00\\x00\\x08\\x00\\x00\\x00\\xff\\xff\\xff\\xff\\xff\\xff\\xff\\xff\\x0b\\x00\\x00\\x00\\x00\\x00\\x00\\x00@4\\xdf\\x05\\x00\\x00\\x00\\x00\\x03\\x00\\x00\\x00\\xba\\x1e2\\x19\\x00\\x00\\x00\\x00\\x01\\x00\\x00\\x00\\x80'$6\\x00\\x00\\x00\\x00\\x01\\x00\\x00\\x00\\xd6\\x8e\\xb28\\x00\\x00\\x00\\x00\\x02\\x00\\x00\\x00!\\\\\\xea\\x85\\x00\\x00\\x00\\x00\\x01\\x00\\x00\\x00\\x85\\x11\\xbd\\xa4\\x00\\x00\\x00\\x00\\x01\\x00\\x00\\x00\\x1f\\x97/\\xbf\\x00\\x00\\x00\\x00\\x01\\x00\\x00\\x00dU\\xc5\\xbf\\x00\\x00\\x00\\x00\\x01\\x00\\x00\\x00Q_\\xd9\\xbf\\x00\\x00\\x00\\x00\\x05\\x00\\x00\\x00\\xaf\\xbci\\xee\\x00\\x00\\x00\\x00\\x02\\x00\\x00\\x00\\x1f\\xfc\\xf8\\xfc\\x00\\x00\\x00\\x00\\x02\\x00\\x00\\x00\""
      ]
     },
     "execution_count": 5,
     "metadata": {},
     "output_type": "execute_result"
    }
   ],
   "source": [
    "fp1.ToBinary()"
   ]
  },
  {
   "cell_type": "code",
   "execution_count": 10,
   "metadata": {},
   "outputs": [
    {
     "data": {
      "text/plain": [
       "[389, 1055, 1057, 1088, 1199, 1380, 1722, 1750, 1823, 1873, 1920]"
      ]
     },
     "execution_count": 10,
     "metadata": {},
     "output_type": "execute_result"
    }
   ],
   "source": [
    "fp2 = fpgen.GetFingerprint(m1)\n",
    "list(fp2.GetOnBits())"
   ]
  },
  {
   "cell_type": "markdown",
   "metadata": {},
   "source": [
    "Looking for molecules from mtor that are similar to molecules in drugbank = need to know which ones."
   ]
  },
  {
   "cell_type": "code",
   "execution_count": 31,
   "metadata": {},
   "outputs": [],
   "source": [
    "from rdkit import DataStructs\n",
    "def similarity_search(fp, fps, threshold = 0.8):\n",
    "    similar = []\n",
    "    for index, i in enumerate(fps):\n",
    "        similarity = DataStructs.TanimotoSimilarity(fp, i)\n",
    "        if similarity >= threshold:\n",
    "            similar.append(index)\n",
    "    return similar"
   ]
  },
  {
   "cell_type": "code",
   "execution_count": 12,
   "metadata": {},
   "outputs": [],
   "source": [
    "drug_fps = [fpgen.GetFingerprint(drug) for drug in drugs]\n",
    "mtor_fps = [fpgen.GetFingerprint(drug) for drug in mtor_ligands]"
   ]
  },
  {
   "cell_type": "code",
   "execution_count": 32,
   "metadata": {},
   "outputs": [],
   "source": [
    "result = [(index, similarity_search(mtor, drug_fps)) for index, mtor in enumerate(mtor_fps)]"
   ]
  },
  {
   "cell_type": "code",
   "execution_count": 34,
   "metadata": {},
   "outputs": [
    {
     "data": {
      "text/plain": [
       "56"
      ]
     },
     "execution_count": 34,
     "metadata": {},
     "output_type": "execute_result"
    }
   ],
   "source": [
    "len([(m,ds) for m,ds in result if len(ds)])"
   ]
  },
  {
   "cell_type": "code",
   "execution_count": 35,
   "metadata": {},
   "outputs": [
    {
     "name": "stdout",
     "output_type": "stream",
     "text": [
      "[(17, [1099]), (23, [760, 1377, 4580]), (36, [5903]), (77, [760, 1377]), (145, [287, 6682]), (205, [5905]), (211, [5904]), (218, [5214]), (317, [760, 1377, 4580]), (338, [1700]), (373, [747]), (379, [760, 1377, 4580]), (496, [1130]), (517, [4580]), (540, [5910]), (551, [747]), (566, [5468]), (888, [5904]), (889, [5904]), (906, [6143]), (954, [6143]), (1002, [287, 6682]), (1045, [2344]), (1057, [760]), (1060, [2344]), (1067, [760, 1377, 4580]), (1095, [1141, 5860]), (1134, [5121]), (1218, [92]), (1274, [1575]), (1312, [2344]), (1322, [760, 1377, 4580]), (1391, [2344]), (1406, [760, 1377, 4580]), (1416, [760, 1377, 4580]), (1520, [4580]), (1542, [760, 1377, 4580]), (1550, [4580]), (1600, [2344]), (1629, [1700]), (1712, [2344]), (1730, [2344]), (1777, [5904]), (1783, [208]), (1818, [5905]), (1825, [5904]), (1826, [5903]), (1827, [5904]), (1939, [1130]), (2024, [760, 1377, 4580]), (2796, [2344]), (2807, [1756]), (3046, [5903]), (3047, [5214]), (3200, [2344]), (3478, [6804])]\n"
     ]
    }
   ],
   "source": [
    "relevant = [(m,ds) for m,ds in result if len(ds)]\n",
    "print(relevant)"
   ]
  },
  {
   "cell_type": "code",
   "execution_count": 37,
   "metadata": {},
   "outputs": [
    {
     "ename": "TypeError",
     "evalue": "object of type 'Mol' has no len()",
     "output_type": "error",
     "traceback": [
      "\u001b[0;31m---------------------------------------------------------------------------\u001b[0m",
      "\u001b[0;31mTypeError\u001b[0m                                 Traceback (most recent call last)",
      "Cell \u001b[0;32mIn[37], line 2\u001b[0m\n\u001b[1;32m      1\u001b[0m \u001b[38;5;28;01mfor\u001b[39;00m i \u001b[38;5;129;01min\u001b[39;00m relevant[:\u001b[38;5;241m4\u001b[39m]:\n\u001b[0;32m----> 2\u001b[0m     \u001b[43mDraw\u001b[49m\u001b[38;5;241;43m.\u001b[39;49m\u001b[43mMolsToGridImage\u001b[49m\u001b[43m(\u001b[49m\u001b[43mmtor_ligands\u001b[49m\u001b[43m[\u001b[49m\u001b[43mi\u001b[49m\u001b[43m[\u001b[49m\u001b[38;5;241;43m0\u001b[39;49m\u001b[43m]\u001b[49m\u001b[43m]\u001b[49m\u001b[43m)\u001b[49m\n",
      "File \u001b[0;32m/opt/homebrew/Caskroom/miniconda/base/lib/python3.12/site-packages/rdkit/Chem/Draw/IPythonConsole.py:342\u001b[0m, in \u001b[0;36mShowMols\u001b[0;34m(mols, maxMols, **kwargs)\u001b[0m\n\u001b[1;32m    339\u001b[0m \u001b[38;5;28;01melse\u001b[39;00m:\n\u001b[1;32m    340\u001b[0m   fn \u001b[38;5;241m=\u001b[39m Draw\u001b[38;5;241m.\u001b[39mMolsToGridImage\n\u001b[0;32m--> 342\u001b[0m \u001b[38;5;28;01mif\u001b[39;00m \u001b[38;5;28;43mlen\u001b[39;49m\u001b[43m(\u001b[49m\u001b[43mmols\u001b[49m\u001b[43m)\u001b[49m \u001b[38;5;241m>\u001b[39m maxMols:\n\u001b[1;32m    343\u001b[0m   warnings\u001b[38;5;241m.\u001b[39mwarn(\n\u001b[1;32m    344\u001b[0m     \u001b[38;5;124m\"\u001b[39m\u001b[38;5;124mTruncating the list of molecules to be displayed to \u001b[39m\u001b[38;5;132;01m%d\u001b[39;00m\u001b[38;5;124m. Change the maxMols value to display more.\u001b[39m\u001b[38;5;124m\"\u001b[39m\n\u001b[1;32m    345\u001b[0m     \u001b[38;5;241m%\u001b[39m (maxMols))\n\u001b[1;32m    346\u001b[0m   mols \u001b[38;5;241m=\u001b[39m mols[:maxMols]\n",
      "\u001b[0;31mTypeError\u001b[0m: object of type 'Mol' has no len()"
     ]
    }
   ],
   "source": [
    "for i in relevant[:4]:\n",
    "    Draw.MolsToGridImage(mtor_ligands[i[0]])"
   ]
  }
 ],
 "metadata": {
  "kernelspec": {
   "display_name": "base",
   "language": "python",
   "name": "python3"
  },
  "language_info": {
   "codemirror_mode": {
    "name": "ipython",
    "version": 3
   },
   "file_extension": ".py",
   "mimetype": "text/x-python",
   "name": "python",
   "nbconvert_exporter": "python",
   "pygments_lexer": "ipython3",
   "version": "3.12.2"
  }
 },
 "nbformat": 4,
 "nbformat_minor": 2
}
