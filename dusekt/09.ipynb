{
 "cells": [
  {
   "cell_type": "code",
   "execution_count": 2,
   "id": "cba72b77-78db-4071-906b-d1ede4aa2ddf",
   "metadata": {},
   "outputs": [],
   "source": [
    "from rdkit.Chem import AllChem as Chem\n",
    "from rdkit.Chem import Draw\n",
    "from rdkit.Chem.Draw import IPythonConsole\n",
    "import csv"
   ]
  },
  {
   "cell_type": "code",
   "execution_count": 3,
   "id": "32b980ac-a49e-4bfa-890b-15f7ba590e45",
   "metadata": {},
   "outputs": [
    {
     "name": "stderr",
     "output_type": "stream",
     "text": [
      "[12:26:48] Warning: ambiguous stereochemistry - opposing bonds have opposite wedging - at atom 28 ignored.\n",
      "[12:26:48] Warning: ambiguous stereochemistry - opposing bonds have opposite wedging - at atom 28 ignored.\n",
      "[12:26:49] Can't kekulize mol.  Unkekulized atoms: 1 2 3 5 6 7 8 9 10\n",
      "[12:26:49] ERROR: Could not sanitize molecule ending on line 250947\n",
      "[12:26:49] ERROR: Can't kekulize mol.  Unkekulized atoms: 1 2 3 5 6 7 8 9 10\n",
      "[12:26:49] Explicit valence for atom # 17 O, 2, is greater than permitted\n",
      "[12:26:49] ERROR: Could not sanitize molecule ending on line 258130\n",
      "[12:26:49] ERROR: Explicit valence for atom # 17 O, 2, is greater than permitted\n",
      "[12:26:49] Can't kekulize mol.  Unkekulized atoms: 57 58 59 60 61 62 63 64 65\n",
      "[12:26:49] ERROR: Could not sanitize molecule ending on line 261581\n",
      "[12:26:49] ERROR: Can't kekulize mol.  Unkekulized atoms: 57 58 59 60 61 62 63 64 65\n",
      "[12:26:49] Can't kekulize mol.  Unkekulized atoms: 0 1 2 6 7 8 9 10 11 12 13 14 15 16 17\n",
      "[12:26:49] ERROR: Could not sanitize molecule ending on line 280661\n",
      "[12:26:49] ERROR: Can't kekulize mol.  Unkekulized atoms: 0 1 2 6 7 8 9 10 11 12 13 14 15 16 17\n",
      "[12:26:49] Warning: ambiguous stereochemistry - zero final chiral volume - at atom 36 ignored\n",
      "[12:26:49] Explicit valence for atom # 13 Cl, 5, is greater than permitted\n",
      "[12:26:49] ERROR: Could not sanitize molecule ending on line 282635\n",
      "[12:26:49] ERROR: Explicit valence for atom # 13 Cl, 5, is greater than permitted\n",
      "[12:26:49] Can't kekulize mol.  Unkekulized atoms: 3 4 5 6 7 8 10 11 12\n",
      "[12:26:49] ERROR: Could not sanitize molecule ending on line 292762\n",
      "[12:26:49] ERROR: Can't kekulize mol.  Unkekulized atoms: 3 4 5 6 7 8 10 11 12\n",
      "[12:26:49] Can't kekulize mol.  Unkekulized atoms: 0 1 2 4 5 6 7 8 9 10\n",
      "[12:26:49] ERROR: Could not sanitize molecule ending on line 293836\n",
      "[12:26:49] ERROR: Can't kekulize mol.  Unkekulized atoms: 0 1 2 4 5 6 7 8 9 10\n",
      "[12:26:49] Can't kekulize mol.  Unkekulized atoms: 2 3 4 5 6 7 8 9 10\n",
      "[12:26:49] ERROR: Could not sanitize molecule ending on line 302815\n",
      "[12:26:49] ERROR: Can't kekulize mol.  Unkekulized atoms: 2 3 4 5 6 7 8 9 10\n",
      "[12:26:49] Can't kekulize mol.  Unkekulized atoms: 13 14 15 16 22\n",
      "[12:26:49] ERROR: Could not sanitize molecule ending on line 304047\n",
      "[12:26:49] ERROR: Can't kekulize mol.  Unkekulized atoms: 13 14 15 16 22\n",
      "[12:26:49] Explicit valence for atom # 27 N greater than permitted\n",
      "[12:26:49] ERROR: Could not sanitize molecule ending on line 317905\n",
      "[12:26:49] ERROR: Explicit valence for atom # 27 N greater than permitted\n",
      "[12:26:49] Explicit valence for atom # 16 N, 4, is greater than permitted\n",
      "[12:26:49] ERROR: Could not sanitize molecule ending on line 318439\n",
      "[12:26:49] ERROR: Explicit valence for atom # 16 N, 4, is greater than permitted\n",
      "[12:26:49] Can't kekulize mol.  Unkekulized atoms: 3 4 5 6 54\n",
      "[12:26:49] ERROR: Could not sanitize molecule ending on line 324910\n",
      "[12:26:49] ERROR: Can't kekulize mol.  Unkekulized atoms: 3 4 5 6 54\n",
      "[12:26:49] Can't kekulize mol.  Unkekulized atoms: 3 4 5 6 7\n",
      "[12:26:49] ERROR: Could not sanitize molecule ending on line 326050\n",
      "[12:26:49] ERROR: Can't kekulize mol.  Unkekulized atoms: 3 4 5 6 7\n",
      "[12:26:49] Can't kekulize mol.  Unkekulized atoms: 2 3 4 5 11\n",
      "[12:26:49] ERROR: Could not sanitize molecule ending on line 331986\n",
      "[12:26:49] ERROR: Can't kekulize mol.  Unkekulized atoms: 2 3 4 5 11\n",
      "[12:26:49] Can't kekulize mol.  Unkekulized atoms: 1 2 3 4 5 6 7 8 9\n",
      "[12:26:49] ERROR: Could not sanitize molecule ending on line 333287\n",
      "[12:26:49] ERROR: Can't kekulize mol.  Unkekulized atoms: 1 2 3 4 5 6 7 8 9\n",
      "[12:26:49] Can't kekulize mol.  Unkekulized atoms: 3 4 5 6 7\n",
      "[12:26:49] ERROR: Could not sanitize molecule ending on line 347574\n",
      "[12:26:49] ERROR: Can't kekulize mol.  Unkekulized atoms: 3 4 5 6 7\n",
      "[12:26:49] Can't kekulize mol.  Unkekulized atoms: 5 6 7 8 9 10 11 12 13\n",
      "[12:26:49] ERROR: Could not sanitize molecule ending on line 357505\n",
      "[12:26:49] ERROR: Can't kekulize mol.  Unkekulized atoms: 5 6 7 8 9 10 11 12 13\n",
      "[12:26:49] Can't kekulize mol.  Unkekulized atoms: 3 4 5 6 7\n",
      "[12:26:49] ERROR: Could not sanitize molecule ending on line 371006\n",
      "[12:26:49] ERROR: Can't kekulize mol.  Unkekulized atoms: 3 4 5 6 7\n",
      "[12:26:49] Can't kekulize mol.  Unkekulized atoms: 1 2 3 4 5 6 7 8 9\n",
      "[12:26:49] ERROR: Could not sanitize molecule ending on line 378618\n",
      "[12:26:49] ERROR: Can't kekulize mol.  Unkekulized atoms: 1 2 3 4 5 6 7 8 9\n",
      "[12:26:50] Can't kekulize mol.  Unkekulized atoms: 9 10 11 12 18\n",
      "[12:26:50] ERROR: Could not sanitize molecule ending on line 407765\n",
      "[12:26:50] ERROR: Can't kekulize mol.  Unkekulized atoms: 9 10 11 12 18\n",
      "[12:26:50] Can't kekulize mol.  Unkekulized atoms: 1 2 3 12 13 14 15 16 17\n",
      "[12:26:50] ERROR: Could not sanitize molecule ending on line 422810\n",
      "[12:26:50] ERROR: Can't kekulize mol.  Unkekulized atoms: 1 2 3 12 13 14 15 16 17\n",
      "[12:26:50] Can't kekulize mol.  Unkekulized atoms: 44 45 46 47 49\n",
      "[12:26:50] ERROR: Could not sanitize molecule ending on line 425190\n",
      "[12:26:50] ERROR: Can't kekulize mol.  Unkekulized atoms: 44 45 46 47 49\n",
      "[12:26:50] Explicit valence for atom # 8 N, 3, is greater than permitted\n",
      "[12:26:50] ERROR: Could not sanitize molecule ending on line 426332\n",
      "[12:26:50] ERROR: Explicit valence for atom # 8 N, 3, is greater than permitted\n",
      "[12:26:50] Can't kekulize mol.  Unkekulized atoms: 54 55 56 57 58 59 60 61 62\n",
      "[12:26:50] ERROR: Could not sanitize molecule ending on line 427901\n",
      "[12:26:50] ERROR: Can't kekulize mol.  Unkekulized atoms: 54 55 56 57 58 59 60 61 62\n",
      "[12:26:50] Can't kekulize mol.  Unkekulized atoms: 0 1 2 3 4 5 6 7 8\n",
      "[12:26:50] ERROR: Could not sanitize molecule ending on line 432118\n",
      "[12:26:50] ERROR: Can't kekulize mol.  Unkekulized atoms: 0 1 2 3 4 5 6 7 8\n",
      "[12:26:50] Can't kekulize mol.  Unkekulized atoms: 3 4 5 6 8 9 10\n",
      "[12:26:50] ERROR: Could not sanitize molecule ending on line 442989\n",
      "[12:26:50] ERROR: Can't kekulize mol.  Unkekulized atoms: 3 4 5 6 8 9 10\n",
      "[12:26:50] Can't kekulize mol.  Unkekulized atoms: 3 4 5 6 9\n",
      "[12:26:50] ERROR: Could not sanitize molecule ending on line 447465\n",
      "[12:26:50] ERROR: Can't kekulize mol.  Unkekulized atoms: 3 4 5 6 9\n",
      "[12:26:50] Can't kekulize mol.  Unkekulized atoms: 16 17 18 19 20\n",
      "[12:26:50] ERROR: Could not sanitize molecule ending on line 466177\n",
      "[12:26:50] ERROR: Can't kekulize mol.  Unkekulized atoms: 16 17 18 19 20\n",
      "[12:26:50] Can't kekulize mol.  Unkekulized atoms: 7 8 9 10 17\n",
      "[12:26:50] ERROR: Could not sanitize molecule ending on line 468852\n",
      "[12:26:50] ERROR: Can't kekulize mol.  Unkekulized atoms: 7 8 9 10 17\n",
      "[12:26:50] Can't kekulize mol.  Unkekulized atoms: 3 4 5 6 7 8 9 10 11\n",
      "[12:26:50] ERROR: Could not sanitize molecule ending on line 469201\n",
      "[12:26:50] ERROR: Can't kekulize mol.  Unkekulized atoms: 3 4 5 6 7 8 9 10 11\n",
      "[12:26:50] Explicit valence for atom # 53 N, 4, is greater than permitted\n",
      "[12:26:50] ERROR: Could not sanitize molecule ending on line 472285\n",
      "[12:26:50] ERROR: Explicit valence for atom # 53 N, 4, is greater than permitted\n",
      "[12:26:50] Can't kekulize mol.  Unkekulized atoms: 2 3 4 5 12\n",
      "[12:26:50] ERROR: Could not sanitize molecule ending on line 480504\n",
      "[12:26:50] ERROR: Can't kekulize mol.  Unkekulized atoms: 2 3 4 5 12\n",
      "[12:26:50] Explicit valence for atom # 3 Ga, 6, is greater than permitted\n",
      "[12:26:50] ERROR: Could not sanitize molecule ending on line 499305\n",
      "[12:26:50] ERROR: Explicit valence for atom # 3 Ga, 6, is greater than permitted\n",
      "[12:26:50] Can't kekulize mol.  Unkekulized atoms: 1 2 3 4 5 6 7 8 9\n",
      "[12:26:50] ERROR: Could not sanitize molecule ending on line 503342\n",
      "[12:26:50] ERROR: Can't kekulize mol.  Unkekulized atoms: 1 2 3 4 5 6 7 8 9\n",
      "[12:26:50] The bonds on one end of an atropisomer are both UP or both DOWN - atoms are: 4 5\n",
      "[12:26:50] Can't kekulize mol.  Unkekulized atoms: 0 1 2 4 5 6 7 8 9 10\n",
      "[12:26:50] ERROR: Could not sanitize molecule ending on line 508068\n",
      "[12:26:50] ERROR: Can't kekulize mol.  Unkekulized atoms: 0 1 2 4 5 6 7 8 9 10\n",
      "[12:26:50] Can't kekulize mol.  Unkekulized atoms: 1 2 3 4 5 6 7 8 9\n",
      "[12:26:50] ERROR: Could not sanitize molecule ending on line 510069\n",
      "[12:26:50] ERROR: Can't kekulize mol.  Unkekulized atoms: 1 2 3 4 5 6 7 8 9\n",
      "[12:26:50] Can't kekulize mol.  Unkekulized atoms: 3 4 5 6 7 8 10\n",
      "[12:26:50] ERROR: Could not sanitize molecule ending on line 511111\n",
      "[12:26:50] ERROR: Can't kekulize mol.  Unkekulized atoms: 3 4 5 6 7 8 10\n",
      "[12:26:50] Can't kekulize mol.  Unkekulized atoms: 1 2 3 5 6 7 8 9 10\n",
      "[12:26:50] ERROR: Could not sanitize molecule ending on line 512030\n",
      "[12:26:50] ERROR: Can't kekulize mol.  Unkekulized atoms: 1 2 3 5 6 7 8 9 10\n",
      "[12:26:50] Explicit valence for atom # 6 B, 4, is greater than permitted\n",
      "[12:26:50] ERROR: Could not sanitize molecule ending on line 541262\n",
      "[12:26:50] ERROR: Explicit valence for atom # 6 B, 4, is greater than permitted\n",
      "[12:26:50] Can't kekulize mol.  Unkekulized atoms: 2 3 17 19 20\n",
      "[12:26:50] ERROR: Could not sanitize molecule ending on line 557517\n",
      "[12:26:50] ERROR: Can't kekulize mol.  Unkekulized atoms: 2 3 17 19 20\n",
      "[12:26:50] Can't kekulize mol.  Unkekulized atoms: 0 1 2 4 5 6 7 8 9 10\n",
      "[12:26:50] ERROR: Could not sanitize molecule ending on line 561344\n",
      "[12:26:50] ERROR: Can't kekulize mol.  Unkekulized atoms: 0 1 2 4 5 6 7 8 9 10\n",
      "[12:26:50] Can't kekulize mol.  Unkekulized atoms: 10 11 12 13 19\n",
      "[12:26:50] ERROR: Could not sanitize molecule ending on line 562947\n",
      "[12:26:50] ERROR: Can't kekulize mol.  Unkekulized atoms: 10 11 12 13 19\n",
      "[12:26:50] Explicit valence for atom # 27 N, 4, is greater than permitted\n",
      "[12:26:50] ERROR: Could not sanitize molecule ending on line 567073\n",
      "[12:26:50] ERROR: Explicit valence for atom # 27 N, 4, is greater than permitted\n",
      "[12:26:50] Can't kekulize mol.  Unkekulized atoms: 9 10 11 12 13 14 15 16 17\n",
      "[12:26:50] ERROR: Could not sanitize molecule ending on line 568252\n",
      "[12:26:50] ERROR: Can't kekulize mol.  Unkekulized atoms: 9 10 11 12 13 14 15 16 17\n",
      "[12:26:50] Can't kekulize mol.  Unkekulized atoms: 23 24 25 26 27\n",
      "[12:26:50] ERROR: Could not sanitize molecule ending on line 574645\n",
      "[12:26:50] ERROR: Can't kekulize mol.  Unkekulized atoms: 23 24 25 26 27\n",
      "[12:26:50] Can't kekulize mol.  Unkekulized atoms: 5 6 7 8 9\n",
      "[12:26:50] ERROR: Could not sanitize molecule ending on line 592639\n",
      "[12:26:50] ERROR: Can't kekulize mol.  Unkekulized atoms: 5 6 7 8 9\n",
      "[12:26:50] Explicit valence for atom # 15 O, 3, is greater than permitted\n",
      "[12:26:50] ERROR: Could not sanitize molecule ending on line 595909\n",
      "[12:26:50] ERROR: Explicit valence for atom # 15 O, 3, is greater than permitted\n",
      "[12:26:50] WARNING: could not find number of expected rings. Switching to an approximate ring finding algorithm.\n",
      "[12:26:50] Explicit valence for atom # 0 Br greater than permitted\n",
      "[12:26:50] ERROR: Could not sanitize molecule ending on line 599041\n",
      "[12:26:50] ERROR: Explicit valence for atom # 0 Br greater than permitted\n",
      "[12:26:50] Explicit valence for atom # 1 N, 4, is greater than permitted\n",
      "[12:26:50] ERROR: Could not sanitize molecule ending on line 601819\n",
      "[12:26:50] ERROR: Explicit valence for atom # 1 N, 4, is greater than permitted\n",
      "[12:26:50] Explicit valence for atom # 6 Be, 4, is greater than permitted\n",
      "[12:26:50] ERROR: Could not sanitize molecule ending on line 604427\n",
      "[12:26:50] ERROR: Explicit valence for atom # 6 Be, 4, is greater than permitted\n",
      "[12:26:50] Can't kekulize mol.  Unkekulized atoms: 4 5 6 7 8 9 10 11 12\n",
      "[12:26:50] ERROR: Could not sanitize molecule ending on line 604912\n",
      "[12:26:50] ERROR: Can't kekulize mol.  Unkekulized atoms: 4 5 6 7 8 9 10 11 12\n",
      "[12:26:50] Can't kekulize mol.  Unkekulized atoms: 5 6 7 8 9 10 11 12 13\n",
      "[12:26:50] ERROR: Could not sanitize molecule ending on line 616025\n",
      "[12:26:50] ERROR: Can't kekulize mol.  Unkekulized atoms: 5 6 7 8 9 10 11 12 13\n",
      "[12:26:51] Can't kekulize mol.  Unkekulized atoms: 1 2 3 5 6 7 8 9 10\n",
      "[12:26:51] ERROR: Could not sanitize molecule ending on line 623202\n",
      "[12:26:51] ERROR: Can't kekulize mol.  Unkekulized atoms: 1 2 3 5 6 7 8 9 10\n",
      "[12:26:51] Can't kekulize mol.  Unkekulized atoms: 5 6 7 8 9 10 11 12 13\n",
      "[12:26:51] ERROR: Could not sanitize molecule ending on line 628065\n",
      "[12:26:51] ERROR: Can't kekulize mol.  Unkekulized atoms: 5 6 7 8 9 10 11 12 13\n",
      "[12:26:51] Explicit valence for atom # 19 N greater than permitted\n",
      "[12:26:51] ERROR: Could not sanitize molecule ending on line 636938\n",
      "[12:26:51] ERROR: Explicit valence for atom # 19 N greater than permitted\n",
      "[12:26:51] Explicit valence for atom # 0 O, 1, is greater than permitted\n",
      "[12:26:51] ERROR: Could not sanitize molecule ending on line 640674\n",
      "[12:26:51] ERROR: Explicit valence for atom # 0 O, 1, is greater than permitted\n",
      "[12:26:51] Explicit valence for atom # 1 Al, 4, is greater than permitted\n",
      "[12:26:51] ERROR: Could not sanitize molecule ending on line 645068\n",
      "[12:26:51] ERROR: Explicit valence for atom # 1 Al, 4, is greater than permitted\n",
      "[12:26:51] Can't kekulize mol.  Unkekulized atoms: 0 1 2 4 5 6 7 8 9 10\n",
      "[12:26:51] ERROR: Could not sanitize molecule ending on line 659994\n",
      "[12:26:51] ERROR: Can't kekulize mol.  Unkekulized atoms: 0 1 2 4 5 6 7 8 9 10\n",
      "[12:26:51] Warning: ambiguous stereochemistry - overlapping neighbors  - at atom 16 ignored\n",
      "[12:26:51] Warning: ambiguous stereochemistry - opposing bonds have opposite wedging - at atom 20 ignored.\n",
      "[12:26:51] Warning: ambiguous stereochemistry - opposing bonds have opposite wedging - at atom 20 ignored.\n",
      "[12:26:52] Explicit valence for atom # 0 Be, 4, is greater than permitted\n",
      "[12:26:52] ERROR: Could not sanitize molecule ending on line 995692\n",
      "[12:26:52] ERROR: Explicit valence for atom # 0 Be, 4, is greater than permitted\n",
      "[12:26:53] The 2 defining bonds for an atropisomer are co-planar - atoms are: 2 3\n",
      "[12:26:53] Explicit valence for atom # 0 C greater than permitted\n",
      "[12:26:53] ERROR: Could not sanitize molecule ending on line 1151592\n",
      "[12:26:53] ERROR: Explicit valence for atom # 0 C greater than permitted\n"
     ]
    }
   ],
   "source": [
    "# load your own set, and DrugBank :)\n",
    "with open('../data/chembl_mtor_ic50.csv', 'r') as csvfile:\n",
    "    reader = csv.DictReader(csvfile, delimiter=\";\")\n",
    "    mtor_ligands = []\n",
    "    for m in reader:\n",
    "        mol = Chem.MolFromSmiles(m['Smiles'])\n",
    "        # get the standardized pChEMBL activity measure for future use\n",
    "        pchembl = m['pChEMBL Value']\n",
    "        if not pchembl:\n",
    "            # some don't have any comparable pChEMBL value, just assign them very low value\n",
    "            pchembl = -1\n",
    "        mol.SetDoubleProp('pChEMBL', float(pchembl)) # save the value into mol instance\n",
    "        mtor_ligands.append(mol)\n",
    "\n",
    "suppl = Chem.SDMolSupplier('../data/drugbank.sdf')\n",
    "drugs = [m for m in suppl if m]"
   ]
  },
  {
   "cell_type": "code",
   "execution_count": 86,
   "id": "bbfde77d-9613-43f4-9c0a-23f2ee6569fa",
   "metadata": {},
   "outputs": [
    {
     "data": {
      "image/png": "[encoded data removed]",
      "text/html": [
       "<table><tr><td colspan=\"2\" style=\"text-align: center;\"><image src=\"data:image/png;base64,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\"></td></tr>\n",
       "<tr><th style=\"text-align: right\">pChEMBL</th><td style=\"text-align: left\">7.35</td></tr></table>"
      ],
      "text/plain": [
       "<rdkit.Chem.rdchem.Mol at 0x2dee9aa4d60>"
      ]
     },
     "execution_count": 86,
     "metadata": {},
     "output_type": "execute_result"
    }
   ],
   "source": [
    "from rdkit.Chem.Scaffolds import MurckoScaffold\n",
    "scaffold1 = MurckoScaffold.GetScaffoldForMol(mtor_ligands[0])\n",
    "scaffold1\n",
    "\n",
    "scaffold2 = MurckoScaffold.MakeScaffoldGeneric(scaffold1)\n",
    "scaffold2\n",
    "\n",
    "scaffold3 = MurckoScaffold.GetScaffoldForMol(scaffold2)\n",
    "scaffold3"
   ]
  },
  {
   "cell_type": "code",
   "execution_count": 83,
   "id": "63900b59-0230-4ed6-9227-f357b30277e6",
   "metadata": {},
   "outputs": [],
   "source": [
    "def scaffold(mol):\n",
    "    try:\n",
    "        scaffold1 = MurckoScaffold.MakeScaffoldGeneric(mol)\n",
    "        scaffold2 = MurckoScaffold.GetScaffoldForMol(scaffold1)\n",
    "    except ValueError:\n",
    "        return None\n",
    "\n",
    "    return Chem.MolToSmiles(scaffold2)"
   ]
  },
  {
   "cell_type": "code",
   "execution_count": 84,
   "id": "c5961c9d-6a93-4467-a7bf-06df137e36b7",
   "metadata": {},
   "outputs": [
    {
     "ename": "ArgumentError",
     "evalue": "Python argument types in\n    Mol.__init__(Mol, NoneType)\ndid not match C++ signature:\n    __init__(struct _object * __ptr64 self, class RDKit::ROMol mol, bool quickCopy=False, int confId=-1)\n    __init__(struct _object * __ptr64 self, class std::basic_string<char,struct std::char_traits<char>,class std::allocator<char> > pklString, unsigned int propertyFlags)\n    __init__(struct _object * __ptr64 self, class std::basic_string<char,struct std::char_traits<char>,class std::allocator<char> > pklString)\n    __init__(struct _object * __ptr64 self)",
     "output_type": "error",
     "traceback": [
      "\u001b[1;31m---------------------------------------------------------------------------\u001b[0m",
      "\u001b[1;31mArgumentError\u001b[0m                             Traceback (most recent call last)",
      "Cell \u001b[1;32mIn[84], line 1\u001b[0m\n\u001b[1;32m----> 1\u001b[0m \u001b[43mscaffold\u001b[49m\u001b[43m(\u001b[49m\u001b[43mmol\u001b[49m\u001b[43m)\u001b[49m\n",
      "Cell \u001b[1;32mIn[83], line 3\u001b[0m, in \u001b[0;36mscaffold\u001b[1;34m(mol)\u001b[0m\n\u001b[0;32m      1\u001b[0m \u001b[38;5;28;01mdef\u001b[39;00m \u001b[38;5;21mscaffold\u001b[39m(mol):\n\u001b[0;32m      2\u001b[0m     \u001b[38;5;28;01mtry\u001b[39;00m:\n\u001b[1;32m----> 3\u001b[0m         scaffold1 \u001b[38;5;241m=\u001b[39m \u001b[43mMurckoScaffold\u001b[49m\u001b[38;5;241;43m.\u001b[39;49m\u001b[43mMakeScaffoldGeneric\u001b[49m\u001b[43m(\u001b[49m\u001b[43mmol\u001b[49m\u001b[43m)\u001b[49m\n\u001b[0;32m      4\u001b[0m         scaffold2 \u001b[38;5;241m=\u001b[39m MurckoScaffold\u001b[38;5;241m.\u001b[39mGetScaffoldForMol(scaffold1)\n\u001b[0;32m      5\u001b[0m     \u001b[38;5;28;01mexcept\u001b[39;00m \u001b[38;5;167;01mValueError\u001b[39;00m:\n",
      "File \u001b[1;32m~\\strojuc_1\\__venv__\\Lib\\site-packages\\rdkit\\Chem\\Scaffolds\\MurckoScaffold.py:37\u001b[0m, in \u001b[0;36mMakeScaffoldGeneric\u001b[1;34m(mol)\u001b[0m\n\u001b[0;32m     20\u001b[0m \u001b[38;5;28;01mdef\u001b[39;00m \u001b[38;5;21mMakeScaffoldGeneric\u001b[39m(mol):\n\u001b[0;32m     21\u001b[0m \u001b[38;5;250m  \u001b[39m\u001b[38;5;124;03m\"\"\" Makes a Murcko scaffold generic (i.e. all atom types->C and all bonds ->single\u001b[39;00m\n\u001b[0;32m     22\u001b[0m \n\u001b[0;32m     23\u001b[0m \u001b[38;5;124;03m  >>> Chem.MolToSmiles(MakeScaffoldGeneric(Chem.MolFromSmiles('c1ccccc1')))\u001b[39;00m\n\u001b[1;32m   (...)\u001b[0m\n\u001b[0;32m     35\u001b[0m \n\u001b[0;32m     36\u001b[0m \u001b[38;5;124;03m  \"\"\"\u001b[39;00m\n\u001b[1;32m---> 37\u001b[0m   res \u001b[38;5;241m=\u001b[39m \u001b[43mChem\u001b[49m\u001b[38;5;241;43m.\u001b[39;49m\u001b[43mMol\u001b[49m\u001b[43m(\u001b[49m\u001b[43mmol\u001b[49m\u001b[43m)\u001b[49m\n\u001b[0;32m     38\u001b[0m   \u001b[38;5;28;01mfor\u001b[39;00m atom \u001b[38;5;129;01min\u001b[39;00m res\u001b[38;5;241m.\u001b[39mGetAtoms():\n\u001b[0;32m     39\u001b[0m     \u001b[38;5;28;01mif\u001b[39;00m atom\u001b[38;5;241m.\u001b[39mGetAtomicNum() \u001b[38;5;241m!=\u001b[39m \u001b[38;5;241m1\u001b[39m:\n",
      "\u001b[1;31mArgumentError\u001b[0m: Python argument types in\n    Mol.__init__(Mol, NoneType)\ndid not match C++ signature:\n    __init__(struct _object * __ptr64 self, class RDKit::ROMol mol, bool quickCopy=False, int confId=-1)\n    __init__(struct _object * __ptr64 self, class std::basic_string<char,struct std::char_traits<char>,class std::allocator<char> > pklString, unsigned int propertyFlags)\n    __init__(struct _object * __ptr64 self, class std::basic_string<char,struct std::char_traits<char>,class std::allocator<char> > pklString)\n    __init__(struct _object * __ptr64 self)"
     ]
    }
   ],
   "source": [
    "scaffold(mol)"
   ]
  },
  {
   "cell_type": "code",
   "execution_count": 53,
   "id": "a713d9f2-a09d-49d7-b9e0-f39849cfdf6b",
   "metadata": {},
   "outputs": [
    {
     "name": "stderr",
     "output_type": "stream",
     "text": [
      "[12:47:01] Explicit valence for atom # 90 C, 6, is greater than permitted\n",
      "[12:47:01] Explicit valence for atom # 62 C, 6, is greater than permitted\n",
      "[12:47:01] Explicit valence for atom # 11 C, 8, is greater than permitted\n",
      "[12:47:01] Explicit valence for atom # 6 C, 6, is greater than permitted\n",
      "[12:47:03] Explicit valence for atom # 31 C, 6, is greater than permitted\n",
      "[12:47:04] Explicit valence for atom # 14 C, 10, is greater than permitted\n",
      "[12:47:05] Explicit valence for atom # 37 C, 6, is greater than permitted\n",
      "[12:47:05] Explicit valence for atom # 23 C greater than permitted\n",
      "[12:47:05] Explicit valence for atom # 1 C, 6, is greater than permitted\n",
      "[12:47:06] Explicit valence for atom # 7 C, 5, is greater than permitted\n",
      "[12:47:06] Explicit valence for atom # 3 C, 6, is greater than permitted\n",
      "[12:47:06] Explicit valence for atom # 40 C, 6, is greater than permitted\n",
      "[12:47:06] Explicit valence for atom # 1 C, 6, is greater than permitted\n",
      "[12:47:06] Explicit valence for atom # 31 C, 6, is greater than permitted\n",
      "[12:47:06] Explicit valence for atom # 20 C, 5, is greater than permitted\n",
      "[12:47:06] Explicit valence for atom # 4 C, 5, is greater than permitted\n",
      "[12:47:07] Explicit valence for atom # 1 C, 6, is greater than permitted\n",
      "[12:47:08] Explicit valence for atom # 3 C, 5, is greater than permitted\n",
      "[12:47:08] Explicit valence for atom # 6 C, 6, is greater than permitted\n",
      "[12:47:10] Explicit valence for atom # 0 C, 5, is greater than permitted\n",
      "[12:47:12] Explicit valence for atom # 6 C, 6, is greater than permitted\n"
     ]
    }
   ],
   "source": [
    "s = [scaffold(m) for m in drugs]"
   ]
  },
  {
   "cell_type": "code",
   "execution_count": 54,
   "id": "e3e83f4f-1067-400b-b5a9-ce277a2da1f4",
   "metadata": {},
   "outputs": [
    {
     "data": {
      "text/plain": [
       "7120"
      ]
     },
     "execution_count": 54,
     "metadata": {},
     "output_type": "execute_result"
    }
   ],
   "source": [
    "len(s)"
   ]
  },
  {
   "cell_type": "code",
   "execution_count": 55,
   "id": "cdae60b7-b418-4f87-8454-826ea6984089",
   "metadata": {},
   "outputs": [],
   "source": [
    "from collections import Counter"
   ]
  },
  {
   "cell_type": "code",
   "execution_count": 56,
   "id": "7d3c7528-a699-4c1a-9821-1d79d4cfe3ed",
   "metadata": {},
   "outputs": [],
   "source": [
    "counter = Counter(s)"
   ]
  },
  {
   "cell_type": "code",
   "execution_count": 57,
   "id": "0764d81d-0e38-40e9-9f92-5fae88378e4b",
   "metadata": {},
   "outputs": [
    {
     "data": {
      "text/plain": [
       "[('C1CCCCC1', 1039),\n",
       " ('', 976),\n",
       " ('C1CCC2CCCC2C1', 192),\n",
       " ('C1CCCC1', 188),\n",
       " ('C1CCC(CC2CCCCC2)CC1', 182),\n",
       " ('C1CCC(C2CCCC2)CC1', 176),\n",
       " ('C1CCC2CCCCC2C1', 169),\n",
       " ('C1CCC2C(C1)CCC2C1CCCC1', 165),\n",
       " ('C1CCC2C(C1)CCC1C3CCCC3CCC21', 151),\n",
       " ('C1CCC(CCC2CCCCC2)CC1', 106)]"
      ]
     },
     "execution_count": 57,
     "metadata": {},
     "output_type": "execute_result"
    }
   ],
   "source": [
    "counter.most_common(10)"
   ]
  },
  {
   "cell_type": "code",
   "execution_count": 58,
   "id": "82486574-89b2-43d5-a8b3-cc2bbb2b2e82",
   "metadata": {},
   "outputs": [],
   "source": [
    "from collections import ChainMap"
   ]
  },
  {
   "cell_type": "code",
   "execution_count": 61,
   "id": "ffa907a6-4405-4096-97e3-787f9e002630",
   "metadata": {},
   "outputs": [
    {
     "name": "stderr",
     "output_type": "stream",
     "text": [
      "[12:53:22] Explicit valence for atom # 90 C, 6, is greater than permitted\n",
      "[12:53:22] Explicit valence for atom # 62 C, 6, is greater than permitted\n",
      "[12:53:22] Explicit valence for atom # 11 C, 8, is greater than permitted\n",
      "[12:53:22] Explicit valence for atom # 6 C, 6, is greater than permitted\n",
      "[12:53:24] Explicit valence for atom # 31 C, 6, is greater than permitted\n",
      "[12:53:24] Explicit valence for atom # 14 C, 10, is greater than permitted\n",
      "[12:53:26] Explicit valence for atom # 37 C, 6, is greater than permitted\n",
      "[12:53:26] Explicit valence for atom # 23 C greater than permitted\n",
      "[12:53:26] Explicit valence for atom # 1 C, 6, is greater than permitted\n",
      "[12:53:27] Explicit valence for atom # 7 C, 5, is greater than permitted\n",
      "[12:53:27] Explicit valence for atom # 3 C, 6, is greater than permitted\n",
      "[12:53:27] Explicit valence for atom # 40 C, 6, is greater than permitted\n",
      "[12:53:27] Explicit valence for atom # 1 C, 6, is greater than permitted\n",
      "[12:53:27] Explicit valence for atom # 31 C, 6, is greater than permitted\n",
      "[12:53:27] Explicit valence for atom # 20 C, 5, is greater than permitted\n",
      "[12:53:27] Explicit valence for atom # 4 C, 5, is greater than permitted\n",
      "[12:53:27] Explicit valence for atom # 1 C, 6, is greater than permitted\n",
      "[12:53:29] Explicit valence for atom # 3 C, 5, is greater than permitted\n",
      "[12:53:29] Explicit valence for atom # 6 C, 6, is greater than permitted\n",
      "[12:53:32] Explicit valence for atom # 0 C, 5, is greater than permitted\n",
      "[12:53:34] Explicit valence for atom # 6 C, 6, is greater than permitted\n"
     ]
    },
    {
     "data": {
      "text/plain": [
       "['C(CCCCCCCCCCCC(CCCCCCCCCCC1CCCC1CCCCCCCCCCC1CCCCC1)CC1CCCCC1)CCCCCCCCCCCC1CCCC1CCCCC1CCCC1CCCC1CCCCC1',\n",
       " 'C(CCCCCC(CCCCCC(CCC(CCC1CCCC1)CC1CCCC1)CC1CCC2CCCCC21)CC1CCCCC1)CCCCC1CCCC1',\n",
       " 'C1CCCCC(CC2CCCCC2)CCC(CC2CCCCC2)CCCCCCCC(CC2CCCC2)CCC1',\n",
       " 'C(CCCCCC(CCCCCC(CCC(CCCCC1CCC2CCCCC2C1)CC1CCCCC1)CC1CCCCC1)CC1CCCCC1)CCCCC1CCCC1',\n",
       " 'C1CCCCCCCCCCCCCCCCCCCCCCCCCCCCCCCC1',\n",
       " 'C1CCCCC(CC2CCCCC2)CCC(CC2CCCCC2)CCCCCCCC(CC2CCCC2)CCC1',\n",
       " 'C1CCCCCCC(CCCCC2CCCCC2)CCC(CC2CCCCC2)CCC(CC2CCC3CCCCC32)CCCCCC1',\n",
       " 'C1CCCCC1',\n",
       " None,\n",
       " 'C1CCC(CCC2CCC3CCCCC3C2)CC1',\n",
       " 'C1CCCC1',\n",
       " 'C1CCC2C(C1)CCC2C1CCCC1',\n",
       " '',\n",
       " 'C1CCCCC1',\n",
       " 'C1CC2CCCC2C1',\n",
       " '',\n",
       " '',\n",
       " '',\n",
       " 'C1CCCC1',\n",
       " '']"
      ]
     },
     "execution_count": 61,
     "metadata": {},
     "output_type": "execute_result"
    }
   ],
   "source": [
    "drugbank_scaffolds = [scaffold(drug) for drug in drugs]\n",
    "drugbank_scaffolds[:20]"
   ]
  },
  {
   "cell_type": "code",
   "execution_count": 81,
   "id": "3dec8459-8eda-44df-93af-e2ca0cd24e2a",
   "metadata": {},
   "outputs": [
    {
     "data": {
      "text/plain": [
       "[(0,\n",
       "  'C(CCCCCCCCCCCC(CCCCCCCCCCC1CCCC1CCCCCCCCCCC1CCCCC1)CC1CCCCC1)CCCCCCCCCCCC1CCCC1CCCCC1CCCC1CCCC1CCCCC1'),\n",
       " (1,\n",
       "  'C(CCCCCC(CCCCCC(CCC(CCC1CCCC1)CC1CCCC1)CC1CCC2CCCCC21)CC1CCCCC1)CCCCC1CCCC1'),\n",
       " (2, 'C1CCCCC(CC2CCCCC2)CCC(CC2CCCCC2)CCCCCCCC(CC2CCCC2)CCC1'),\n",
       " (3,\n",
       "  'C(CCCCCC(CCCCCC(CCC(CCCCC1CCC2CCCCC2C1)CC1CCCCC1)CC1CCCCC1)CC1CCCCC1)CCCCC1CCCC1'),\n",
       " (4, 'C1CCCCCCCCCCCCCCCCCCCCCCCCCCCCCCCC1'),\n",
       " (5, 'C1CCCCC(CC2CCCCC2)CCC(CC2CCCCC2)CCCCCCCC(CC2CCCC2)CCC1'),\n",
       " (6, 'C1CCCCCCC(CCCCC2CCCCC2)CCC(CC2CCCCC2)CCC(CC2CCC3CCCCC32)CCCCCC1'),\n",
       " (7, 'C1CCCCC1'),\n",
       " (9, 'C1CCC(CCC2CCC3CCCCC3C2)CC1'),\n",
       " (10, 'C1CCCC1'),\n",
       " (11, 'C1CCC2C(C1)CCC2C1CCCC1'),\n",
       " (13, 'C1CCCCC1'),\n",
       " (14, 'C1CC2CCCC2C1'),\n",
       " (18, 'C1CCCC1'),\n",
       " (23, 'C1CCC2C(C1)CCC2C1CCCC1'),\n",
       " (27, 'C1CCCCC1'),\n",
       " (28, 'C1CCC(CCC2CCCC3CCCC32)CC1'),\n",
       " (29, 'C1CCC(CCCCCCCCCCCCCCCCCCC2CCCCC2)CC1'),\n",
       " (32, 'C1CCC2CC3CCCCC3CC2C1'),\n",
       " (38, 'C1CCC(CCC2CCCC3CCCC32)CC1')]"
      ]
     },
     "execution_count": 81,
     "metadata": {},
     "output_type": "execute_result"
    }
   ],
   "source": [
    "drugbank_scaffolds_smiles = [(i, mol) for i, mol in enumerate(drugbank_scaffolds) if mol]\n",
    "drugbank_scaffolds_smiles[:20]"
   ]
  },
  {
   "cell_type": "code",
   "execution_count": 87,
   "id": "b4a13d65-88ea-4a9b-b722-ca5a0a66d81c",
   "metadata": {},
   "outputs": [
    {
     "data": {
      "image/png": "[encoded data removed]",
      "text/html": [
       "<table><tr><td colspan=\"2\" style=\"text-align: center;\"><image src=\"data:image/png;base64,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\"></td></tr>\n",
       "<tr><th style=\"text-align: right\">pChEMBL</th><td style=\"text-align: left\">7.35</td></tr></table>"
      ],
      "text/plain": [
       "<rdkit.Chem.rdchem.Mol at 0x2dedf9e1460>"
      ]
     },
     "execution_count": 87,
     "metadata": {},
     "output_type": "execute_result"
    }
   ],
   "source": [
    "mtor_ligands[0]"
   ]
  },
  {
   "cell_type": "code",
   "execution_count": 88,
   "id": "754cb2e4-7a24-4d8d-846d-e94e4cf19001",
   "metadata": {},
   "outputs": [
    {
     "data": {
      "image/png": "[encoded data removed]",
      "text/html": [
       "<table><tr><td colspan=\"2\" style=\"text-align: center;\"><image src=\"data:image/png;base64,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\"></td></tr>\n",
       "<tr><th style=\"text-align: right\">pChEMBL</th><td style=\"text-align: left\">7.35</td></tr></table>"
      ],
      "text/plain": [
       "<rdkit.Chem.rdchem.Mol at 0x2dee9aa4d60>"
      ]
     },
     "execution_count": 88,
     "metadata": {},
     "output_type": "execute_result"
    }
   ],
   "source": [
    "scaffold3"
   ]
  },
  {
   "cell_type": "code",
   "execution_count": 68,
   "id": "192ba81d-1359-4cfe-a353-c6379a2a2514",
   "metadata": {},
   "outputs": [
    {
     "data": {
      "image/png": "[encoded data removed]",
      "text/plain": [
       "<rdkit.Chem.rdchem.Mol at 0x2def3c03140>"
      ]
     },
     "execution_count": 68,
     "metadata": {},
     "output_type": "execute_result"
    }
   ],
   "source": [
    "Chem.MolFromSmiles(scaffold(mol))\n"
   ]
  },
  {
   "cell_type": "code",
   "execution_count": 76,
   "id": "c907891d-8da0-4052-a9e2-d37a146b61ae",
   "metadata": {},
   "outputs": [
    {
     "ename": "AttributeError",
     "evalue": "module 'rdkit.Chem.Draw' has no attribute 'Mols'",
     "output_type": "error",
     "traceback": [
      "\u001b[1;31m---------------------------------------------------------------------------\u001b[0m",
      "\u001b[1;31mAttributeError\u001b[0m                            Traceback (most recent call last)",
      "Cell \u001b[1;32mIn[76], line 2\u001b[0m\n\u001b[0;32m      1\u001b[0m highlight_scaffold \u001b[38;5;241m=\u001b[39m mol\u001b[38;5;241m.\u001b[39mGetSubstructMatch(Chem\u001b[38;5;241m.\u001b[39mMolFromSmiles(scaffold(mol)))\n\u001b[1;32m----> 2\u001b[0m \u001b[43mDraw\u001b[49m\u001b[38;5;241;43m.\u001b[39;49m\u001b[43mMols\u001b[49m(mol, highlightAtomLists \u001b[38;5;241m=\u001b[39m highlight_scaffold)\n",
      "\u001b[1;31mAttributeError\u001b[0m: module 'rdkit.Chem.Draw' has no attribute 'Mols'"
     ]
    }
   ],
   "source": [
    "highlight_scaffold = mol.GetSubstructMatch(Chem.MolFromSmiles(scaffold(mol)))\n",
    "Draw.Mols(mol, highlightAtomLists = highlight_scaffold)"
   ]
  },
  {
   "cell_type": "code",
   "execution_count": 80,
   "id": "e1854823-a83d-4002-a2f4-59c7738927bc",
   "metadata": {},
   "outputs": [],
   "source": [
    "mol"
   ]
  },
  {
   "cell_type": "code",
   "execution_count": 89,
   "id": "d3997c94-916e-4515-be2a-cb454677e1ba",
   "metadata": {},
   "outputs": [
    {
     "ename": "KeyboardInterrupt",
     "evalue": "",
     "output_type": "error",
     "traceback": [
      "\u001b[1;31m---------------------------------------------------------------------------\u001b[0m",
      "\u001b[1;31mKeyboardInterrupt\u001b[0m                         Traceback (most recent call last)",
      "Cell \u001b[1;32mIn[89], line 18\u001b[0m\n\u001b[0;32m     15\u001b[0m img_scaffold \u001b[38;5;241m=\u001b[39m Draw\u001b[38;5;241m.\u001b[39mMolToImage(scaffold, size\u001b[38;5;241m=\u001b[39m(\u001b[38;5;241m300\u001b[39m, \u001b[38;5;241m300\u001b[39m))\n\u001b[0;32m     17\u001b[0m \u001b[38;5;66;03m# Display images\u001b[39;00m\n\u001b[1;32m---> 18\u001b[0m \u001b[43mimg_mol\u001b[49m\u001b[38;5;241;43m.\u001b[39;49m\u001b[43mshow\u001b[49m\u001b[43m(\u001b[49m\u001b[43m)\u001b[49m\n\u001b[0;32m     19\u001b[0m img_scaffold\u001b[38;5;241m.\u001b[39mshow()\n",
      "File \u001b[1;32m~\\strojuc_1\\__venv__\\Lib\\site-packages\\PIL\\Image.py:2467\u001b[0m, in \u001b[0;36mImage.show\u001b[1;34m(self, title)\u001b[0m\n\u001b[0;32m   2447\u001b[0m \u001b[38;5;28;01mdef\u001b[39;00m \u001b[38;5;21mshow\u001b[39m(\u001b[38;5;28mself\u001b[39m, title\u001b[38;5;241m=\u001b[39m\u001b[38;5;28;01mNone\u001b[39;00m):\n\u001b[0;32m   2448\u001b[0m \u001b[38;5;250m    \u001b[39m\u001b[38;5;124;03m\"\"\"\u001b[39;00m\n\u001b[0;32m   2449\u001b[0m \u001b[38;5;124;03m    Displays this image. This method is mainly intended for debugging purposes.\u001b[39;00m\n\u001b[0;32m   2450\u001b[0m \n\u001b[1;32m   (...)\u001b[0m\n\u001b[0;32m   2464\u001b[0m \u001b[38;5;124;03m    :param title: Optional title to use for the image window, where possible.\u001b[39;00m\n\u001b[0;32m   2465\u001b[0m \u001b[38;5;124;03m    \"\"\"\u001b[39;00m\n\u001b[1;32m-> 2467\u001b[0m     \u001b[43m_show\u001b[49m\u001b[43m(\u001b[49m\u001b[38;5;28;43mself\u001b[39;49m\u001b[43m,\u001b[49m\u001b[43m \u001b[49m\u001b[43mtitle\u001b[49m\u001b[38;5;241;43m=\u001b[39;49m\u001b[43mtitle\u001b[49m\u001b[43m)\u001b[49m\n",
      "File \u001b[1;32m~\\strojuc_1\\__venv__\\Lib\\site-packages\\PIL\\Image.py:3506\u001b[0m, in \u001b[0;36m_show\u001b[1;34m(image, **options)\u001b[0m\n\u001b[0;32m   3503\u001b[0m \u001b[38;5;28;01mdef\u001b[39;00m \u001b[38;5;21m_show\u001b[39m(image, \u001b[38;5;241m*\u001b[39m\u001b[38;5;241m*\u001b[39moptions):\n\u001b[0;32m   3504\u001b[0m     \u001b[38;5;28;01mfrom\u001b[39;00m \u001b[38;5;21;01m.\u001b[39;00m \u001b[38;5;28;01mimport\u001b[39;00m ImageShow\n\u001b[1;32m-> 3506\u001b[0m     \u001b[43mImageShow\u001b[49m\u001b[38;5;241;43m.\u001b[39;49m\u001b[43mshow\u001b[49m\u001b[43m(\u001b[49m\u001b[43mimage\u001b[49m\u001b[43m,\u001b[49m\u001b[43m \u001b[49m\u001b[38;5;241;43m*\u001b[39;49m\u001b[38;5;241;43m*\u001b[39;49m\u001b[43moptions\u001b[49m\u001b[43m)\u001b[49m\n",
      "File \u001b[1;32m~\\strojuc_1\\__venv__\\Lib\\site-packages\\PIL\\ImageShow.py:60\u001b[0m, in \u001b[0;36mshow\u001b[1;34m(image, title, **options)\u001b[0m\n\u001b[0;32m     51\u001b[0m \u001b[38;5;250m\u001b[39m\u001b[38;5;124mr\u001b[39m\u001b[38;5;124;03m\"\"\"\u001b[39;00m\n\u001b[0;32m     52\u001b[0m \u001b[38;5;124;03mDisplay a given image.\u001b[39;00m\n\u001b[0;32m     53\u001b[0m \n\u001b[1;32m   (...)\u001b[0m\n\u001b[0;32m     57\u001b[0m \u001b[38;5;124;03m:returns: ``True`` if a suitable viewer was found, ``False`` otherwise.\u001b[39;00m\n\u001b[0;32m     58\u001b[0m \u001b[38;5;124;03m\"\"\"\u001b[39;00m\n\u001b[0;32m     59\u001b[0m \u001b[38;5;28;01mfor\u001b[39;00m viewer \u001b[38;5;129;01min\u001b[39;00m _viewers:\n\u001b[1;32m---> 60\u001b[0m     \u001b[38;5;28;01mif\u001b[39;00m \u001b[43mviewer\u001b[49m\u001b[38;5;241;43m.\u001b[39;49m\u001b[43mshow\u001b[49m\u001b[43m(\u001b[49m\u001b[43mimage\u001b[49m\u001b[43m,\u001b[49m\u001b[43m \u001b[49m\u001b[43mtitle\u001b[49m\u001b[38;5;241;43m=\u001b[39;49m\u001b[43mtitle\u001b[49m\u001b[43m,\u001b[49m\u001b[43m \u001b[49m\u001b[38;5;241;43m*\u001b[39;49m\u001b[38;5;241;43m*\u001b[39;49m\u001b[43moptions\u001b[49m\u001b[43m)\u001b[49m:\n\u001b[0;32m     61\u001b[0m         \u001b[38;5;28;01mreturn\u001b[39;00m \u001b[38;5;28;01mTrue\u001b[39;00m\n\u001b[0;32m     62\u001b[0m \u001b[38;5;28;01mreturn\u001b[39;00m \u001b[38;5;28;01mFalse\u001b[39;00m\n",
      "File \u001b[1;32m~\\strojuc_1\\__venv__\\Lib\\site-packages\\PIL\\ImageShow.py:84\u001b[0m, in \u001b[0;36mViewer.show\u001b[1;34m(self, image, **options)\u001b[0m\n\u001b[0;32m     81\u001b[0m     \u001b[38;5;28;01mif\u001b[39;00m image\u001b[38;5;241m.\u001b[39mmode \u001b[38;5;241m!=\u001b[39m base:\n\u001b[0;32m     82\u001b[0m         image \u001b[38;5;241m=\u001b[39m image\u001b[38;5;241m.\u001b[39mconvert(base)\n\u001b[1;32m---> 84\u001b[0m \u001b[38;5;28;01mreturn\u001b[39;00m \u001b[38;5;28;43mself\u001b[39;49m\u001b[38;5;241;43m.\u001b[39;49m\u001b[43mshow_image\u001b[49m\u001b[43m(\u001b[49m\u001b[43mimage\u001b[49m\u001b[43m,\u001b[49m\u001b[43m \u001b[49m\u001b[38;5;241;43m*\u001b[39;49m\u001b[38;5;241;43m*\u001b[39;49m\u001b[43moptions\u001b[49m\u001b[43m)\u001b[49m\n",
      "File \u001b[1;32m~\\strojuc_1\\__venv__\\Lib\\site-packages\\PIL\\ImageShow.py:110\u001b[0m, in \u001b[0;36mViewer.show_image\u001b[1;34m(self, image, **options)\u001b[0m\n\u001b[0;32m    108\u001b[0m \u001b[38;5;28;01mdef\u001b[39;00m \u001b[38;5;21mshow_image\u001b[39m(\u001b[38;5;28mself\u001b[39m, image, \u001b[38;5;241m*\u001b[39m\u001b[38;5;241m*\u001b[39moptions):\n\u001b[0;32m    109\u001b[0m \u001b[38;5;250m    \u001b[39m\u001b[38;5;124;03m\"\"\"Display the given image.\"\"\"\u001b[39;00m\n\u001b[1;32m--> 110\u001b[0m     \u001b[38;5;28;01mreturn\u001b[39;00m \u001b[38;5;28;43mself\u001b[39;49m\u001b[38;5;241;43m.\u001b[39;49m\u001b[43mshow_file\u001b[49m\u001b[43m(\u001b[49m\u001b[38;5;28;43mself\u001b[39;49m\u001b[38;5;241;43m.\u001b[39;49m\u001b[43msave_image\u001b[49m\u001b[43m(\u001b[49m\u001b[43mimage\u001b[49m\u001b[43m)\u001b[49m\u001b[43m,\u001b[49m\u001b[43m \u001b[49m\u001b[38;5;241;43m*\u001b[39;49m\u001b[38;5;241;43m*\u001b[39;49m\u001b[43moptions\u001b[49m\u001b[43m)\u001b[49m\n",
      "File \u001b[1;32m~\\strojuc_1\\__venv__\\Lib\\site-packages\\PIL\\ImageShow.py:116\u001b[0m, in \u001b[0;36mViewer.show_file\u001b[1;34m(self, path, **options)\u001b[0m\n\u001b[0;32m    112\u001b[0m \u001b[38;5;28;01mdef\u001b[39;00m \u001b[38;5;21mshow_file\u001b[39m(\u001b[38;5;28mself\u001b[39m, path, \u001b[38;5;241m*\u001b[39m\u001b[38;5;241m*\u001b[39moptions):\n\u001b[0;32m    113\u001b[0m \u001b[38;5;250m    \u001b[39m\u001b[38;5;124;03m\"\"\"\u001b[39;00m\n\u001b[0;32m    114\u001b[0m \u001b[38;5;124;03m    Display given file.\u001b[39;00m\n\u001b[0;32m    115\u001b[0m \u001b[38;5;124;03m    \"\"\"\u001b[39;00m\n\u001b[1;32m--> 116\u001b[0m     \u001b[43mos\u001b[49m\u001b[38;5;241;43m.\u001b[39;49m\u001b[43msystem\u001b[49m\u001b[43m(\u001b[49m\u001b[38;5;28;43mself\u001b[39;49m\u001b[38;5;241;43m.\u001b[39;49m\u001b[43mget_command\u001b[49m\u001b[43m(\u001b[49m\u001b[43mpath\u001b[49m\u001b[43m,\u001b[49m\u001b[43m \u001b[49m\u001b[38;5;241;43m*\u001b[39;49m\u001b[38;5;241;43m*\u001b[39;49m\u001b[43moptions\u001b[49m\u001b[43m)\u001b[49m\u001b[43m)\u001b[49m  \u001b[38;5;66;03m# nosec\u001b[39;00m\n\u001b[0;32m    117\u001b[0m     \u001b[38;5;28;01mreturn\u001b[39;00m \u001b[38;5;241m1\u001b[39m\n",
      "\u001b[1;31mKeyboardInterrupt\u001b[0m: "
     ]
    }
   ],
   "source": [
    "from rdkit import Chem\n",
    "from rdkit.Chem import Draw\n",
    "from rdkit.Chem.Scaffolds import MurckoScaffold\n",
    "\n",
    "# Define the molecule (example: Sildenafil)\n",
    "\n",
    "# Convert SMILES to RDKit Molecule object\n",
    "mol = mtor_ligands[0]\n",
    "\n",
    "# Generate the scaffold\n",
    "scaffold = scaffold3\n",
    "\n",
    "# Draw both\n",
    "img_mol = Draw.MolToImage(mol, size=(300, 300))\n",
    "img_scaffold = Draw.MolToImage(scaffold, size=(300, 300))\n",
    "\n",
    "# Display images\n",
    "img_mol.show()\n",
    "img_scaffold.show()\n"
   ]
  },
  {
   "cell_type": "code",
   "execution_count": 94,
   "id": "77acff07-686b-4305-accb-afa0185c0385",
   "metadata": {},
   "outputs": [],
   "source": [
    "from rdkit import Chem\n",
    "from rdkit.Chem import Draw\n",
    "from rdkit.Chem.Scaffolds import MurckoScaffold\n",
    "\n",
    "mol = mtor_ligands[0]\n",
    "\n",
    "# Generate the scaffold\n",
    "scaffold = scaffold3\n"
   ]
  },
  {
   "cell_type": "code",
   "execution_count": 95,
   "id": "bab99bd5-219e-4ae4-b562-fbb0deb298f4",
   "metadata": {},
   "outputs": [],
   "source": [
    "scaffold_atoms = mol.GetSubstructMatch(scaffold)\n",
    "scaffold_bonds = [mol.GetBondBetweenAtoms(scaffold_atoms[i], scaffold_atoms[i+1]).GetIdx()\n",
    "                  for i in range(len(scaffold_atoms)-1) if mol.GetBondBetweenAtoms(scaffold_atoms[i], scaffold_atoms[i+1])]"
   ]
  },
  {
   "cell_type": "code",
   "execution_count": 100,
   "id": "222954dd-5c1d-40b8-87c9-e807d2f6b7fa",
   "metadata": {},
   "outputs": [
    {
     "ename": "NameError",
     "evalue": "name 'i' is not defined",
     "output_type": "error",
     "traceback": [
      "\u001b[1;31m---------------------------------------------------------------------------\u001b[0m",
      "\u001b[1;31mNameError\u001b[0m                                 Traceback (most recent call last)",
      "Cell \u001b[1;32mIn[100], line 1\u001b[0m\n\u001b[1;32m----> 1\u001b[0m mol\u001b[38;5;241m.\u001b[39mGetBondBetweenAtoms(scaffold_atoms[\u001b[43mi\u001b[49m], scaffold_atoms[i\u001b[38;5;241m+\u001b[39m\u001b[38;5;241m1\u001b[39m])\n",
      "\u001b[1;31mNameError\u001b[0m: name 'i' is not defined"
     ]
    }
   ],
   "source": [
    "mol.GetBondBetweenAtoms(scaffold_atoms[i], scaffold_atoms[i+1])"
   ]
  },
  {
   "cell_type": "code",
   "execution_count": null,
   "id": "40df4bb1-38c2-43e2-9cfa-d60cad43e799",
   "metadata": {},
   "outputs": [],
   "source": [
    "\n",
    "# Get atom and bond indices of the scaffold in the molecule\n",
    "scaffold_atoms = mol.GetSubstructMatch(scaffold)\n",
    "scaffold_bonds = [mol.GetBondBetweenAtoms(scaffold_atoms[i], scaffold_atoms[i+1]).GetIdx()\n",
    "                  for i in range(len(scaffold_atoms)-1) if mol.GetBondBetweenAtoms(scaffold_atoms[i], scaffold_atoms[i+1])]\n",
    "\n",
    "# Draw the molecule with scaffold highlighted\n",
    "img = Draw.MolToImage(mol, size=(400, 400), highlightAtoms=scaffold_atoms, highlightBonds=scaffold_bonds)\n",
    "\n",
    "# Show the image\n",
    "img.show()\n"
   ]
  },
  {
   "cell_type": "code",
   "execution_count": 101,
   "id": "ff94c9cb-a712-41ea-ada5-4fde52e5ceca",
   "metadata": {},
   "outputs": [],
   "source": [
    "d = Draw.MolDraw2DSVG(500, 500)"
   ]
  },
  {
   "cell_type": "code",
   "execution_count": null,
   "id": "852d3002-6bf6-419e-8e7f-45fa6e433649",
   "metadata": {},
   "outputs": [],
   "source": []
  }
 ],
 "metadata": {
  "kernelspec": {
   "display_name": "Python 3 (ipykernel)",
   "language": "python",
   "name": "python3"
  },
  "language_info": {
   "codemirror_mode": {
    "name": "ipython",
    "version": 3
   },
   "file_extension": ".py",
   "mimetype": "text/x-python",
   "name": "python",
   "nbconvert_exporter": "python",
   "pygments_lexer": "ipython3",
   "version": "3.12.0"
  }
 },
 "nbformat": 4,
 "nbformat_minor": 5
}
