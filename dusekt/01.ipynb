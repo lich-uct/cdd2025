{
 "cells": [
  {
   "cell_type": "code",
   "execution_count": 48,
   "id": "89cd544c-ebed-4f88-bc1b-08c6b09914d5",
   "metadata": {},
   "outputs": [],
   "source": [
    "from rdkit import Chem\n",
    "from rdkit.Chem import Descriptors\n",
    "from rdkit import RDLogger\n",
    "import rdkit\n",
    "from rdkit.Chem.Lipinski import NumHAcceptors\n",
    "from rdkit.Chem.Lipinski import NumHDonors\n",
    "from rdkit.Chem.Descriptors import ExactMolWt\n",
    "from rdkit.Chem.Descriptors import MolLogP"
   ]
  },
  {
   "cell_type": "code",
   "execution_count": 4,
   "id": "68c3a161-5796-4099-9e33-6d0456af08e6",
   "metadata": {},
   "outputs": [
    {
     "data": {
      "text/plain": [
       "<rdkit.Chem.rdmolfiles.SDMolSupplier at 0x2000e4ee5c0>"
      ]
     },
     "execution_count": 4,
     "metadata": {},
     "output_type": "execute_result"
    }
   ],
   "source": [
    "Chem.SDMolSupplier('../data/drugbank.sdf')"
   ]
  },
  {
   "cell_type": "code",
   "execution_count": 7,
   "id": "4917dc6d-af01-435e-940a-01ba6c7d1ccb",
   "metadata": {},
   "outputs": [],
   "source": [
    "cubane = Chem.MolFromSmiles(\"C12C3C4C1C5C2C3C45\")"
   ]
  },
  {
   "cell_type": "code",
   "execution_count": 8,
   "id": "58839682-d499-4fee-8deb-790b2fcfb0f2",
   "metadata": {},
   "outputs": [
    {
     "data": {
      "image/png": "[encoded data removed]",
      "text/plain": [
       "<rdkit.Chem.rdchem.Mol at 0x2000e0691c0>"
      ]
     },
     "execution_count": 8,
     "metadata": {},
     "output_type": "execute_result"
    }
   ],
   "source": [
    "cubane"
   ]
  },
  {
   "cell_type": "code",
   "execution_count": 10,
   "id": "4f1baca6-6540-41eb-810f-72e2be3e9eb9",
   "metadata": {},
   "outputs": [
    {
     "data": {
      "text/plain": [
       "5"
      ]
     },
     "execution_count": 10,
     "metadata": {},
     "output_type": "execute_result"
    }
   ],
   "source": [
    "len(Chem.GetSSSR(cubane))"
   ]
  },
  {
   "cell_type": "code",
   "execution_count": 11,
   "id": "8e419566-3ea2-4c83-a0ab-ff7d29805efd",
   "metadata": {},
   "outputs": [
    {
     "data": {
      "text/plain": [
       "<rdkit.rdBase._vectclass std::vector<int,class std::allocator<int> > at 0x2000e186c40>"
      ]
     },
     "execution_count": 11,
     "metadata": {},
     "output_type": "execute_result"
    }
   ],
   "source": [
    "Chem.GetSSSR(cubane)"
   ]
  },
  {
   "cell_type": "code",
   "execution_count": 19,
   "id": "9b2b5bca-3f32-423c-9e81-2a3b2bc53211",
   "metadata": {},
   "outputs": [],
   "source": [
    "lg = RDLogger.logger()\n",
    "lg.setLevel(RDLogger.CRITICAL)"
   ]
  },
  {
   "cell_type": "code",
   "execution_count": 20,
   "id": "1693e178-1140-4102-be7a-4be6f3cd49bb",
   "metadata": {
    "scrolled": true
   },
   "outputs": [],
   "source": [
    "drugbank = [mol for mol in Chem.SDMolSupplier('../data/drugbank.sdf') if mol]"
   ]
  },
  {
   "cell_type": "code",
   "execution_count": 31,
   "id": "263b83d1-cce6-479a-a5c4-506d1369ff91",
   "metadata": {},
   "outputs": [],
   "source": [
    "wt = [Descriptors.ExactMolWt(mol) for mol in drugbank]"
   ]
  },
  {
   "cell_type": "code",
   "execution_count": 34,
   "id": "a5bb51bc-adef-4f3b-b72a-a8df6a70a91c",
   "metadata": {},
   "outputs": [
    {
     "data": {
      "text/plain": [
       "356.4173029769798"
      ]
     },
     "execution_count": 34,
     "metadata": {},
     "output_type": "execute_result"
    }
   ],
   "source": [
    "sum(wt)/len(wt)"
   ]
  },
  {
   "cell_type": "code",
   "execution_count": 81,
   "id": "546aa424-2c39-4a1c-8a25-55e3fbe9bf9f",
   "metadata": {},
   "outputs": [],
   "source": [
    "def Lipinski(drug):\n",
    "    bool_vec = []\n",
    "    if NumHAcceptors(drug) > 10:\n",
    "        bool_vec.append(False)\n",
    "    if NumHDonors(drug) > 5:\n",
    "        bool_vec.append(False)\n",
    "    if ExactMolWt(drug) < 500:\n",
    "        bool_vec.append(False)\n",
    "    if MolLogP(drug) > 5:\n",
    "        bool_vec.append(False)\n",
    "    return bool_vec"
   ]
  },
  {
   "cell_type": "code",
   "execution_count": 82,
   "id": "a45c58c7-0f39-44a6-9d0b-268abf09b5cb",
   "metadata": {},
   "outputs": [],
   "source": [
    "perc = len([len(Lipinski(mol)) for mol in drugbank if len(Lipinski(mol)) in [0, 1]])/len(drugbank)"
   ]
  },
  {
   "cell_type": "code",
   "execution_count": 83,
   "id": "9d986999-e6e6-4577-b2b2-ac06ca7f31ab",
   "metadata": {},
   "outputs": [
    {
     "data": {
      "text/plain": [
       "0.8568820224719101"
      ]
     },
     "execution_count": 83,
     "metadata": {},
     "output_type": "execute_result"
    }
   ],
   "source": [
    "perc"
   ]
  },
  {
   "cell_type": "code",
   "execution_count": null,
   "id": "8f3bfe9e-148f-47f6-83a4-87bce60974db",
   "metadata": {},
   "outputs": [],
   "source": []
  }
 ],
 "metadata": {
  "kernelspec": {
   "display_name": "Python 3 (ipykernel)",
   "language": "python",
   "name": "python3"
  },
  "language_info": {
   "codemirror_mode": {
    "name": "ipython",
    "version": 3
   },
   "file_extension": ".py",
   "mimetype": "text/x-python",
   "name": "python",
   "nbconvert_exporter": "python",
   "pygments_lexer": "ipython3",
   "version": "3.12.0"
  }
 },
 "nbformat": 4,
 "nbformat_minor": 5
}
