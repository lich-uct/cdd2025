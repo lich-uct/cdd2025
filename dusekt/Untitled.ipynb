{
 "cells": [
  {
   "cell_type": "code",
   "execution_count": 2,
   "id": "654a6cba-3e9f-49d5-b2b2-f7acf9f9f50f",
   "metadata": {},
   "outputs": [],
   "source": [
    "import numpy as np"
   ]
  },
  {
   "cell_type": "code",
   "execution_count": 5,
   "id": "4a82b42d-d372-4d76-b32a-83b87c890fcc",
   "metadata": {},
   "outputs": [],
   "source": [
    "def scoring_f(scores, real):\n",
    "\n",
    "    truth_vec = real == 0\n",
    "    truth_vec_inv = np.invert(truth_vec)\n",
    "    print(truth_vec)\n",
    "\n",
    "    scoring_vec = np.zeros(len(scores))\n",
    "    scoring_vec[truth_vec] = -1\n",
    "    scoring_vec[truth_vec_inv] = 1.2\n",
    "    print(scoring_vec)\n",
    "\n",
    "\n",
    "    final_score = np.sum(scores * scoring_vec)\n",
    "    return final_score"
   ]
  },
  {
   "cell_type": "code",
   "execution_count": 6,
   "id": "8fad4153-68e0-4ba0-a7c3-83e8a13ebf61",
   "metadata": {},
   "outputs": [],
   "source": [
    "real = np.array([1, 1, 0, 0, 0])\n",
    "scores = np.array([5, 3, 1, 0, 0])"
   ]
  },
  {
   "cell_type": "code",
   "execution_count": 7,
   "id": "977659de-6be9-4382-b7e2-a99f32ee54a6",
   "metadata": {},
   "outputs": [
    {
     "name": "stdout",
     "output_type": "stream",
     "text": [
      "[False False  True  True  True]\n",
      "[ 1.2  1.2 -1.  -1.  -1. ]\n"
     ]
    },
    {
     "data": {
      "text/plain": [
       "8.6"
      ]
     },
     "execution_count": 7,
     "metadata": {},
     "output_type": "execute_result"
    }
   ],
   "source": [
    "scoring_f(scores, real)"
   ]
  },
  {
   "cell_type": "code",
   "execution_count": 10,
   "id": "16c8ee32-31c5-48f6-a1ae-89bcb2dfcff5",
   "metadata": {},
   "outputs": [],
   "source": [
    "def scale_temp(T, scores):\n",
    "\n",
    "    scaled_scores = np.zeros(len(scores))\n",
    "    for index in range(len(scores)):\n",
    "        mask = np.ones(len(scores), dtype=bool)\n",
    "        mask[index] = False\n",
    "        qi = np.exp(scores[index]/T)/np.sum(np.exp(scores[mask])/T)\n",
    "        scaled_scores[index] = qi\n",
    "    \n",
    "    return scaled_scores"
   ]
  },
  {
   "cell_type": "code",
   "execution_count": 16,
   "id": "74c5efa7-e87b-4764-a588-ba857611103e",
   "metadata": {},
   "outputs": [
    {
     "data": {
      "text/plain": [
       "array([2.96219683e+28, 1.87350270e+15, 6.57027977e+02, 4.06463990e-04,\n",
       "       4.06463990e-04])"
      ]
     },
     "execution_count": 16,
     "metadata": {},
     "output_type": "execute_result"
    }
   ],
   "source": [
    "scale_temp(0.07, scores)"
   ]
  },
  {
   "cell_type": "code",
   "execution_count": null,
   "id": "76767573-f605-42c8-a4f5-a2a0e0c658a4",
   "metadata": {},
   "outputs": [],
   "source": []
  }
 ],
 "metadata": {
  "kernelspec": {
   "display_name": "Python 3 (ipykernel)",
   "language": "python",
   "name": "python3"
  },
  "language_info": {
   "codemirror_mode": {
    "name": "ipython",
    "version": 3
   },
   "file_extension": ".py",
   "mimetype": "text/x-python",
   "name": "python",
   "nbconvert_exporter": "python",
   "pygments_lexer": "ipython3",
   "version": "3.12.0"
  }
 },
 "nbformat": 4,
 "nbformat_minor": 5
}
