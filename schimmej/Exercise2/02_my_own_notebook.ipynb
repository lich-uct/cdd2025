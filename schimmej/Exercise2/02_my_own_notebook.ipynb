{
 "cells": [
  {
   "cell_type": "code",
   "execution_count": 35,
   "metadata": {},
   "outputs": [],
   "source": [
    "from rdkit import Chem\n",
    "from rdkit.Chem import Descriptors #musim to importovat takto, nedokazu se dostat k Chem.Descriptors normalni teckovou notaci\n",
    "from rdkit.Chem import rdMolDescriptors as rDescriptors\n",
    "from rdkit.Chem.Draw import IPythonConsole\n",
    "#from rdkit.Chem import AllChem as Chem, potom bychom nemuseli importovat Descriptor \n",
    "\n",
    "# from rdkit import RDLogger #to kdybych nechtel horu chybovych hlasek\n",
    "# lg = RDLogger.logger()\n",
    "# lg.setLevel(RDLogger.CRITICAL)"
   ]
  },
  {
   "cell_type": "code",
   "execution_count": 38,
   "metadata": {},
   "outputs": [
    {
     "data": {
      "image/png": "[encoded data removed]",
      "text/plain": [
       "<rdkit.Chem.rdchem.Mol at 0x2637153b530>"
      ]
     },
     "execution_count": 38,
     "metadata": {},
     "output_type": "execute_result"
    }
   ],
   "source": [
    "suppl = Chem.SDMolSupplier('../../data/drugbank.sdf') #vrati nam to generator\n",
    "cubane = Chem.MolFromSmiles('C12C3C4C1C5C2C3C45')\n",
    "cubane"
   ]
  },
  {
   "cell_type": "code",
   "execution_count": null,
   "metadata": {},
   "outputs": [
    {
     "name": "stdout",
     "output_type": "stream",
     "text": [
      "7115\n",
      "2.4687280393534787\n"
     ]
    }
   ],
   "source": [
    "molecules = [mol for mol in suppl if mol] #if mol je tam proto, ze v tom drugbanku jsou nejaky None a ty dal nechceme\n",
    "rings = []\n",
    "for molecule in molecules:\n",
    "    ring = Chem.GetSSSR(molecule)\n",
    "    rings.append(ring)\n",
    "\n",
    "print(len(rings))\n",
    "print(sum(rings)/len(rings))"
   ]
  },
  {
   "cell_type": "code",
   "execution_count": null,
   "metadata": {},
   "outputs": [
    {
     "name": "stdout",
     "output_type": "stream",
     "text": [
      "356.13029771820175\n"
     ]
    }
   ],
   "source": [
    "weights = []\n",
    "for molecule in molecules:\n",
    "    weight = rDescriptors.CalcExactMolWt(molecule) #nebo Descriptors.MolWt\n",
    "    weights.append(weight)\n",
    "\n",
    "print(sum(weights)/len(weights))"
   ]
  },
  {
   "cell_type": "code",
   "execution_count": 41,
   "metadata": {},
   "outputs": [],
   "source": [
    "lipinski = []\n",
    "for molecule in molecules:\n",
    "    rules = [False, False, False, False]\n",
    "    if Chem.Lipinski.NumHAcceptors(molecule) <= 10:\n",
    "        rules[0] = True\n",
    "    if Chem.Lipinski.NumHDonors(molecule) <= 5:\n",
    "        rules[1] = True \n",
    "    if Descriptors.MolWt(molecule) < 500:\n",
    "        rules[2] = True\n",
    "    if Chem.Crippen.MolLogP(molecule) <= 5:\n",
    "        rules[3] = True\n",
    "    if rules.count(True) >= 3:\n",
    "        lipinski.append(molecule) "
   ]
  },
  {
   "cell_type": "code",
   "execution_count": 48,
   "metadata": {},
   "outputs": [
    {
     "name": "stdout",
     "output_type": "stream",
     "text": [
      "6380\n",
      "0.8966971187631764\n"
     ]
    },
    {
     "data": {
      "image/png": "[encoded data removed]",
      "text/plain": [
       "<rdkit.Chem.rdchem.Mol at 0x263784f9940>"
      ]
     },
     "execution_count": 48,
     "metadata": {},
     "output_type": "execute_result"
    }
   ],
   "source": [
    "print(len(lipinski))\n",
    "print(len(lipinski)/len(molecules))\n",
    "lipinski[2740]"
   ]
  }
 ],
 "metadata": {
  "kernelspec": {
   "display_name": "cdd",
   "language": "python",
   "name": "python3"
  },
  "language_info": {
   "codemirror_mode": {
    "name": "ipython",
    "version": 3
   },
   "file_extension": ".py",
   "mimetype": "text/x-python",
   "name": "python",
   "nbconvert_exporter": "python",
   "pygments_lexer": "ipython3",
   "version": "3.7.16"
  }
 },
 "nbformat": 4,
 "nbformat_minor": 2
}
