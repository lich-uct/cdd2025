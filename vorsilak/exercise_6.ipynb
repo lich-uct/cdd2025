{
 "cells": [
  {
   "cell_type": "code",
   "id": "initial_id",
   "metadata": {
    "collapsed": true,
    "ExecuteTime": {
     "end_time": "2025-04-03T08:32:38.676491Z",
     "start_time": "2025-04-03T08:32:37.967880Z"
    }
   },
   "source": [
    "from rdkit.Chem import AllChem as Chem\n",
    "from rdkit.Chem import Draw\n",
    "from rdkit.Chem.Draw import IPythonConsole\n",
    "import csv\n",
    "from rdkit import RDLogger\n",
    "RDLogger.DisableLog('rdApp.*')\n",
    "from rdkit import DataStructs\n",
    "from rdkit.Chem import Draw\n",
    "from rdkit.Chem.Draw import rdMolDraw2D\n",
    "from IPython.display import SVG"
   ],
   "outputs": [],
   "execution_count": 1
  },
  {
   "metadata": {
    "ExecuteTime": {
     "end_time": "2025-04-03T08:32:42.766997Z",
     "start_time": "2025-04-03T08:32:38.690641Z"
    }
   },
   "cell_type": "code",
   "source": [
    "with open('../data/chembl_mtor_ic50.csv', 'r') as csvfile:\n",
    "    reader = csv.DictReader(csvfile, delimiter=\";\")\n",
    "    mtor_ligands = [Chem.MolFromSmiles(m['Smiles']) for m in reader]\n",
    "\n",
    "suppl = Chem.SDMolSupplier('../data/drugbank.sdf')\n",
    "drugs = [m for m in suppl if m]"
   ],
   "id": "acc422008ce4b6de",
   "outputs": [],
   "execution_count": 2
  },
  {
   "metadata": {
    "ExecuteTime": {
     "end_time": "2025-04-03T08:32:44.168212Z",
     "start_time": "2025-04-03T08:32:44.158245Z"
    }
   },
   "cell_type": "code",
   "source": [
    "fpgen = Chem.GetMorganGenerator(radius=2)\n",
    "m1 = Chem.MolFromSmiles('Cc1ccccc1')\n",
    "fp1 = fpgen.GetSparseCountFingerprint(m1)\n",
    "fp2 = fpgen.GetFingerprint(m1)"
   ],
   "id": "86d82cb44fbe23a9",
   "outputs": [],
   "execution_count": 3
  },
  {
   "metadata": {
    "ExecuteTime": {
     "end_time": "2025-04-03T08:32:44.269853Z",
     "start_time": "2025-04-03T08:32:44.251905Z"
    }
   },
   "cell_type": "code",
   "source": "set(key%2048 for key in fp1.GetNonzeroElements().keys()) == set(fp2.GetOnBits())",
   "id": "cf3defed0d6ec5e",
   "outputs": [
    {
     "data": {
      "text/plain": [
       "True"
      ]
     },
     "execution_count": 4,
     "metadata": {},
     "output_type": "execute_result"
    }
   ],
   "execution_count": 4
  },
  {
   "metadata": {
    "ExecuteTime": {
     "end_time": "2025-04-03T08:32:44.359570Z",
     "start_time": "2025-04-03T08:32:44.348641Z"
    }
   },
   "cell_type": "code",
   "source": "list(fp2.GetOnBits())",
   "id": "cdd0813f4c8c3ee3",
   "outputs": [
    {
     "data": {
      "text/plain": [
       "[389, 1055, 1057, 1088, 1199, 1380, 1722, 1750, 1823, 1873, 1920]"
      ]
     },
     "execution_count": 5,
     "metadata": {},
     "output_type": "execute_result"
    }
   ],
   "execution_count": 5
  },
  {
   "metadata": {
    "ExecuteTime": {
     "end_time": "2025-04-03T08:32:44.407738Z",
     "start_time": "2025-04-03T08:32:44.396088Z"
    }
   },
   "cell_type": "code",
   "source": "len(fp2.GetOnBits()) == len(fp1.GetNonzeroElements())",
   "id": "96ef9ae644917140",
   "outputs": [
    {
     "data": {
      "text/plain": [
       "True"
      ]
     },
     "execution_count": 6,
     "metadata": {},
     "output_type": "execute_result"
    }
   ],
   "execution_count": 6
  },
  {
   "metadata": {
    "ExecuteTime": {
     "end_time": "2025-04-03T08:32:44.441148Z",
     "start_time": "2025-04-03T08:32:44.429369Z"
    }
   },
   "cell_type": "code",
   "source": "DataStructs.TanimotoSimilarity(fp1, fp1)",
   "id": "25f8b3446ba85d29",
   "outputs": [
    {
     "data": {
      "text/plain": [
       "1.0"
      ]
     },
     "execution_count": 7,
     "metadata": {},
     "output_type": "execute_result"
    }
   ],
   "execution_count": 7
  },
  {
   "metadata": {
    "ExecuteTime": {
     "end_time": "2025-04-03T08:32:44.493855Z",
     "start_time": "2025-04-03T08:32:44.484673Z"
    }
   },
   "cell_type": "code",
   "source": [
    "def similarity_search(qfp, fps, similarity_treshold=0.8):\n",
    "    return [idx for idx, fp in enumerate(fps) if DataStructs.TanimotoSimilarity(qfp, fp) >= similarity_treshold]"
   ],
   "id": "3ebdcb493f697da4",
   "outputs": [],
   "execution_count": 8
  },
  {
   "metadata": {
    "ExecuteTime": {
     "end_time": "2025-04-03T08:32:47.757991Z",
     "start_time": "2025-04-03T08:32:44.516377Z"
    }
   },
   "cell_type": "code",
   "source": [
    "drug_fps = [fpgen.GetFingerprint(drug) for drug in drugs]\n",
    "mtor_fps = [fpgen.GetFingerprint(drug) for drug in mtor_ligands]"
   ],
   "id": "212e8d98ad9afe15",
   "outputs": [],
   "execution_count": 9
  },
  {
   "metadata": {
    "ExecuteTime": {
     "end_time": "2025-04-03T08:32:47.881913Z",
     "start_time": "2025-04-03T08:32:47.780430Z"
    }
   },
   "cell_type": "code",
   "source": "similarity_search(mtor_fps[123], drug_fps)",
   "id": "3f2b770f8a5b47d8",
   "outputs": [
    {
     "data": {
      "text/plain": [
       "[]"
      ]
     },
     "execution_count": 10,
     "metadata": {},
     "output_type": "execute_result"
    }
   ],
   "execution_count": 10
  },
  {
   "metadata": {
    "ExecuteTime": {
     "end_time": "2025-04-03T08:35:50.476734Z",
     "start_time": "2025-04-03T08:32:47.968851Z"
    }
   },
   "cell_type": "code",
   "source": "similar_mtors = [(idx, similarity_search(qfp, drug_fps)) for idx, qfp in enumerate(mtor_fps)]",
   "id": "67b1611cc7d19cc6",
   "outputs": [],
   "execution_count": 11
  },
  {
   "metadata": {
    "ExecuteTime": {
     "end_time": "2025-04-03T08:35:50.524047Z",
     "start_time": "2025-04-03T08:35:50.516352Z"
    }
   },
   "cell_type": "code",
   "source": "len([(m, ds) for m, ds in similar_mtors if len(ds)])",
   "id": "4e9ae40bdf34eaa1",
   "outputs": [
    {
     "data": {
      "text/plain": [
       "56"
      ]
     },
     "execution_count": 12,
     "metadata": {},
     "output_type": "execute_result"
    }
   ],
   "execution_count": 12
  },
  {
   "metadata": {
    "ExecuteTime": {
     "end_time": "2025-04-03T08:35:50.598067Z",
     "start_time": "2025-04-03T08:35:50.589157Z"
    }
   },
   "cell_type": "code",
   "source": "[(m, ds) for m, ds in similar_mtors if len(ds)]",
   "id": "c2a8a29e10c2bf17",
   "outputs": [
    {
     "data": {
      "text/plain": [
       "[(17, [1099]),\n",
       " (23, [760, 1377, 4580]),\n",
       " (36, [5903]),\n",
       " (77, [760, 1377]),\n",
       " (145, [287, 6682]),\n",
       " (205, [5905]),\n",
       " (211, [5904]),\n",
       " (218, [5214]),\n",
       " (317, [760, 1377, 4580]),\n",
       " (338, [1700]),\n",
       " (373, [747]),\n",
       " (379, [760, 1377, 4580]),\n",
       " (496, [1130]),\n",
       " (517, [4580]),\n",
       " (540, [5910]),\n",
       " (551, [747]),\n",
       " (566, [5468]),\n",
       " (888, [5904]),\n",
       " (889, [5904]),\n",
       " (906, [6143]),\n",
       " (954, [6143]),\n",
       " (1002, [287, 6682]),\n",
       " (1045, [2344]),\n",
       " (1057, [760]),\n",
       " (1060, [2344]),\n",
       " (1067, [760, 1377, 4580]),\n",
       " (1095, [1141, 5860]),\n",
       " (1134, [5121]),\n",
       " (1218, [92]),\n",
       " (1274, [1575]),\n",
       " (1312, [2344]),\n",
       " (1322, [760, 1377, 4580]),\n",
       " (1391, [2344]),\n",
       " (1406, [760, 1377, 4580]),\n",
       " (1416, [760, 1377, 4580]),\n",
       " (1520, [4580]),\n",
       " (1542, [760, 1377, 4580]),\n",
       " (1550, [4580]),\n",
       " (1600, [2344]),\n",
       " (1629, [1700]),\n",
       " (1712, [2344]),\n",
       " (1730, [2344]),\n",
       " (1777, [5904]),\n",
       " (1783, [208]),\n",
       " (1818, [5905]),\n",
       " (1825, [5904]),\n",
       " (1826, [5903]),\n",
       " (1827, [5904]),\n",
       " (1939, [1130]),\n",
       " (2024, [760, 1377, 4580]),\n",
       " (2796, [2344]),\n",
       " (2807, [1756]),\n",
       " (3046, [5903]),\n",
       " (3047, [5214]),\n",
       " (3200, [2344]),\n",
       " (3478, [6804])]"
      ]
     },
     "execution_count": 13,
     "metadata": {},
     "output_type": "execute_result"
    }
   ],
   "execution_count": 13
  },
  {
   "metadata": {
    "ExecuteTime": {
     "end_time": "2025-04-03T08:35:50.699980Z",
     "start_time": "2025-04-03T08:35:50.657126Z"
    }
   },
   "cell_type": "code",
   "source": "mtor_ligands[2024]",
   "id": "fa8401a70aed3c51",
   "outputs": [
    {
     "data": {
      "text/plain": [
       "<rdkit.Chem.rdchem.Mol at 0x219ef9ae420>"
      ],
      "image/png": "[encoded data removed]"
     },
     "execution_count": 14,
     "metadata": {},
     "output_type": "execute_result"
    }
   ],
   "execution_count": 14
  },
  {
   "metadata": {
    "ExecuteTime": {
     "end_time": "2025-04-03T08:35:50.733388Z",
     "start_time": "2025-04-03T08:35:50.730427Z"
    }
   },
   "cell_type": "code",
   "source": "",
   "id": "b0f7e6e9ee7fc148",
   "outputs": [],
   "execution_count": null
  },
  {
   "metadata": {
    "ExecuteTime": {
     "end_time": "2025-04-03T08:35:50.785422Z",
     "start_time": "2025-04-03T08:35:50.748085Z"
    }
   },
   "cell_type": "code",
   "source": "Draw.MolsToGridImage((mtor_ligands[2024], drugs[760], drugs[1377], drugs[4580]))",
   "id": "b0578c80a9d25244",
   "outputs": [
    {
     "data": {
      "image/png": "[encoded data removed]",
      "text/plain": [
       "<IPython.core.display.Image object>"
      ]
     },
     "execution_count": 15,
     "metadata": {},
     "output_type": "execute_result"
    }
   ],
   "execution_count": 15
  },
  {
   "metadata": {
    "ExecuteTime": {
     "end_time": "2025-04-03T08:35:50.805361Z",
     "start_time": "2025-04-03T08:35:50.798808Z"
    }
   },
   "cell_type": "code",
   "source": [
    "ao = Chem.AdditionalOutput()\n",
    "ao.CollectBitInfoMap()\n",
    "ao.CollectBitPaths()\n",
    "fp = fpgen.GetSparseCountFingerprint(mtor_ligands[2024],additionalOutput=ao)"
   ],
   "id": "25c3bb137187b766",
   "outputs": [],
   "execution_count": 16
  },
  {
   "metadata": {
    "ExecuteTime": {
     "end_time": "2025-04-03T08:35:50.853626Z",
     "start_time": "2025-04-03T08:35:50.841808Z"
    }
   },
   "cell_type": "code",
   "source": "ao.GetBitInfoMap()",
   "id": "467ee672aa226928",
   "outputs": [
    {
     "data": {
      "text/plain": [
       "{10565946: ((13, 1), (15, 1), (23, 1), (40, 1), (52, 1)),\n",
       " 26892922: ((17, 2),),\n",
       " 69887201: ((62, 1),),\n",
       " 98466654: ((59, 1), (60, 1), (61, 1)),\n",
       " 153234704: ((12, 1),),\n",
       " 172238518: ((28, 1),),\n",
       " 205147147: ((37, 2),),\n",
       " 234364970: ((26, 2),),\n",
       " 259610089: ((9, 1),),\n",
       " 262122284: ((25, 1),),\n",
       " 265892994: ((10, 1),),\n",
       " 266675433: ((33, 1), (47, 1)),\n",
       " 301694982: ((29, 2),),\n",
       " 377947652: ((56, 2),),\n",
       " 422715066: ((45, 1), (64, 1)),\n",
       " 462175782: ((28, 2),),\n",
       " 479202476: ((31, 2),),\n",
       " 517457164: ((3, 1), (55, 1), (37, 1)),\n",
       " 530331747: ((14, 2),),\n",
       " 758494440: ((41, 1),),\n",
       " 772446440: ((5, 2),),\n",
       " 781671818: ((61, 2),),\n",
       " 864662311: ((10, 0), (33, 0), (47, 0)),\n",
       " 864674487: ((1, 0), (35, 0), (49, 0)),\n",
       " 864942730: ((13, 0), (15, 0), (23, 0), (40, 0), (52, 0)),\n",
       " 922375834: ((51, 2),),\n",
       " 934178987: ((44, 1), (63, 1)),\n",
       " 968801832: ((34, 2),),\n",
       " 981072036: ((46, 1),),\n",
       " 1015593651: ((6, 2),),\n",
       " 1023190685: ((26, 1),),\n",
       " 1067305901: ((22, 1),),\n",
       " 1091340519: ((20, 2),),\n",
       " 1184436594: ((39, 1),),\n",
       " 1228528465: ((32, 1),),\n",
       " 1236795370: ((7, 1),),\n",
       " 1251717127: ((48, 1),),\n",
       " 1477870366: ((34, 1),),\n",
       " 1526295481: ((58, 2),),\n",
       " 1581906374: ((11, 2),),\n",
       " 1621884272: ((35, 2),),\n",
       " 1730555933: ((29, 1),),\n",
       " 1808477881: ((2, 1),),\n",
       " 1824088295: ((38, 1),),\n",
       " 1843557237: ((2, 2),),\n",
       " 1858577693: ((8, 1), (42, 1), (54, 1), (57, 1)),\n",
       " 1871221615: ((14, 1),),\n",
       " 1959335747: ((59, 2),),\n",
       " 1978844073: ((1, 1), (35, 1), (49, 1)),\n",
       " 2022594906: ((62, 2),),\n",
       " 2092489639: ((16, 0),),\n",
       " 2117068077: ((5, 1), (6, 1), (20, 1), (30, 1), (31, 1)),\n",
       " 2142032900: ((18, 1), (19, 1)),\n",
       " 2187816673: ((38, 2),),\n",
       " 2245273601: ((26, 0),),\n",
       " 2245384272: ((28, 0),),\n",
       " 2246728737: ((0, 0),\n",
       "  (8, 0),\n",
       "  (27, 0),\n",
       "  (36, 0),\n",
       "  (42, 0),\n",
       "  (45, 0),\n",
       "  (50, 0),\n",
       "  (54, 0),\n",
       "  (57, 0),\n",
       "  (64, 0)),\n",
       " 2296308266: ((7, 2),),\n",
       " 2404566397: ((4, 2),),\n",
       " 2444571534: ((49, 2),),\n",
       " 2446961558: ((43, 1),),\n",
       " 2447748155: ((58, 1),),\n",
       " 2456117439: ((12, 2),),\n",
       " 2557045420: ((16, 1),),\n",
       " 2617658656: ((21, 1),),\n",
       " 2651067438: ((11, 1),),\n",
       " 2690721845: ((9, 2),),\n",
       " 2697642734: ((24, 1),),\n",
       " 2698045094: ((60, 2),),\n",
       " 2724882975: ((39, 2),),\n",
       " 2766933775: ((21, 2),),\n",
       " 2803848648: ((17, 1),),\n",
       " 2831909841: ((1, 2),),\n",
       " 2832976762: ((19, 2),),\n",
       " 2880644171: ((24, 2),),\n",
       " 2968968094: ((3, 0),\n",
       "  (5, 0),\n",
       "  (6, 0),\n",
       "  (17, 0),\n",
       "  (18, 0),\n",
       "  (19, 0),\n",
       "  (20, 0),\n",
       "  (30, 0),\n",
       "  (31, 0),\n",
       "  (37, 0),\n",
       "  (38, 0),\n",
       "  (55, 0)),\n",
       " 2976033787: ((2, 0),\n",
       "  (4, 0),\n",
       "  (7, 0),\n",
       "  (21, 0),\n",
       "  (25, 0),\n",
       "  (29, 0),\n",
       "  (32, 0),\n",
       "  (34, 0),\n",
       "  (41, 0),\n",
       "  (46, 0),\n",
       "  (48, 0),\n",
       "  (53, 0),\n",
       "  (56, 0)),\n",
       " 2976816164: ((9, 0),),\n",
       " 3010403720: ((48, 2),),\n",
       " 3027150250: ((53, 1),),\n",
       " 3055202214: ((43, 2),),\n",
       " 3146955833: ((56, 1),),\n",
       " 3189457552: ((11, 0), (24, 0)),\n",
       " 3217380708: ((12, 0), (14, 0), (22, 0), (39, 0), (44, 0), (51, 0), (63, 0)),\n",
       " 3218693969: ((43, 0), (58, 0), (59, 0), (60, 0), (61, 0), (62, 0)),\n",
       " 3278113379: ((51, 1),),\n",
       " 3291149959: ((30, 2),),\n",
       " 3317987381: ((44, 2),),\n",
       " 3351836825: ((46, 2),),\n",
       " 3373232476: ((53, 2),),\n",
       " 3455213876: ((4, 1),),\n",
       " 3487435338: ((55, 2),),\n",
       " 3537119515: ((27, 1),),\n",
       " 3578275937: ((63, 2),),\n",
       " 3603970564: ((32, 2),),\n",
       " 3796359118: ((18, 2),),\n",
       " 3808853630: ((3, 2),),\n",
       " 3949111824: ((41, 2),),\n",
       " 3975275337: ((0, 1), (36, 1), (50, 1)),\n",
       " 4139077556: ((22, 2),),\n",
       " 4205353486: ((25, 2),),\n",
       " 4250864402: ((16, 2),)}"
      ]
     },
     "execution_count": 17,
     "metadata": {},
     "output_type": "execute_result"
    }
   ],
   "execution_count": 17
  },
  {
   "metadata": {
    "ExecuteTime": {
     "end_time": "2025-04-03T08:35:50.933478Z",
     "start_time": "2025-04-03T08:35:50.930978Z"
    }
   },
   "cell_type": "code",
   "source": "",
   "id": "e600724adb564a76",
   "outputs": [],
   "execution_count": null
  },
  {
   "metadata": {
    "ExecuteTime": {
     "end_time": "2025-04-03T08:35:50.984904Z",
     "start_time": "2025-04-03T08:35:50.980977Z"
    }
   },
   "cell_type": "code",
   "source": "m = mtor_ligands[2024]",
   "id": "78d421f434fcd8e0",
   "outputs": [],
   "execution_count": 18
  },
  {
   "metadata": {
    "ExecuteTime": {
     "end_time": "2025-04-03T08:35:51.034384Z",
     "start_time": "2025-04-03T08:35:51.030526Z"
    }
   },
   "cell_type": "code",
   "source": "a = m.GetAtomWithIdx(13)",
   "id": "4ef174d0f1e71b1b",
   "outputs": [],
   "execution_count": 19
  },
  {
   "metadata": {
    "ExecuteTime": {
     "end_time": "2025-04-03T08:35:51.063855Z",
     "start_time": "2025-04-03T08:35:51.057991Z"
    }
   },
   "cell_type": "code",
   "source": "b = list(a.GetBonds())[0]",
   "id": "3623a8703f361372",
   "outputs": [],
   "execution_count": 20
  },
  {
   "metadata": {
    "ExecuteTime": {
     "end_time": "2025-04-03T08:35:51.081021Z",
     "start_time": "2025-04-03T08:35:51.074225Z"
    }
   },
   "cell_type": "code",
   "source": "dir(b)",
   "id": "e09a217eb81ca889",
   "outputs": [
    {
     "data": {
      "text/plain": [
       "['ClearProp',\n",
       " 'DescribeQuery',\n",
       " 'GetBeginAtom',\n",
       " 'GetBeginAtomIdx',\n",
       " 'GetBondDir',\n",
       " 'GetBondType',\n",
       " 'GetBondTypeAsDouble',\n",
       " 'GetBoolProp',\n",
       " 'GetDoubleProp',\n",
       " 'GetEndAtom',\n",
       " 'GetEndAtomIdx',\n",
       " 'GetIdx',\n",
       " 'GetIntProp',\n",
       " 'GetIsAromatic',\n",
       " 'GetIsConjugated',\n",
       " 'GetOtherAtom',\n",
       " 'GetOtherAtomIdx',\n",
       " 'GetOwningMol',\n",
       " 'GetProp',\n",
       " 'GetPropNames',\n",
       " 'GetPropsAsDict',\n",
       " 'GetSmarts',\n",
       " 'GetStereo',\n",
       " 'GetStereoAtoms',\n",
       " 'GetUnsignedProp',\n",
       " 'GetValenceContrib',\n",
       " 'HasOwningMol',\n",
       " 'HasProp',\n",
       " 'HasQuery',\n",
       " 'IsInRing',\n",
       " 'IsInRingSize',\n",
       " 'Match',\n",
       " 'SetBondDir',\n",
       " 'SetBondType',\n",
       " 'SetBoolProp',\n",
       " 'SetDoubleProp',\n",
       " 'SetIntProp',\n",
       " 'SetIsAromatic',\n",
       " 'SetIsConjugated',\n",
       " 'SetProp',\n",
       " 'SetStereo',\n",
       " 'SetStereoAtoms',\n",
       " 'SetUnsignedProp',\n",
       " '__class__',\n",
       " '__delattr__',\n",
       " '__dict__',\n",
       " '__dir__',\n",
       " '__doc__',\n",
       " '__eq__',\n",
       " '__format__',\n",
       " '__ge__',\n",
       " '__getattribute__',\n",
       " '__getstate__',\n",
       " '__gt__',\n",
       " '__hash__',\n",
       " '__init__',\n",
       " '__init_subclass__',\n",
       " '__le__',\n",
       " '__lt__',\n",
       " '__module__',\n",
       " '__ne__',\n",
       " '__new__',\n",
       " '__reduce__',\n",
       " '__reduce_ex__',\n",
       " '__repr__',\n",
       " '__setattr__',\n",
       " '__sizeof__',\n",
       " '__str__',\n",
       " '__subclasshook__',\n",
       " '__weakref__']"
      ]
     },
     "execution_count": 21,
     "metadata": {},
     "output_type": "execute_result"
    }
   ],
   "execution_count": 21
  },
  {
   "metadata": {
    "ExecuteTime": {
     "end_time": "2025-04-03T08:35:51.122744Z",
     "start_time": "2025-04-03T08:35:51.117750Z"
    }
   },
   "cell_type": "code",
   "source": "connected_atoms = tuple(set((b.GetIdx(), b.GetBeginAtomIdx(), b.GetEndAtomIdx())) for b in m.GetBonds())",
   "id": "803f7a49a0d8832d",
   "outputs": [],
   "execution_count": 22
  },
  {
   "metadata": {
    "ExecuteTime": {
     "end_time": "2025-04-03T08:35:51.147133Z",
     "start_time": "2025-04-03T08:35:51.140166Z"
    }
   },
   "cell_type": "code",
   "source": "connected_atoms",
   "id": "b0853710987448e5",
   "outputs": [
    {
     "data": {
      "text/plain": [
       "({0, 1},\n",
       " {1, 2},\n",
       " {2, 3},\n",
       " {3, 4},\n",
       " {4, 5},\n",
       " {5, 6},\n",
       " {6, 7},\n",
       " {7, 8},\n",
       " {7, 8, 9},\n",
       " {9, 10},\n",
       " {9, 10, 11},\n",
       " {9, 11, 12},\n",
       " {12, 13},\n",
       " {12, 13, 14},\n",
       " {14, 15},\n",
       " {14, 15, 16},\n",
       " {16, 17},\n",
       " {17, 18},\n",
       " {18, 19},\n",
       " {19, 20},\n",
       " {20, 21},\n",
       " {21, 22},\n",
       " {22, 23},\n",
       " {22, 23, 24},\n",
       " {24, 25},\n",
       " {25, 26},\n",
       " {26, 27},\n",
       " {26, 27, 28},\n",
       " {28, 29},\n",
       " {29, 30},\n",
       " {30, 31},\n",
       " {31, 32},\n",
       " {32, 33},\n",
       " {32, 33, 34},\n",
       " {34, 35},\n",
       " {35, 36},\n",
       " {34, 36, 37},\n",
       " {25, 37, 38},\n",
       " {38, 39},\n",
       " {39, 40},\n",
       " {39, 40, 41},\n",
       " {41, 42},\n",
       " {41, 42, 43},\n",
       " {43, 44},\n",
       " {44, 45},\n",
       " {44, 45, 46},\n",
       " {46, 47},\n",
       " {46, 47, 48},\n",
       " {48, 49},\n",
       " {49, 50},\n",
       " {48, 50, 51},\n",
       " {51, 52},\n",
       " {51, 52, 53},\n",
       " {53, 54},\n",
       " {53, 54, 55},\n",
       " {55, 56},\n",
       " {56, 57},\n",
       " {56, 57, 58},\n",
       " {58, 59},\n",
       " {59, 60},\n",
       " {60, 61},\n",
       " {61, 62},\n",
       " {62, 63},\n",
       " {63, 64},\n",
       " {2, 63, 64},\n",
       " {4, 11, 65},\n",
       " {16, 21, 66},\n",
       " {29, 37, 67})"
      ]
     },
     "execution_count": 23,
     "metadata": {},
     "output_type": "execute_result"
    }
   ],
   "execution_count": 23
  },
  {
   "metadata": {
    "ExecuteTime": {
     "end_time": "2025-04-03T08:35:51.209074Z",
     "start_time": "2025-04-03T08:35:51.186848Z"
    }
   },
   "cell_type": "code",
   "source": [
    "to_hightligth = ((13, 1), (15, 1), (23, 1), (40, 1), (52, 1))\n",
    "d = rdMolDraw2D.MolDraw2DSVG(500, 500)\n",
    "rdMolDraw2D.PrepareAndDrawMolecule(d, mtor_ligands[2024], highlightAtoms=[x[0] for x in to_hightligth])\n",
    "d.FinishDrawing()\n",
    "SVG(d.GetDrawingText())"
   ],
   "id": "a33d698a836c7dd8",
   "outputs": [
    {
     "data": {
      "text/plain": [
       "<IPython.core.display.SVG object>"
      ],
      "image/svg+xml": "<svg xmlns=\"http://www.w3.org/2000/svg\" xmlns:rdkit=\"http://www.rdkit.org/xml\" xmlns:xlink=\"http://www.w3.org/1999/xlink\" version=\"1.1\" baseProfile=\"full\" xml:space=\"preserve\" width=\"500px\" height=\"500px\" viewBox=\"0 0 500 500\">\n<!-- END OF HEADER -->\n<rect style=\"opacity:1.0;fill:#FFFFFF;stroke:none\" width=\"500.0\" height=\"500.0\" x=\"0.0\" y=\"0.0\"> </rect>\n<ellipse cx=\"167.7\" cy=\"407.3\" rx=\"5.7\" ry=\"5.9\" class=\"atom-13\" style=\"fill:#FF7F7F;fill-rule:evenodd;stroke:#FF7F7F;stroke-width:1.0px;stroke-linecap:butt;stroke-linejoin:miter;stroke-opacity:1\"/>\n<ellipse cx=\"202.6\" cy=\"407.1\" rx=\"5.7\" ry=\"5.9\" class=\"atom-15\" style=\"fill:#FF7F7F;fill-rule:evenodd;stroke:#FF7F7F;stroke-width:1.0px;stroke-linecap:butt;stroke-linejoin:miter;stroke-opacity:1\"/>\n<ellipse cx=\"298.2\" cy=\"360.7\" rx=\"5.7\" ry=\"5.9\" class=\"atom-23\" style=\"fill:#FF7F7F;fill-rule:evenodd;stroke:#FF7F7F;stroke-width:1.0px;stroke-linecap:butt;stroke-linejoin:miter;stroke-opacity:1\"/>\n<ellipse cx=\"345.1\" cy=\"237.0\" rx=\"5.7\" ry=\"5.9\" class=\"atom-40\" style=\"fill:#FF7F7F;fill-rule:evenodd;stroke:#FF7F7F;stroke-width:1.0px;stroke-linecap:butt;stroke-linejoin:miter;stroke-opacity:1\"/>\n<ellipse cx=\"217.7\" cy=\"89.0\" rx=\"5.7\" ry=\"5.9\" class=\"atom-52\" style=\"fill:#FF7F7F;fill-rule:evenodd;stroke:#FF7F7F;stroke-width:1.0px;stroke-linecap:butt;stroke-linejoin:miter;stroke-opacity:1\"/>\n<path class=\"bond-0 atom-0 atom-1\" d=\"M 30.6,335.9 L 32.2,324.2\" style=\"fill:none;fill-rule:evenodd;stroke:#000000;stroke-width:2.0px;stroke-linecap:butt;stroke-linejoin:miter;stroke-opacity:1\"/>\n<path class=\"bond-0 atom-0 atom-1\" d=\"M 32.2,324.2 L 33.8,312.6\" style=\"fill:none;fill-rule:evenodd;stroke:#FF0000;stroke-width:2.0px;stroke-linecap:butt;stroke-linejoin:miter;stroke-opacity:1\"/>\n<path class=\"bond-1 atom-2 atom-1\" d=\"M 57.5,297.7 L 57.8,298.5\" style=\"fill:none;fill-rule:evenodd;stroke:#000000;stroke-width:1.0px;stroke-linecap:butt;stroke-linejoin:miter;stroke-opacity:1\"/>\n<path class=\"bond-1 atom-2 atom-1\" d=\"M 53.8,298.7 L 54.5,300.3\" style=\"fill:none;fill-rule:evenodd;stroke:#000000;stroke-width:1.0px;stroke-linecap:butt;stroke-linejoin:miter;stroke-opacity:1\"/>\n<path class=\"bond-1 atom-2 atom-1\" d=\"M 50.2,299.7 L 51.1,302.1\" style=\"fill:none;fill-rule:evenodd;stroke:#000000;stroke-width:1.0px;stroke-linecap:butt;stroke-linejoin:miter;stroke-opacity:1\"/>\n<path class=\"bond-1 atom-2 atom-1\" d=\"M 46.5,300.8 L 47.8,303.9\" style=\"fill:none;fill-rule:evenodd;stroke:#FF0000;stroke-width:1.0px;stroke-linecap:butt;stroke-linejoin:miter;stroke-opacity:1\"/>\n<path class=\"bond-1 atom-2 atom-1\" d=\"M 42.9,301.8 L 44.5,305.7\" style=\"fill:none;fill-rule:evenodd;stroke:#FF0000;stroke-width:1.0px;stroke-linecap:butt;stroke-linejoin:miter;stroke-opacity:1\"/>\n<path class=\"bond-2 atom-2 atom-3\" d=\"M 61.1,296.7 L 72.0,316.9\" style=\"fill:none;fill-rule:evenodd;stroke:#000000;stroke-width:2.0px;stroke-linecap:butt;stroke-linejoin:miter;stroke-opacity:1\"/>\n<path class=\"bond-3 atom-3 atom-4\" d=\"M 78.8,326.6 L 93.5,343.7\" style=\"fill:none;fill-rule:evenodd;stroke:#000000;stroke-width:2.0px;stroke-linecap:butt;stroke-linejoin:miter;stroke-opacity:1\"/>\n<path class=\"bond-4 atom-4 atom-5\" d=\"M 93.5,343.7 L 85.1,372.1\" style=\"fill:none;fill-rule:evenodd;stroke:#000000;stroke-width:2.0px;stroke-linecap:butt;stroke-linejoin:miter;stroke-opacity:1\"/>\n<path class=\"bond-5 atom-5 atom-6\" d=\"M 85.1,372.1 L 99.2,397.1\" style=\"fill:none;fill-rule:evenodd;stroke:#000000;stroke-width:2.0px;stroke-linecap:butt;stroke-linejoin:miter;stroke-opacity:1\"/>\n<path class=\"bond-6 atom-6 atom-7\" d=\"M 99.2,397.1 L 127.9,397.4\" style=\"fill:none;fill-rule:evenodd;stroke:#000000;stroke-width:2.0px;stroke-linecap:butt;stroke-linejoin:miter;stroke-opacity:1\"/>\n<path class=\"bond-7 atom-7 atom-8\" d=\"M 129.9,400.4 L 129.4,400.7\" style=\"fill:none;fill-rule:evenodd;stroke:#000000;stroke-width:1.0px;stroke-linecap:butt;stroke-linejoin:miter;stroke-opacity:1\"/>\n<path class=\"bond-7 atom-7 atom-8\" d=\"M 131.9,403.4 L 130.9,403.9\" style=\"fill:none;fill-rule:evenodd;stroke:#000000;stroke-width:1.0px;stroke-linecap:butt;stroke-linejoin:miter;stroke-opacity:1\"/>\n<path class=\"bond-7 atom-7 atom-8\" d=\"M 133.9,406.4 L 132.5,407.2\" style=\"fill:none;fill-rule:evenodd;stroke:#000000;stroke-width:1.0px;stroke-linecap:butt;stroke-linejoin:miter;stroke-opacity:1\"/>\n<path class=\"bond-7 atom-7 atom-8\" d=\"M 135.8,409.4 L 134.0,410.5\" style=\"fill:none;fill-rule:evenodd;stroke:#000000;stroke-width:1.0px;stroke-linecap:butt;stroke-linejoin:miter;stroke-opacity:1\"/>\n<path class=\"bond-7 atom-7 atom-8\" d=\"M 137.8,412.4 L 135.5,413.7\" style=\"fill:none;fill-rule:evenodd;stroke:#000000;stroke-width:1.0px;stroke-linecap:butt;stroke-linejoin:miter;stroke-opacity:1\"/>\n<path class=\"bond-7 atom-7 atom-8\" d=\"M 139.8,415.4 L 137.0,417.0\" style=\"fill:none;fill-rule:evenodd;stroke:#000000;stroke-width:1.0px;stroke-linecap:butt;stroke-linejoin:miter;stroke-opacity:1\"/>\n<path class=\"bond-7 atom-7 atom-8\" d=\"M 141.8,418.4 L 138.6,420.2\" style=\"fill:none;fill-rule:evenodd;stroke:#000000;stroke-width:1.0px;stroke-linecap:butt;stroke-linejoin:miter;stroke-opacity:1\"/>\n<path class=\"bond-7 atom-7 atom-8\" d=\"M 143.8,421.4 L 140.1,423.5\" style=\"fill:none;fill-rule:evenodd;stroke:#000000;stroke-width:1.0px;stroke-linecap:butt;stroke-linejoin:miter;stroke-opacity:1\"/>\n<path class=\"bond-8 atom-7 atom-9\" d=\"M 127.9,397.4 L 142.5,372.8\" style=\"fill:none;fill-rule:evenodd;stroke:#000000;stroke-width:2.0px;stroke-linecap:butt;stroke-linejoin:miter;stroke-opacity:1\"/>\n<path class=\"bond-9 atom-9 atom-10\" d=\"M 143.0,376.4 L 141.5,376.3\" style=\"fill:none;fill-rule:evenodd;stroke:#000000;stroke-width:1.0px;stroke-linecap:butt;stroke-linejoin:miter;stroke-opacity:1\"/>\n<path class=\"bond-9 atom-9 atom-10\" d=\"M 143.4,380.1 L 140.6,379.9\" style=\"fill:none;fill-rule:evenodd;stroke:#FF0000;stroke-width:1.0px;stroke-linecap:butt;stroke-linejoin:miter;stroke-opacity:1\"/>\n<path class=\"bond-9 atom-9 atom-10\" d=\"M 143.8,383.8 L 139.6,383.5\" style=\"fill:none;fill-rule:evenodd;stroke:#FF0000;stroke-width:1.0px;stroke-linecap:butt;stroke-linejoin:miter;stroke-opacity:1\"/>\n<path class=\"bond-10 atom-9 atom-11\" d=\"M 142.5,372.8 L 131.8,367.9\" style=\"fill:none;fill-rule:evenodd;stroke:#000000;stroke-width:2.0px;stroke-linecap:butt;stroke-linejoin:miter;stroke-opacity:1\"/>\n<path class=\"bond-10 atom-9 atom-11\" d=\"M 131.8,367.9 L 121.1,363.0\" style=\"fill:none;fill-rule:evenodd;stroke:#FF0000;stroke-width:2.0px;stroke-linecap:butt;stroke-linejoin:miter;stroke-opacity:1\"/>\n<path class=\"bond-11 atom-9 atom-12\" d=\"M 142.5,372.8 L 170.6,378.7\" style=\"fill:none;fill-rule:evenodd;stroke:#000000;stroke-width:2.0px;stroke-linecap:butt;stroke-linejoin:miter;stroke-opacity:1\"/>\n<path class=\"bond-12 atom-12 atom-13\" d=\"M 168.5,378.3 L 166.1,402.0\" style=\"fill:none;fill-rule:evenodd;stroke:#000000;stroke-width:2.0px;stroke-linecap:butt;stroke-linejoin:miter;stroke-opacity:1\"/>\n<path class=\"bond-12 atom-12 atom-13\" d=\"M 172.7,378.7 L 170.3,402.5\" style=\"fill:none;fill-rule:evenodd;stroke:#000000;stroke-width:2.0px;stroke-linecap:butt;stroke-linejoin:miter;stroke-opacity:1\"/>\n<path class=\"bond-13 atom-12 atom-14\" d=\"M 170.6,378.7 L 199.3,378.6\" style=\"fill:none;fill-rule:evenodd;stroke:#000000;stroke-width:2.0px;stroke-linecap:butt;stroke-linejoin:miter;stroke-opacity:1\"/>\n<path class=\"bond-14 atom-14 atom-15\" d=\"M 197.1,378.6 L 199.9,402.3\" style=\"fill:none;fill-rule:evenodd;stroke:#000000;stroke-width:2.0px;stroke-linecap:butt;stroke-linejoin:miter;stroke-opacity:1\"/>\n<path class=\"bond-14 atom-14 atom-15\" d=\"M 201.4,378.1 L 204.1,401.8\" style=\"fill:none;fill-rule:evenodd;stroke:#000000;stroke-width:2.0px;stroke-linecap:butt;stroke-linejoin:miter;stroke-opacity:1\"/>\n<path class=\"bond-15 atom-14 atom-16\" d=\"M 199.3,378.6 L 211.2,375.8\" style=\"fill:none;fill-rule:evenodd;stroke:#000000;stroke-width:2.0px;stroke-linecap:butt;stroke-linejoin:miter;stroke-opacity:1\"/>\n<path class=\"bond-15 atom-14 atom-16\" d=\"M 211.2,375.8 L 223.2,373.1\" style=\"fill:none;fill-rule:evenodd;stroke:#0000FF;stroke-width:2.0px;stroke-linecap:butt;stroke-linejoin:miter;stroke-opacity:1\"/>\n<path class=\"bond-16 atom-16 atom-17\" d=\"M 226.8,377.2 L 225.8,389.0\" style=\"fill:none;fill-rule:evenodd;stroke:#0000FF;stroke-width:2.0px;stroke-linecap:butt;stroke-linejoin:miter;stroke-opacity:1\"/>\n<path class=\"bond-16 atom-16 atom-17\" d=\"M 225.8,389.0 L 224.8,400.8\" style=\"fill:none;fill-rule:evenodd;stroke:#000000;stroke-width:2.0px;stroke-linecap:butt;stroke-linejoin:miter;stroke-opacity:1\"/>\n<path class=\"bond-17 atom-17 atom-18\" d=\"M 224.8,400.8 L 248.4,417.2\" style=\"fill:none;fill-rule:evenodd;stroke:#000000;stroke-width:2.0px;stroke-linecap:butt;stroke-linejoin:miter;stroke-opacity:1\"/>\n<path class=\"bond-18 atom-18 atom-19\" d=\"M 248.4,417.2 L 274.4,405.0\" style=\"fill:none;fill-rule:evenodd;stroke:#000000;stroke-width:2.0px;stroke-linecap:butt;stroke-linejoin:miter;stroke-opacity:1\"/>\n<path class=\"bond-19 atom-19 atom-20\" d=\"M 274.4,405.0 L 276.8,376.4\" style=\"fill:none;fill-rule:evenodd;stroke:#000000;stroke-width:2.0px;stroke-linecap:butt;stroke-linejoin:miter;stroke-opacity:1\"/>\n<path class=\"bond-20 atom-20 atom-21\" d=\"M 276.8,376.4 L 253.2,360.0\" style=\"fill:none;fill-rule:evenodd;stroke:#000000;stroke-width:2.0px;stroke-linecap:butt;stroke-linejoin:miter;stroke-opacity:1\"/>\n<path class=\"bond-21 atom-21 atom-22\" d=\"M 253.2,360.0 L 275.9,342.5\" style=\"fill:none;fill-rule:evenodd;stroke:#000000;stroke-width:2.0px;stroke-linecap:butt;stroke-linejoin:miter;stroke-opacity:1\"/>\n<path class=\"bond-22 atom-22 atom-23\" d=\"M 274.2,343.8 L 292.2,358.4\" style=\"fill:none;fill-rule:evenodd;stroke:#000000;stroke-width:2.0px;stroke-linecap:butt;stroke-linejoin:miter;stroke-opacity:1\"/>\n<path class=\"bond-22 atom-22 atom-23\" d=\"M 277.3,340.8 L 294.9,355.2\" style=\"fill:none;fill-rule:evenodd;stroke:#000000;stroke-width:2.0px;stroke-linecap:butt;stroke-linejoin:miter;stroke-opacity:1\"/>\n<path class=\"bond-23 atom-22 atom-24\" d=\"M 275.9,342.5 L 283.0,334.1\" style=\"fill:none;fill-rule:evenodd;stroke:#000000;stroke-width:2.0px;stroke-linecap:butt;stroke-linejoin:miter;stroke-opacity:1\"/>\n<path class=\"bond-23 atom-22 atom-24\" d=\"M 283.0,334.1 L 290.0,325.7\" style=\"fill:none;fill-rule:evenodd;stroke:#FF0000;stroke-width:2.0px;stroke-linecap:butt;stroke-linejoin:miter;stroke-opacity:1\"/>\n<path class=\"bond-24 atom-24 atom-25\" d=\"M 297.0,315.4 L 302.3,305.3\" style=\"fill:none;fill-rule:evenodd;stroke:#FF0000;stroke-width:2.0px;stroke-linecap:butt;stroke-linejoin:miter;stroke-opacity:1\"/>\n<path class=\"bond-24 atom-24 atom-25\" d=\"M 302.3,305.3 L 307.6,295.1\" style=\"fill:none;fill-rule:evenodd;stroke:#000000;stroke-width:2.0px;stroke-linecap:butt;stroke-linejoin:miter;stroke-opacity:1\"/>\n<path class=\"bond-25 atom-25 atom-26\" d=\"M 307.6,295.1 L 334.4,305.5\" style=\"fill:none;fill-rule:evenodd;stroke:#000000;stroke-width:2.0px;stroke-linecap:butt;stroke-linejoin:miter;stroke-opacity:1\"/>\n<path class=\"bond-26 atom-26 atom-27\" d=\"M 334.4,305.5 L 340.8,333.5 L 336.6,334.2 Z\" style=\"fill:#000000;fill-rule:evenodd;fill-opacity:1;stroke:#000000;stroke-width:0.5px;stroke-linecap:butt;stroke-linejoin:miter;stroke-opacity:1;\"/>\n<path class=\"bond-27 atom-26 atom-28\" d=\"M 334.4,305.5 L 358.6,286.1\" style=\"fill:none;fill-rule:evenodd;stroke:#000000;stroke-width:2.0px;stroke-linecap:butt;stroke-linejoin:miter;stroke-opacity:1\"/>\n<path class=\"bond-28 atom-29 atom-28\" d=\"M 383.5,298.0 L 354.8,289.2 L 358.6,286.1 Z\" style=\"fill:#000000;fill-rule:evenodd;fill-opacity:1;stroke:#000000;stroke-width:0.5px;stroke-linecap:butt;stroke-linejoin:miter;stroke-opacity:1;\"/>\n<path class=\"bond-29 atom-29 atom-30\" d=\"M 383.5,298.0 L 387.8,326.4\" style=\"fill:none;fill-rule:evenodd;stroke:#000000;stroke-width:2.0px;stroke-linecap:butt;stroke-linejoin:miter;stroke-opacity:1\"/>\n<path class=\"bond-30 atom-30 atom-31\" d=\"M 387.8,326.4 L 414.5,336.8\" style=\"fill:none;fill-rule:evenodd;stroke:#000000;stroke-width:2.0px;stroke-linecap:butt;stroke-linejoin:miter;stroke-opacity:1\"/>\n<path class=\"bond-31 atom-31 atom-32\" d=\"M 414.5,336.8 L 436.9,318.9\" style=\"fill:none;fill-rule:evenodd;stroke:#000000;stroke-width:2.0px;stroke-linecap:butt;stroke-linejoin:miter;stroke-opacity:1\"/>\n<path class=\"bond-32 atom-32 atom-33\" d=\"M 440.6,320.0 L 440.3,320.6\" style=\"fill:none;fill-rule:evenodd;stroke:#000000;stroke-width:1.0px;stroke-linecap:butt;stroke-linejoin:miter;stroke-opacity:1\"/>\n<path class=\"bond-32 atom-32 atom-33\" d=\"M 444.2,321.0 L 443.7,322.3\" style=\"fill:none;fill-rule:evenodd;stroke:#000000;stroke-width:1.0px;stroke-linecap:butt;stroke-linejoin:miter;stroke-opacity:1\"/>\n<path class=\"bond-32 atom-32 atom-33\" d=\"M 447.9,322.1 L 447.1,324.0\" style=\"fill:none;fill-rule:evenodd;stroke:#000000;stroke-width:1.0px;stroke-linecap:butt;stroke-linejoin:miter;stroke-opacity:1\"/>\n<path class=\"bond-32 atom-32 atom-33\" d=\"M 451.5,323.1 L 450.5,325.7\" style=\"fill:none;fill-rule:evenodd;stroke:#FF0000;stroke-width:1.0px;stroke-linecap:butt;stroke-linejoin:miter;stroke-opacity:1\"/>\n<path class=\"bond-32 atom-32 atom-33\" d=\"M 455.2,324.2 L 453.9,327.5\" style=\"fill:none;fill-rule:evenodd;stroke:#FF0000;stroke-width:1.0px;stroke-linecap:butt;stroke-linejoin:miter;stroke-opacity:1\"/>\n<path class=\"bond-32 atom-32 atom-33\" d=\"M 458.8,325.2 L 457.3,329.2\" style=\"fill:none;fill-rule:evenodd;stroke:#FF0000;stroke-width:1.0px;stroke-linecap:butt;stroke-linejoin:miter;stroke-opacity:1\"/>\n<path class=\"bond-33 atom-32 atom-34\" d=\"M 436.9,318.9 L 432.6,290.6\" style=\"fill:none;fill-rule:evenodd;stroke:#000000;stroke-width:2.0px;stroke-linecap:butt;stroke-linejoin:miter;stroke-opacity:1\"/>\n<path class=\"bond-34 atom-34 atom-35\" d=\"M 432.6,290.6 L 440.4,283.0 L 441.7,284.7 Z\" style=\"fill:#000000;fill-rule:evenodd;fill-opacity:1;stroke:#000000;stroke-width:0.5px;stroke-linecap:butt;stroke-linejoin:miter;stroke-opacity:1;\"/>\n<path class=\"bond-34 atom-34 atom-35\" d=\"M 440.4,283.0 L 450.7,278.8 L 448.1,275.5 Z\" style=\"fill:#FF0000;fill-rule:evenodd;fill-opacity:1;stroke:#FF0000;stroke-width:0.5px;stroke-linecap:butt;stroke-linejoin:miter;stroke-opacity:1;\"/>\n<path class=\"bond-34 atom-34 atom-35\" d=\"M 440.4,283.0 L 441.7,284.7 L 450.7,278.8 Z\" style=\"fill:#FF0000;fill-rule:evenodd;fill-opacity:1;stroke:#FF0000;stroke-width:0.5px;stroke-linecap:butt;stroke-linejoin:miter;stroke-opacity:1;\"/>\n<path class=\"bond-35 atom-35 atom-36\" d=\"M 454.3,267.6 L 452.5,255.9\" style=\"fill:none;fill-rule:evenodd;stroke:#FF0000;stroke-width:2.0px;stroke-linecap:butt;stroke-linejoin:miter;stroke-opacity:1\"/>\n<path class=\"bond-35 atom-35 atom-36\" d=\"M 452.5,255.9 L 450.7,244.3\" style=\"fill:none;fill-rule:evenodd;stroke:#000000;stroke-width:2.0px;stroke-linecap:butt;stroke-linejoin:miter;stroke-opacity:1\"/>\n<path class=\"bond-36 atom-34 atom-37\" d=\"M 432.6,290.6 L 405.9,280.1\" style=\"fill:none;fill-rule:evenodd;stroke:#000000;stroke-width:2.0px;stroke-linecap:butt;stroke-linejoin:miter;stroke-opacity:1\"/>\n<path class=\"bond-37 atom-25 atom-38\" d=\"M 307.6,295.1 L 311.4,272.9 L 315.5,274.0 Z\" style=\"fill:#000000;fill-rule:evenodd;fill-opacity:1;stroke:#000000;stroke-width:0.5px;stroke-linecap:butt;stroke-linejoin:miter;stroke-opacity:1;\"/>\n<path class=\"bond-38 atom-38 atom-39\" d=\"M 315.4,262.3 L 316.5,238.7\" style=\"fill:none;fill-rule:evenodd;stroke:#000000;stroke-width:2.0px;stroke-linecap:butt;stroke-linejoin:miter;stroke-opacity:1\"/>\n<path class=\"bond-39 atom-39 atom-40\" d=\"M 316.4,240.8 L 340.6,239.4\" style=\"fill:none;fill-rule:evenodd;stroke:#000000;stroke-width:2.0px;stroke-linecap:butt;stroke-linejoin:miter;stroke-opacity:1\"/>\n<path class=\"bond-39 atom-39 atom-40\" d=\"M 316.1,236.6 L 340.3,235.1\" style=\"fill:none;fill-rule:evenodd;stroke:#000000;stroke-width:2.0px;stroke-linecap:butt;stroke-linejoin:miter;stroke-opacity:1\"/>\n<path class=\"bond-40 atom-39 atom-41\" d=\"M 316.5,238.7 L 311.7,210.4\" style=\"fill:none;fill-rule:evenodd;stroke:#000000;stroke-width:2.0px;stroke-linecap:butt;stroke-linejoin:miter;stroke-opacity:1\"/>\n<path class=\"bond-41 atom-41 atom-42\" d=\"M 311.7,210.4 L 335.9,195.0 L 337.9,198.7 Z\" style=\"fill:#000000;fill-rule:evenodd;fill-opacity:1;stroke:#000000;stroke-width:0.5px;stroke-linecap:butt;stroke-linejoin:miter;stroke-opacity:1;\"/>\n<path class=\"bond-42 atom-41 atom-43\" d=\"M 311.7,210.4 L 295.4,186.8\" style=\"fill:none;fill-rule:evenodd;stroke:#000000;stroke-width:2.0px;stroke-linecap:butt;stroke-linejoin:miter;stroke-opacity:1\"/>\n<path class=\"bond-43 atom-43 atom-44\" d=\"M 299.2,184.8 L 284.6,160.2\" style=\"fill:none;fill-rule:evenodd;stroke:#000000;stroke-width:2.0px;stroke-linecap:butt;stroke-linejoin:miter;stroke-opacity:1\"/>\n<path class=\"bond-43 atom-43 atom-44\" d=\"M 295.4,186.8 L 281.0,162.7\" style=\"fill:none;fill-rule:evenodd;stroke:#000000;stroke-width:2.0px;stroke-linecap:butt;stroke-linejoin:miter;stroke-opacity:1\"/>\n<path class=\"bond-44 atom-44 atom-45\" d=\"M 284.6,160.2 L 306.4,141.5\" style=\"fill:none;fill-rule:evenodd;stroke:#000000;stroke-width:2.0px;stroke-linecap:butt;stroke-linejoin:miter;stroke-opacity:1\"/>\n<path class=\"bond-45 atom-44 atom-46\" d=\"M 284.6,160.2 L 263.7,140.6\" style=\"fill:none;fill-rule:evenodd;stroke:#000000;stroke-width:2.0px;stroke-linecap:butt;stroke-linejoin:miter;stroke-opacity:1\"/>\n<path class=\"bond-46 atom-46 atom-47\" d=\"M 265.5,137.6 L 266.1,138.0\" style=\"fill:none;fill-rule:evenodd;stroke:#000000;stroke-width:1.0px;stroke-linecap:butt;stroke-linejoin:miter;stroke-opacity:1\"/>\n<path class=\"bond-46 atom-46 atom-47\" d=\"M 267.3,134.6 L 268.5,135.4\" style=\"fill:none;fill-rule:evenodd;stroke:#000000;stroke-width:1.0px;stroke-linecap:butt;stroke-linejoin:miter;stroke-opacity:1\"/>\n<path class=\"bond-46 atom-46 atom-47\" d=\"M 269.1,131.5 L 270.8,132.8\" style=\"fill:none;fill-rule:evenodd;stroke:#000000;stroke-width:1.0px;stroke-linecap:butt;stroke-linejoin:miter;stroke-opacity:1\"/>\n<path class=\"bond-46 atom-46 atom-47\" d=\"M 271.0,128.5 L 273.2,130.2\" style=\"fill:none;fill-rule:evenodd;stroke:#FF0000;stroke-width:1.0px;stroke-linecap:butt;stroke-linejoin:miter;stroke-opacity:1\"/>\n<path class=\"bond-46 atom-46 atom-47\" d=\"M 272.8,125.5 L 275.6,127.6\" style=\"fill:none;fill-rule:evenodd;stroke:#FF0000;stroke-width:1.0px;stroke-linecap:butt;stroke-linejoin:miter;stroke-opacity:1\"/>\n<path class=\"bond-46 atom-46 atom-47\" d=\"M 274.6,122.5 L 278.0,125.0\" style=\"fill:none;fill-rule:evenodd;stroke:#FF0000;stroke-width:1.0px;stroke-linecap:butt;stroke-linejoin:miter;stroke-opacity:1\"/>\n<path class=\"bond-47 atom-46 atom-48\" d=\"M 263.7,140.6 L 239.0,126.0\" style=\"fill:none;fill-rule:evenodd;stroke:#000000;stroke-width:2.0px;stroke-linecap:butt;stroke-linejoin:miter;stroke-opacity:1\"/>\n<path class=\"bond-48 atom-48 atom-49\" d=\"M 240.9,122.8 L 240.1,122.5\" style=\"fill:none;fill-rule:evenodd;stroke:#000000;stroke-width:1.0px;stroke-linecap:butt;stroke-linejoin:miter;stroke-opacity:1\"/>\n<path class=\"bond-48 atom-48 atom-49\" d=\"M 242.8,119.7 L 241.3,119.0\" style=\"fill:none;fill-rule:evenodd;stroke:#000000;stroke-width:1.0px;stroke-linecap:butt;stroke-linejoin:miter;stroke-opacity:1\"/>\n<path class=\"bond-48 atom-48 atom-49\" d=\"M 244.7,116.5 L 242.4,115.5\" style=\"fill:none;fill-rule:evenodd;stroke:#000000;stroke-width:1.0px;stroke-linecap:butt;stroke-linejoin:miter;stroke-opacity:1\"/>\n<path class=\"bond-48 atom-48 atom-49\" d=\"M 246.6,113.4 L 243.5,112.0\" style=\"fill:none;fill-rule:evenodd;stroke:#FF0000;stroke-width:1.0px;stroke-linecap:butt;stroke-linejoin:miter;stroke-opacity:1\"/>\n<path class=\"bond-48 atom-48 atom-49\" d=\"M 248.5,110.2 L 244.6,108.5\" style=\"fill:none;fill-rule:evenodd;stroke:#FF0000;stroke-width:1.0px;stroke-linecap:butt;stroke-linejoin:miter;stroke-opacity:1\"/>\n<path class=\"bond-49 atom-49 atom-50\" d=\"M 247.3,94.8 L 240.7,85.7\" style=\"fill:none;fill-rule:evenodd;stroke:#FF0000;stroke-width:2.0px;stroke-linecap:butt;stroke-linejoin:miter;stroke-opacity:1\"/>\n<path class=\"bond-49 atom-49 atom-50\" d=\"M 240.7,85.7 L 234.2,76.5\" style=\"fill:none;fill-rule:evenodd;stroke:#000000;stroke-width:2.0px;stroke-linecap:butt;stroke-linejoin:miter;stroke-opacity:1\"/>\n<path class=\"bond-50 atom-48 atom-51\" d=\"M 239.0,126.0 L 211.7,117.0\" style=\"fill:none;fill-rule:evenodd;stroke:#000000;stroke-width:2.0px;stroke-linecap:butt;stroke-linejoin:miter;stroke-opacity:1\"/>\n<path class=\"bond-51 atom-51 atom-52\" d=\"M 213.8,117.7 L 218.7,94.5\" style=\"fill:none;fill-rule:evenodd;stroke:#000000;stroke-width:2.0px;stroke-linecap:butt;stroke-linejoin:miter;stroke-opacity:1\"/>\n<path class=\"bond-51 atom-51 atom-52\" d=\"M 209.6,116.8 L 214.6,93.7\" style=\"fill:none;fill-rule:evenodd;stroke:#000000;stroke-width:2.0px;stroke-linecap:butt;stroke-linejoin:miter;stroke-opacity:1\"/>\n<path class=\"bond-52 atom-51 atom-53\" d=\"M 211.7,117.0 L 183.2,114.1\" style=\"fill:none;fill-rule:evenodd;stroke:#000000;stroke-width:2.0px;stroke-linecap:butt;stroke-linejoin:miter;stroke-opacity:1\"/>\n<path class=\"bond-53 atom-53 atom-54\" d=\"M 183.2,114.1 L 180.9,85.4 L 185.1,85.4 Z\" style=\"fill:#000000;fill-rule:evenodd;fill-opacity:1;stroke:#000000;stroke-width:0.5px;stroke-linecap:butt;stroke-linejoin:miter;stroke-opacity:1;\"/>\n<path class=\"bond-54 atom-53 atom-55\" d=\"M 183.2,114.1 L 158.8,116.9\" style=\"fill:none;fill-rule:evenodd;stroke:#000000;stroke-width:2.0px;stroke-linecap:butt;stroke-linejoin:miter;stroke-opacity:1\"/>\n<path class=\"bond-55 atom-55 atom-56\" d=\"M 150.6,118.8 L 127.6,126.7\" style=\"fill:none;fill-rule:evenodd;stroke:#000000;stroke-width:2.0px;stroke-linecap:butt;stroke-linejoin:miter;stroke-opacity:1\"/>\n<path class=\"bond-56 atom-56 atom-57\" d=\"M 127.6,126.7 L 108.4,105.3 L 111.8,102.7 Z\" style=\"fill:#000000;fill-rule:evenodd;fill-opacity:1;stroke:#000000;stroke-width:0.5px;stroke-linecap:butt;stroke-linejoin:miter;stroke-opacity:1;\"/>\n<path class=\"bond-57 atom-56 atom-58\" d=\"M 127.6,126.7 L 106.9,146.6\" style=\"fill:none;fill-rule:evenodd;stroke:#000000;stroke-width:2.0px;stroke-linecap:butt;stroke-linejoin:miter;stroke-opacity:1\"/>\n<path class=\"bond-58 atom-58 atom-59\" d=\"M 106.9,146.6 L 82.4,161.5\" style=\"fill:none;fill-rule:evenodd;stroke:#000000;stroke-width:2.0px;stroke-linecap:butt;stroke-linejoin:miter;stroke-opacity:1\"/>\n<path class=\"bond-58 atom-58 atom-59\" d=\"M 104.3,143.2 L 80.2,157.9\" style=\"fill:none;fill-rule:evenodd;stroke:#000000;stroke-width:2.0px;stroke-linecap:butt;stroke-linejoin:miter;stroke-opacity:1\"/>\n<path class=\"bond-59 atom-59 atom-60\" d=\"M 82.4,161.5 L 71.9,188.2\" style=\"fill:none;fill-rule:evenodd;stroke:#000000;stroke-width:2.0px;stroke-linecap:butt;stroke-linejoin:miter;stroke-opacity:1\"/>\n<path class=\"bond-60 atom-60 atom-61\" d=\"M 71.9,188.2 L 56.0,212.1\" style=\"fill:none;fill-rule:evenodd;stroke:#000000;stroke-width:2.0px;stroke-linecap:butt;stroke-linejoin:miter;stroke-opacity:1\"/>\n<path class=\"bond-60 atom-60 atom-61\" d=\"M 68.2,186.3 L 52.5,209.7\" style=\"fill:none;fill-rule:evenodd;stroke:#000000;stroke-width:2.0px;stroke-linecap:butt;stroke-linejoin:miter;stroke-opacity:1\"/>\n<path class=\"bond-61 atom-61 atom-62\" d=\"M 56.0,212.1 L 57.7,240.7\" style=\"fill:none;fill-rule:evenodd;stroke:#000000;stroke-width:2.0px;stroke-linecap:butt;stroke-linejoin:miter;stroke-opacity:1\"/>\n<path class=\"bond-62 atom-62 atom-63\" d=\"M 53.5,240.5 L 53.3,269.1\" style=\"fill:none;fill-rule:evenodd;stroke:#000000;stroke-width:2.0px;stroke-linecap:butt;stroke-linejoin:miter;stroke-opacity:1\"/>\n<path class=\"bond-62 atom-62 atom-63\" d=\"M 57.7,240.7 L 57.6,268.8\" style=\"fill:none;fill-rule:evenodd;stroke:#000000;stroke-width:2.0px;stroke-linecap:butt;stroke-linejoin:miter;stroke-opacity:1\"/>\n<path class=\"bond-63 atom-63 atom-64\" d=\"M 53.3,269.1 L 25.0,273.9\" style=\"fill:none;fill-rule:evenodd;stroke:#000000;stroke-width:2.0px;stroke-linecap:butt;stroke-linejoin:miter;stroke-opacity:1\"/>\n<path class=\"bond-64 atom-63 atom-2\" d=\"M 53.3,269.1 L 61.1,296.7\" style=\"fill:none;fill-rule:evenodd;stroke:#000000;stroke-width:2.0px;stroke-linecap:butt;stroke-linejoin:miter;stroke-opacity:1\"/>\n<path class=\"bond-65 atom-11 atom-4\" d=\"M 111.7,357.4 L 102.6,350.5\" style=\"fill:none;fill-rule:evenodd;stroke:#FF0000;stroke-width:2.0px;stroke-linecap:butt;stroke-linejoin:miter;stroke-opacity:1\"/>\n<path class=\"bond-65 atom-11 atom-4\" d=\"M 102.6,350.5 L 93.5,343.7\" style=\"fill:none;fill-rule:evenodd;stroke:#000000;stroke-width:2.0px;stroke-linecap:butt;stroke-linejoin:miter;stroke-opacity:1\"/>\n<path class=\"bond-66 atom-21 atom-16\" d=\"M 253.2,360.0 L 242.2,365.2\" style=\"fill:none;fill-rule:evenodd;stroke:#000000;stroke-width:2.0px;stroke-linecap:butt;stroke-linejoin:miter;stroke-opacity:1\"/>\n<path class=\"bond-66 atom-21 atom-16\" d=\"M 242.2,365.2 L 231.3,370.3\" style=\"fill:none;fill-rule:evenodd;stroke:#0000FF;stroke-width:2.0px;stroke-linecap:butt;stroke-linejoin:miter;stroke-opacity:1\"/>\n<path class=\"bond-67 atom-37 atom-29\" d=\"M 405.9,280.1 L 383.5,298.0\" style=\"fill:none;fill-rule:evenodd;stroke:#000000;stroke-width:2.0px;stroke-linecap:butt;stroke-linejoin:miter;stroke-opacity:1\"/>\n<path class=\"bond-68 atom-4 atom-65\" d=\"M 92.7,346.5 L 91.5,345.8\" style=\"fill:none;fill-rule:evenodd;stroke:#000000;stroke-width:1.0px;stroke-linecap:butt;stroke-linejoin:miter;stroke-opacity:1\"/>\n<path class=\"bond-68 atom-4 atom-65\" d=\"M 92.0,349.3 L 89.5,347.9\" style=\"fill:none;fill-rule:evenodd;stroke:#000000;stroke-width:1.0px;stroke-linecap:butt;stroke-linejoin:miter;stroke-opacity:1\"/>\n<path class=\"bond-68 atom-4 atom-65\" d=\"M 91.2,352.1 L 87.5,350.0\" style=\"fill:none;fill-rule:evenodd;stroke:#000000;stroke-width:1.0px;stroke-linecap:butt;stroke-linejoin:miter;stroke-opacity:1\"/>\n<path class=\"bond-69 atom-21 atom-66\" d=\"M 253.2,360.0 L 276.9,360.2 L 276.5,364.4 Z\" style=\"fill:#000000;fill-rule:evenodd;fill-opacity:1;stroke:#000000;stroke-width:0.5px;stroke-linecap:butt;stroke-linejoin:miter;stroke-opacity:1;\"/>\n<path d=\"M 61.7,297.7 L 61.1,296.7 L 60.7,295.3\" style=\"fill:none;stroke:#000000;stroke-width:2.0px;stroke-linecap:butt;stroke-linejoin:miter;stroke-opacity:1;\"/>\n<path d=\"M 85.6,370.7 L 85.1,372.1 L 85.8,373.3\" style=\"fill:none;stroke:#000000;stroke-width:2.0px;stroke-linecap:butt;stroke-linejoin:miter;stroke-opacity:1;\"/>\n<path d=\"M 98.5,395.8 L 99.2,397.1 L 100.6,397.1\" style=\"fill:none;stroke:#000000;stroke-width:2.0px;stroke-linecap:butt;stroke-linejoin:miter;stroke-opacity:1;\"/>\n<path d=\"M 126.5,397.4 L 127.9,397.4 L 128.6,396.2\" style=\"fill:none;stroke:#000000;stroke-width:2.0px;stroke-linecap:butt;stroke-linejoin:miter;stroke-opacity:1;\"/>\n<path d=\"M 169.2,378.4 L 170.6,378.7 L 172.0,378.7\" style=\"fill:none;stroke:#000000;stroke-width:2.0px;stroke-linecap:butt;stroke-linejoin:miter;stroke-opacity:1;\"/>\n<path d=\"M 197.8,378.6 L 199.3,378.6 L 199.9,378.4\" style=\"fill:none;stroke:#000000;stroke-width:2.0px;stroke-linecap:butt;stroke-linejoin:miter;stroke-opacity:1;\"/>\n<path d=\"M 224.9,400.2 L 224.8,400.8 L 226.0,401.6\" style=\"fill:none;stroke:#000000;stroke-width:2.0px;stroke-linecap:butt;stroke-linejoin:miter;stroke-opacity:1;\"/>\n<path d=\"M 247.2,416.3 L 248.4,417.2 L 249.7,416.6\" style=\"fill:none;stroke:#000000;stroke-width:2.0px;stroke-linecap:butt;stroke-linejoin:miter;stroke-opacity:1;\"/>\n<path d=\"M 273.1,405.6 L 274.4,405.0 L 274.5,403.5\" style=\"fill:none;stroke:#000000;stroke-width:2.0px;stroke-linecap:butt;stroke-linejoin:miter;stroke-opacity:1;\"/>\n<path d=\"M 276.6,377.8 L 276.8,376.4 L 275.6,375.5\" style=\"fill:none;stroke:#000000;stroke-width:2.0px;stroke-linecap:butt;stroke-linejoin:miter;stroke-opacity:1;\"/>\n<path d=\"M 274.8,343.4 L 275.9,342.5 L 276.3,342.1\" style=\"fill:none;stroke:#000000;stroke-width:2.0px;stroke-linecap:butt;stroke-linejoin:miter;stroke-opacity:1;\"/>\n<path d=\"M 307.4,295.6 L 307.6,295.1 L 309.0,295.6\" style=\"fill:none;stroke:#000000;stroke-width:2.0px;stroke-linecap:butt;stroke-linejoin:miter;stroke-opacity:1;\"/>\n<path d=\"M 333.0,305.0 L 334.4,305.5 L 335.6,304.5\" style=\"fill:none;stroke:#000000;stroke-width:2.0px;stroke-linecap:butt;stroke-linejoin:miter;stroke-opacity:1;\"/>\n<path d=\"M 383.7,299.5 L 383.5,298.0 L 384.6,297.1\" style=\"fill:none;stroke:#000000;stroke-width:2.0px;stroke-linecap:butt;stroke-linejoin:miter;stroke-opacity:1;\"/>\n<path d=\"M 387.6,325.0 L 387.8,326.4 L 389.1,326.9\" style=\"fill:none;stroke:#000000;stroke-width:2.0px;stroke-linecap:butt;stroke-linejoin:miter;stroke-opacity:1;\"/>\n<path d=\"M 413.2,336.3 L 414.5,336.8 L 415.6,335.9\" style=\"fill:none;stroke:#000000;stroke-width:2.0px;stroke-linecap:butt;stroke-linejoin:miter;stroke-opacity:1;\"/>\n<path d=\"M 435.8,319.8 L 436.9,318.9 L 436.7,317.5\" style=\"fill:none;stroke:#000000;stroke-width:2.0px;stroke-linecap:butt;stroke-linejoin:miter;stroke-opacity:1;\"/>\n<path d=\"M 432.8,292.0 L 432.6,290.6 L 431.3,290.0\" style=\"fill:none;stroke:#000000;stroke-width:2.0px;stroke-linecap:butt;stroke-linejoin:miter;stroke-opacity:1;\"/>\n<path d=\"M 407.2,280.6 L 405.9,280.1 L 404.8,281.0\" style=\"fill:none;stroke:#000000;stroke-width:2.0px;stroke-linecap:butt;stroke-linejoin:miter;stroke-opacity:1;\"/>\n<path d=\"M 316.4,239.9 L 316.5,238.7 L 316.3,237.3\" style=\"fill:none;stroke:#000000;stroke-width:2.0px;stroke-linecap:butt;stroke-linejoin:miter;stroke-opacity:1;\"/>\n<path d=\"M 311.9,211.8 L 311.7,210.4 L 310.9,209.2\" style=\"fill:none;stroke:#000000;stroke-width:2.0px;stroke-linecap:butt;stroke-linejoin:miter;stroke-opacity:1;\"/>\n<path d=\"M 296.2,188.0 L 295.4,186.8 L 294.7,185.6\" style=\"fill:none;stroke:#000000;stroke-width:2.0px;stroke-linecap:butt;stroke-linejoin:miter;stroke-opacity:1;\"/>\n<path d=\"M 264.7,141.6 L 263.7,140.6 L 262.4,139.9\" style=\"fill:none;stroke:#000000;stroke-width:2.0px;stroke-linecap:butt;stroke-linejoin:miter;stroke-opacity:1;\"/>\n<path d=\"M 240.2,126.7 L 239.0,126.0 L 237.6,125.5\" style=\"fill:none;stroke:#000000;stroke-width:2.0px;stroke-linecap:butt;stroke-linejoin:miter;stroke-opacity:1;\"/>\n<path d=\"M 213.1,117.4 L 211.7,117.0 L 210.3,116.8\" style=\"fill:none;stroke:#000000;stroke-width:2.0px;stroke-linecap:butt;stroke-linejoin:miter;stroke-opacity:1;\"/>\n<path d=\"M 184.6,114.2 L 183.2,114.1 L 182.0,114.2\" style=\"fill:none;stroke:#000000;stroke-width:2.0px;stroke-linecap:butt;stroke-linejoin:miter;stroke-opacity:1;\"/>\n<path d=\"M 128.7,126.3 L 127.6,126.7 L 126.5,127.7\" style=\"fill:none;stroke:#000000;stroke-width:2.0px;stroke-linecap:butt;stroke-linejoin:miter;stroke-opacity:1;\"/>\n<path d=\"M 107.9,145.6 L 106.9,146.6 L 105.7,147.3\" style=\"fill:none;stroke:#000000;stroke-width:2.0px;stroke-linecap:butt;stroke-linejoin:miter;stroke-opacity:1;\"/>\n<path d=\"M 83.6,160.8 L 82.4,161.5 L 81.9,162.8\" style=\"fill:none;stroke:#000000;stroke-width:2.0px;stroke-linecap:butt;stroke-linejoin:miter;stroke-opacity:1;\"/>\n<path d=\"M 72.5,186.9 L 71.9,188.2 L 71.1,189.4\" style=\"fill:none;stroke:#000000;stroke-width:2.0px;stroke-linecap:butt;stroke-linejoin:miter;stroke-opacity:1;\"/>\n<path d=\"M 56.8,210.9 L 56.0,212.1 L 56.1,213.5\" style=\"fill:none;stroke:#000000;stroke-width:2.0px;stroke-linecap:butt;stroke-linejoin:miter;stroke-opacity:1;\"/>\n<path d=\"M 57.7,239.3 L 57.7,240.7 L 57.7,242.1\" style=\"fill:none;stroke:#000000;stroke-width:2.0px;stroke-linecap:butt;stroke-linejoin:miter;stroke-opacity:1;\"/>\n<path class=\"atom-1\" d=\"M 30.8 307.5 Q 30.8 305.5, 31.8 304.4 Q 32.8 303.3, 34.6 303.3 Q 36.4 303.3, 37.3 304.4 Q 38.3 305.5, 38.3 307.5 Q 38.3 309.4, 37.3 310.6 Q 36.3 311.7, 34.6 311.7 Q 32.8 311.7, 31.8 310.6 Q 30.8 309.5, 30.8 307.5 M 34.6 310.8 Q 35.8 310.8, 36.5 309.9 Q 37.1 309.1, 37.1 307.5 Q 37.1 305.9, 36.5 305.1 Q 35.8 304.3, 34.6 304.3 Q 33.3 304.3, 32.6 305.1 Q 32.0 305.9, 32.0 307.5 Q 32.0 309.1, 32.6 309.9 Q 33.3 310.8, 34.6 310.8 \" fill=\"#FF0000\"/>\n<path class=\"atom-3\" d=\"M 71.6 322.0 Q 71.6 319.9, 72.5 318.9 Q 73.5 317.8, 75.3 317.8 Q 77.0 317.8, 77.9 319.0 L 77.1 319.6 Q 76.5 318.7, 75.3 318.7 Q 74.1 318.7, 73.4 319.6 Q 72.8 320.4, 72.8 322.0 Q 72.8 323.6, 73.4 324.4 Q 74.1 325.2, 75.4 325.2 Q 76.3 325.2, 77.4 324.7 L 77.7 325.5 Q 77.3 325.8, 76.6 326.0 Q 76.0 326.1, 75.3 326.1 Q 73.5 326.1, 72.5 325.0 Q 71.6 324.0, 71.6 322.0 \" fill=\"#000000\"/>\n<path class=\"atom-10\" d=\"M 137.5 389.7 Q 137.5 387.7, 138.5 386.6 Q 139.5 385.5, 141.3 385.5 Q 143.1 385.5, 144.0 386.6 Q 145.0 387.7, 145.0 389.7 Q 145.0 391.6, 144.0 392.8 Q 143.0 393.9, 141.3 393.9 Q 139.5 393.9, 138.5 392.8 Q 137.5 391.7, 137.5 389.7 M 141.3 393.0 Q 142.5 393.0, 143.2 392.1 Q 143.8 391.3, 143.8 389.7 Q 143.8 388.1, 143.2 387.3 Q 142.5 386.5, 141.3 386.5 Q 140.0 386.5, 139.4 387.3 Q 138.7 388.1, 138.7 389.7 Q 138.7 391.3, 139.4 392.1 Q 140.0 393.0, 141.3 393.0 \" fill=\"#FF0000\"/>\n<path class=\"atom-10\" d=\"M 146.3 385.6 L 147.4 385.6 L 147.4 389.1 L 151.5 389.1 L 151.5 385.6 L 152.6 385.6 L 152.6 393.8 L 151.5 393.8 L 151.5 390.0 L 147.4 390.0 L 147.4 393.8 L 146.3 393.8 L 146.3 385.6 \" fill=\"#FF0000\"/>\n<path class=\"atom-11\" d=\"M 112.7 360.9 Q 112.7 358.9, 113.6 357.9 Q 114.6 356.8, 116.4 356.8 Q 118.2 356.8, 119.2 357.9 Q 120.1 358.9, 120.1 360.9 Q 120.1 362.9, 119.2 364.0 Q 118.2 365.1, 116.4 365.1 Q 114.6 365.1, 113.6 364.0 Q 112.7 362.9, 112.7 360.9 M 116.4 364.2 Q 117.6 364.2, 118.3 363.4 Q 119.0 362.5, 119.0 360.9 Q 119.0 359.3, 118.3 358.5 Q 117.6 357.7, 116.4 357.7 Q 115.2 357.7, 114.5 358.5 Q 113.8 359.3, 113.8 360.9 Q 113.8 362.5, 114.5 363.4 Q 115.2 364.2, 116.4 364.2 \" fill=\"#FF0000\"/>\n<path class=\"atom-13\" d=\"M 163.9 407.3 Q 163.9 405.4, 164.9 404.3 Q 165.9 403.2, 167.7 403.2 Q 169.5 403.2, 170.4 404.3 Q 171.4 405.4, 171.4 407.3 Q 171.4 409.3, 170.4 410.4 Q 169.4 411.5, 167.7 411.5 Q 165.9 411.5, 164.9 410.4 Q 163.9 409.3, 163.9 407.3 M 167.7 410.6 Q 168.9 410.6, 169.6 409.8 Q 170.2 408.9, 170.2 407.3 Q 170.2 405.7, 169.6 404.9 Q 168.9 404.1, 167.7 404.1 Q 166.4 404.1, 165.7 404.9 Q 165.1 405.7, 165.1 407.3 Q 165.1 408.9, 165.7 409.8 Q 166.4 410.6, 167.7 410.6 \" fill=\"#000000\"/>\n<path class=\"atom-15\" d=\"M 198.8 407.1 Q 198.8 405.1, 199.8 404.0 Q 200.8 402.9, 202.6 402.9 Q 204.4 402.9, 205.3 404.0 Q 206.3 405.1, 206.3 407.1 Q 206.3 409.1, 205.3 410.2 Q 204.3 411.3, 202.6 411.3 Q 200.8 411.3, 199.8 410.2 Q 198.8 409.1, 198.8 407.1 M 202.6 410.4 Q 203.8 410.4, 204.5 409.5 Q 205.1 408.7, 205.1 407.1 Q 205.1 405.5, 204.5 404.7 Q 203.8 403.9, 202.6 403.9 Q 201.3 403.9, 200.6 404.7 Q 200.0 405.5, 200.0 407.1 Q 200.0 408.7, 200.6 409.5 Q 201.3 410.4, 202.6 410.4 \" fill=\"#000000\"/>\n<path class=\"atom-16\" d=\"M 225.5 368.1 L 228.1 372.4 Q 228.4 372.9, 228.8 373.6 Q 229.2 374.4, 229.2 374.5 L 229.2 368.1 L 230.3 368.1 L 230.3 376.3 L 229.2 376.3 L 226.4 371.6 Q 226.0 371.0, 225.7 370.4 Q 225.3 369.7, 225.2 369.6 L 225.2 376.3 L 224.2 376.3 L 224.2 368.1 L 225.5 368.1 \" fill=\"#0000FF\"/>\n<path class=\"atom-23\" d=\"M 294.4 360.6 Q 294.4 358.7, 295.4 357.6 Q 296.4 356.5, 298.2 356.5 Q 300.0 356.5, 300.9 357.6 Q 301.9 358.7, 301.9 360.6 Q 301.9 362.6, 300.9 363.7 Q 300.0 364.8, 298.2 364.8 Q 296.4 364.8, 295.4 363.7 Q 294.4 362.6, 294.4 360.6 M 298.2 363.9 Q 299.4 363.9, 300.1 363.1 Q 300.8 362.3, 300.8 360.6 Q 300.8 359.0, 300.1 358.2 Q 299.4 357.4, 298.2 357.4 Q 296.9 357.4, 296.3 358.2 Q 295.6 359.0, 295.6 360.6 Q 295.6 362.3, 296.3 363.1 Q 296.9 363.9, 298.2 363.9 \" fill=\"#000000\"/>\n<path class=\"atom-24\" d=\"M 290.6 320.5 Q 290.6 318.6, 291.6 317.5 Q 292.6 316.4, 294.4 316.4 Q 296.2 316.4, 297.1 317.5 Q 298.1 318.6, 298.1 320.5 Q 298.1 322.5, 297.1 323.6 Q 296.1 324.7, 294.4 324.7 Q 292.6 324.7, 291.6 323.6 Q 290.6 322.5, 290.6 320.5 M 294.4 323.8 Q 295.6 323.8, 296.3 323.0 Q 296.9 322.1, 296.9 320.5 Q 296.9 318.9, 296.3 318.1 Q 295.6 317.3, 294.4 317.3 Q 293.1 317.3, 292.4 318.1 Q 291.8 318.9, 291.8 320.5 Q 291.8 322.2, 292.4 323.0 Q 293.1 323.8, 294.4 323.8 \" fill=\"#FF0000\"/>\n<path class=\"atom-33\" d=\"M 459.9 329.4 Q 459.9 327.4, 460.9 326.4 Q 461.8 325.3, 463.6 325.3 Q 465.4 325.3, 466.4 326.4 Q 467.4 327.4, 467.4 329.4 Q 467.4 331.4, 466.4 332.5 Q 465.4 333.6, 463.6 333.6 Q 461.9 333.6, 460.9 332.5 Q 459.9 331.4, 459.9 329.4 M 463.6 332.7 Q 464.9 332.7, 465.6 331.9 Q 466.2 331.0, 466.2 329.4 Q 466.2 327.8, 465.6 327.0 Q 464.9 326.2, 463.6 326.2 Q 462.4 326.2, 461.7 327.0 Q 461.1 327.8, 461.1 329.4 Q 461.1 331.0, 461.7 331.9 Q 462.4 332.7, 463.6 332.7 \" fill=\"#FF0000\"/>\n<path class=\"atom-33\" d=\"M 468.6 325.4 L 469.7 325.4 L 469.7 328.8 L 473.9 328.8 L 473.9 325.4 L 475.0 325.4 L 475.0 333.5 L 473.9 333.5 L 473.9 329.7 L 469.7 329.7 L 469.7 333.5 L 468.6 333.5 L 468.6 325.4 \" fill=\"#FF0000\"/>\n<path class=\"atom-35\" d=\"M 451.3 272.7 Q 451.3 270.7, 452.3 269.6 Q 453.2 268.5, 455.0 268.5 Q 456.8 268.5, 457.8 269.6 Q 458.8 270.7, 458.8 272.7 Q 458.8 274.6, 457.8 275.8 Q 456.8 276.9, 455.0 276.9 Q 453.2 276.9, 452.3 275.8 Q 451.3 274.7, 451.3 272.7 M 455.0 276.0 Q 456.3 276.0, 456.9 275.1 Q 457.6 274.3, 457.6 272.7 Q 457.6 271.1, 456.9 270.3 Q 456.3 269.5, 455.0 269.5 Q 453.8 269.5, 453.1 270.3 Q 452.4 271.1, 452.4 272.7 Q 452.4 274.3, 453.1 275.1 Q 453.8 276.0, 455.0 276.0 \" fill=\"#FF0000\"/>\n<path class=\"atom-38\" d=\"M 312.0 267.4 Q 312.0 265.4, 312.9 264.3 Q 313.9 263.3, 315.7 263.3 Q 317.4 263.3, 318.3 264.4 L 317.5 265.1 Q 316.9 264.2, 315.7 264.2 Q 314.5 264.2, 313.8 265.0 Q 313.2 265.8, 313.2 267.4 Q 313.2 269.0, 313.8 269.8 Q 314.5 270.7, 315.8 270.7 Q 316.7 270.7, 317.8 270.1 L 318.1 271.0 Q 317.7 271.3, 317.0 271.4 Q 316.4 271.6, 315.7 271.6 Q 313.9 271.6, 312.9 270.5 Q 312.0 269.4, 312.0 267.4 \" fill=\"#000000\"/>\n<path class=\"atom-40\" d=\"M 341.4 237.0 Q 341.4 235.0, 342.4 233.9 Q 343.3 232.9, 345.1 232.9 Q 346.9 232.9, 347.9 233.9 Q 348.9 235.0, 348.9 237.0 Q 348.9 239.0, 347.9 240.1 Q 346.9 241.2, 345.1 241.2 Q 343.3 241.2, 342.4 240.1 Q 341.4 239.0, 341.4 237.0 M 345.1 240.3 Q 346.4 240.3, 347.0 239.5 Q 347.7 238.6, 347.7 237.0 Q 347.7 235.4, 347.0 234.6 Q 346.4 233.8, 345.1 233.8 Q 343.9 233.8, 343.2 234.6 Q 342.6 235.4, 342.6 237.0 Q 342.6 238.6, 343.2 239.5 Q 343.9 240.3, 345.1 240.3 \" fill=\"#000000\"/>\n<path class=\"atom-47\" d=\"M 277.2 117.7 Q 277.2 115.7, 278.1 114.6 Q 279.1 113.5, 280.9 113.5 Q 282.7 113.5, 283.7 114.6 Q 284.6 115.7, 284.6 117.7 Q 284.6 119.7, 283.6 120.8 Q 282.7 121.9, 280.9 121.9 Q 279.1 121.9, 278.1 120.8 Q 277.2 119.7, 277.2 117.7 M 280.9 121.0 Q 282.1 121.0, 282.8 120.1 Q 283.5 119.3, 283.5 117.7 Q 283.5 116.1, 282.8 115.3 Q 282.1 114.5, 280.9 114.5 Q 279.6 114.5, 279.0 115.3 Q 278.3 116.1, 278.3 117.7 Q 278.3 119.3, 279.0 120.1 Q 279.6 121.0, 280.9 121.0 \" fill=\"#FF0000\"/>\n<path class=\"atom-47\" d=\"M 285.9 113.6 L 287.0 113.6 L 287.0 117.1 L 291.1 117.1 L 291.1 113.6 L 292.2 113.6 L 292.2 121.8 L 291.1 121.8 L 291.1 118.0 L 287.0 118.0 L 287.0 121.8 L 285.9 121.8 L 285.9 113.6 \" fill=\"#FF0000\"/>\n<path class=\"atom-49\" d=\"M 247.1 99.9 Q 247.1 97.9, 248.1 96.8 Q 249.1 95.8, 250.9 95.8 Q 252.7 95.8, 253.6 96.8 Q 254.6 97.9, 254.6 99.9 Q 254.6 101.9, 253.6 103.0 Q 252.7 104.1, 250.9 104.1 Q 249.1 104.1, 248.1 103.0 Q 247.1 101.9, 247.1 99.9 M 250.9 103.2 Q 252.1 103.2, 252.8 102.4 Q 253.5 101.5, 253.5 99.9 Q 253.5 98.3, 252.8 97.5 Q 252.1 96.7, 250.9 96.7 Q 249.6 96.7, 249.0 97.5 Q 248.3 98.3, 248.3 99.9 Q 248.3 101.5, 249.0 102.4 Q 249.6 103.2, 250.9 103.2 \" fill=\"#FF0000\"/>\n<path class=\"atom-52\" d=\"M 214.0 89.0 Q 214.0 87.0, 215.0 85.9 Q 215.9 84.8, 217.7 84.8 Q 219.5 84.8, 220.5 85.9 Q 221.5 87.0, 221.5 89.0 Q 221.5 90.9, 220.5 92.1 Q 219.5 93.2, 217.7 93.2 Q 215.9 93.2, 215.0 92.1 Q 214.0 90.9, 214.0 89.0 M 217.7 92.2 Q 219.0 92.2, 219.6 91.4 Q 220.3 90.6, 220.3 89.0 Q 220.3 87.4, 219.6 86.6 Q 219.0 85.7, 217.7 85.7 Q 216.5 85.7, 215.8 86.5 Q 215.2 87.3, 215.2 89.0 Q 215.2 90.6, 215.8 91.4 Q 216.5 92.2, 217.7 92.2 \" fill=\"#000000\"/>\n<path class=\"atom-55\" d=\"M 151.6 117.4 Q 151.6 115.4, 152.5 114.3 Q 153.5 113.3, 155.3 113.3 Q 156.9 113.3, 157.8 114.4 L 157.1 115.1 Q 156.4 114.2, 155.3 114.2 Q 154.0 114.2, 153.4 115.0 Q 152.7 115.8, 152.7 117.4 Q 152.7 119.0, 153.4 119.8 Q 154.1 120.7, 155.4 120.7 Q 156.3 120.7, 157.3 120.1 L 157.7 121.0 Q 157.2 121.3, 156.6 121.4 Q 155.9 121.6, 155.2 121.6 Q 153.5 121.6, 152.5 120.5 Q 151.6 119.4, 151.6 117.4 \" fill=\"#000000\"/>\n<path class=\"atom-65\" d=\"M 82.9 352.9 L 84.0 352.9 L 84.0 356.4 L 88.1 356.4 L 88.1 352.9 L 89.2 352.9 L 89.2 361.1 L 88.1 361.1 L 88.1 357.3 L 84.0 357.3 L 84.0 361.1 L 82.9 361.1 L 82.9 352.9 \" fill=\"#000000\"/>\n<path class=\"atom-66\" d=\"M 278.6 358.7 L 279.7 358.7 L 279.7 362.2 L 283.8 362.2 L 283.8 358.7 L 284.9 358.7 L 284.9 366.8 L 283.8 366.8 L 283.8 363.1 L 279.7 363.1 L 279.7 366.8 L 278.6 366.8 L 278.6 358.7 \" fill=\"#000000\"/>\n</svg>"
     },
     "execution_count": 24,
     "metadata": {},
     "output_type": "execute_result"
    }
   ],
   "execution_count": 24
  },
  {
   "metadata": {
    "ExecuteTime": {
     "end_time": "2025-04-03T08:35:51.383296Z",
     "start_time": "2025-04-03T08:35:51.380852Z"
    }
   },
   "cell_type": "code",
   "source": "",
   "id": "a5ee7655e874ccb6",
   "outputs": [],
   "execution_count": null
  }
 ],
 "metadata": {
  "kernelspec": {
   "display_name": "Python 3",
   "language": "python",
   "name": "python3"
  },
  "language_info": {
   "codemirror_mode": {
    "name": "ipython",
    "version": 2
   },
   "file_extension": ".py",
   "mimetype": "text/x-python",
   "name": "python",
   "nbconvert_exporter": "python",
   "pygments_lexer": "ipython2",
   "version": "2.7.6"
  }
 },
 "nbformat": 4,
 "nbformat_minor": 5
}
