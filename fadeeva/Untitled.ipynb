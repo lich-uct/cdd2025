{
 "cells": [
  {
   "cell_type": "code",
   "execution_count": null,
   "id": "87d797c7-bcec-422f-890a-0723acba4419",
   "metadata": {},
   "outputs": [],
   "source": []
  }
 ],
 "metadata": {
  "kernelspec": {
   "display_name": "",
   "name": ""
  },
  "language_info": {
   "name": ""
  }
 },
 "nbformat": 4,
 "nbformat_minor": 5
}
