{
 "cells": [
  {
   "cell_type": "code",
   "execution_count": 53,
   "id": "f6ff8230-3bb5-4eef-95f9-cbe73a5e376a",
   "metadata": {},
   "outputs": [
    {
     "data": {
      "text/plain": [
       "<rdkit.Chem.rdmolfiles.SDMolSupplier at 0x156722570>"
      ]
     },
     "execution_count": 53,
     "metadata": {},
     "output_type": "execute_result"
    }
   ],
   "source": [
    "# Import required libraries\n",
    "import pandas as pd\n",
    "from rdkit import Chem\n",
    "from rdkit.Chem.Draw import IPythonConsole  # For molecule visualization in Jupyter\n",
    "from rdkit import RDLogger\n",
    "from rdkit.Chem import AllChem as Chem  # RDKit's main chemistry toolkit\n",
    "from rdkit.Chem import Descriptors as rdescriptors  # For molecular descriptors\n",
    "from rdkit.Chem import Descriptors, Lipinski, Crippen\n",
    "\n",
    "# Configure RDKit logging\n",
    "lg = RDLogger.logger()\n",
    "lg.setLevel(RDLogger.CRITICAL)  # Set logging level to CRITICAL to minimize output\n",
    "\n",
    "# Load molecular structures from SDF file\n",
    "Chem.SDMolSupplier('../data/drugbank.sdf')"
   ]
  },
  {
   "cell_type": "code",
   "execution_count": 4,
   "id": "1c7769a3-4a4d-408b-bc5b-7da2e2eba149",
   "metadata": {},
   "outputs": [],
   "source": [
    "cubane = Chem.MolFromSmiles(\"C12C3C4C1C5C2C3C45\")"
   ]
  },
  {
   "cell_type": "code",
   "execution_count": 6,
   "id": "43fe40cf-225c-4620-865f-7d82d957c45b",
   "metadata": {},
   "outputs": [
    {
     "data": {
      "image/png": "[encoded data removed]",
      "text/plain": [
       "<rdkit.Chem.rdchem.Mol at 0x1526e5000>"
      ]
     },
     "execution_count": 6,
     "metadata": {},
     "output_type": "execute_result"
    }
   ],
   "source": [
    "cubane"
   ]
  },
  {
   "cell_type": "code",
   "execution_count": 8,
   "id": "b759b076-0e70-4e06-8bb4-d01f7536f073",
   "metadata": {},
   "outputs": [
    {
     "data": {
      "text/plain": [
       "5"
      ]
     },
     "execution_count": 8,
     "metadata": {},
     "output_type": "execute_result"
    }
   ],
   "source": [
    "len(Chem.GetSSSR(cubane))"
   ]
  },
  {
   "cell_type": "code",
   "execution_count": 10,
   "id": "8738a83d-cd2e-4ae0-bece-3814868bafae",
   "metadata": {},
   "outputs": [],
   "source": [
    "drugbank = [mol for mol in Chem.SDMolSupplier('../data/drugbank.sdf') if mol]"
   ]
  },
  {
   "cell_type": "code",
   "execution_count": 12,
   "id": "b0fa9ffd-dd71-412b-99ac-6621832e3158",
   "metadata": {},
   "outputs": [],
   "source": [
    "# Calculate the number of rings in each molecule using Smallest Set of Smallest Rings (SSSR)\n",
    "rings = [len(Chem.GetSSSR(mol)) for mol in drugbank]\n",
    "# Calculate molecular descriptors for each molecule in the drugbank dataset\n",
    "# mws = [rdescriptors.CalcMolDescriptors(mol) for mol in drugbank]"
   ]
  },
  {
   "cell_type": "code",
   "execution_count": 55,
   "id": "7db01063-ddbc-428b-b331-ee584bf71d64",
   "metadata": {},
   "outputs": [],
   "source": [
    "def lipinski_rule_of_five(suppl):\n",
    "    lipinski_passed = []\n",
    "\n",
    "    for mol in suppl:\n",
    "        if mol:  # Ensure molecule is valid\n",
    "            rules = [\n",
    "                Lipinski.NumHAcceptors(mol) <= 10,\n",
    "                Lipinski.NumHDonors(mol) <= 5,\n",
    "                Descriptors.MolWt(mol) < 500,\n",
    "                Crippen.MolLogP(mol) <= 5\n",
    "            ]\n",
    "            if sum(rules) >= 3:  # At least 3 out of 4 rules must be satisfied\n",
    "                lipinski_passed.append(mol)\n",
    "\n",
    "    return lipinski_passed  # Return the list of molecules that pass the rule"
   ]
  },
  {
   "cell_type": "code",
   "execution_count": 103,
   "id": "31c7dee1-c775-4647-8a5b-630614f37391",
   "metadata": {},
   "outputs": [],
   "source": [
    "import os\n",
    "\n",
    "base_path = '/Users/artemfadeev/Code/CDD'\n",
    "# Expand the tilde (~) to the full home directory path\n",
    "file_path = os.path.expanduser(f\"{base_path}/cdd2025/data/drugbank.sdf\")\n",
    "\n",
    "# Load the SDF file\n",
    "suppl = Chem.SDMolSupplier(file_path)"
   ]
  },
  {
   "cell_type": "code",
   "execution_count": 105,
   "id": "a66fa7a2-43ea-4f31-bcef-9a9684dfc6a6",
   "metadata": {},
   "outputs": [
    {
     "name": "stdout",
     "output_type": "stream",
     "text": [
      "6379 molecules passed Lipinski's Rule of Five\n"
     ]
    }
   ],
   "source": [
    "filtered_molecules = lipinski_rule_of_five(suppl)\n",
    "print(f\"{len(filtered_molecules)} molecules passed Lipinski's Rule of Five\")"
   ]
  },
  {
   "cell_type": "code",
   "execution_count": null,
   "id": "0ccae182-93f4-44b7-a658-5589d207a8f1",
   "metadata": {},
   "outputs": [],
   "source": []
  },
  {
   "cell_type": "code",
   "execution_count": null,
   "id": "8cc83b22-1695-43d9-8d15-49b87184ccdc",
   "metadata": {},
   "outputs": [],
   "source": []
  },
  {
   "cell_type": "code",
   "execution_count": null,
   "id": "03ba7e69-b3e7-42e0-b629-407a6c102180",
   "metadata": {},
   "outputs": [],
   "source": []
  }
 ],
 "metadata": {
  "kernelspec": {
   "display_name": "Python 3 (ipykernel)",
   "language": "python",
   "name": "python3"
  },
  "language_info": {
   "codemirror_mode": {
    "name": "ipython",
    "version": 3
   },
   "file_extension": ".py",
   "mimetype": "text/x-python",
   "name": "python",
   "nbconvert_exporter": "python",
   "pygments_lexer": "ipython3",
   "version": "3.13.1"
  }
 },
 "nbformat": 4,
 "nbformat_minor": 5
}
