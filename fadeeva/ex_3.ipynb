{
 "cells": [
  {
   "cell_type": "code",
   "execution_count": 2,
   "id": "4057454c-8257-45a4-8ca4-3b377e227559",
   "metadata": {},
   "outputs": [
    {
     "data": {
      "text/html": [
       "<div>\n",
       "<style scoped>\n",
       "    .dataframe tbody tr th:only-of-type {\n",
       "        vertical-align: middle;\n",
       "    }\n",
       "\n",
       "    .dataframe tbody tr th {\n",
       "        vertical-align: top;\n",
       "    }\n",
       "\n",
       "    .dataframe thead th {\n",
       "        text-align: right;\n",
       "    }\n",
       "</style>\n",
       "<table border=\"1\" class=\"dataframe\">\n",
       "  <thead>\n",
       "    <tr style=\"text-align: right;\">\n",
       "      <th></th>\n",
       "      <th>Molecule ChEMBL ID</th>\n",
       "      <th>Molecule Name</th>\n",
       "      <th>Molecule Max Phase</th>\n",
       "      <th>Molecular Weight</th>\n",
       "      <th>#RO5 Violations</th>\n",
       "      <th>AlogP</th>\n",
       "      <th>Compound Key</th>\n",
       "      <th>Smiles</th>\n",
       "      <th>Standard Type</th>\n",
       "      <th>Standard Relation</th>\n",
       "      <th>...</th>\n",
       "      <th>Document ChEMBL ID</th>\n",
       "      <th>Source ID</th>\n",
       "      <th>Source Description</th>\n",
       "      <th>Document Journal</th>\n",
       "      <th>Document Year</th>\n",
       "      <th>Cell ChEMBL ID</th>\n",
       "      <th>Properties</th>\n",
       "      <th>Action Type</th>\n",
       "      <th>Standard Text Value</th>\n",
       "      <th>Value</th>\n",
       "    </tr>\n",
       "  </thead>\n",
       "  <tbody>\n",
       "    <tr>\n",
       "      <th>0</th>\n",
       "      <td>CHEMBL1410224</td>\n",
       "      <td>NaN</td>\n",
       "      <td>NaN</td>\n",
       "      <td>462.30</td>\n",
       "      <td>1.0</td>\n",
       "      <td>5.25</td>\n",
       "      <td>SID24793462</td>\n",
       "      <td>O=C(O)c1ccc(NC(=O)c2cn(-c3ccccc3)nc2-c2ccc(Br)...</td>\n",
       "      <td>Potency</td>\n",
       "      <td>'='</td>\n",
       "      <td>...</td>\n",
       "      <td>CHEMBL1201862</td>\n",
       "      <td>7</td>\n",
       "      <td>PubChem BioAssays</td>\n",
       "      <td>NaN</td>\n",
       "      <td>NaN</td>\n",
       "      <td>NaN</td>\n",
       "      <td>NaN</td>\n",
       "      <td>NaN</td>\n",
       "      <td>NaN</td>\n",
       "      <td>89.1251</td>\n",
       "    </tr>\n",
       "    <tr>\n",
       "      <th>1</th>\n",
       "      <td>CHEMBL2107797</td>\n",
       "      <td>NORGESTREL</td>\n",
       "      <td>4.0</td>\n",
       "      <td>312.45</td>\n",
       "      <td>0.0</td>\n",
       "      <td>3.88</td>\n",
       "      <td>SID26719646</td>\n",
       "      <td>C#CC1(O)CC[C@H]2[C@@H]3CCC4=CC(=O)CC[C@@H]4[C@...</td>\n",
       "      <td>Potency</td>\n",
       "      <td>'='</td>\n",
       "      <td>...</td>\n",
       "      <td>CHEMBL1201862</td>\n",
       "      <td>7</td>\n",
       "      <td>PubChem BioAssays</td>\n",
       "      <td>NaN</td>\n",
       "      <td>NaN</td>\n",
       "      <td>NaN</td>\n",
       "      <td>NaN</td>\n",
       "      <td>NaN</td>\n",
       "      <td>NaN</td>\n",
       "      <td>100.0000</td>\n",
       "    </tr>\n",
       "    <tr>\n",
       "      <th>2</th>\n",
       "      <td>CHEMBL1445608</td>\n",
       "      <td>NaN</td>\n",
       "      <td>NaN</td>\n",
       "      <td>403.46</td>\n",
       "      <td>0.0</td>\n",
       "      <td>2.26</td>\n",
       "      <td>SID845645</td>\n",
       "      <td>CCN(CC)S(=O)(=O)c1ccc(NC(=O)Cn2c(=O)oc3ccccc32...</td>\n",
       "      <td>Potency</td>\n",
       "      <td>'='</td>\n",
       "      <td>...</td>\n",
       "      <td>CHEMBL1201862</td>\n",
       "      <td>7</td>\n",
       "      <td>PubChem BioAssays</td>\n",
       "      <td>NaN</td>\n",
       "      <td>NaN</td>\n",
       "      <td>NaN</td>\n",
       "      <td>NaN</td>\n",
       "      <td>NaN</td>\n",
       "      <td>NaN</td>\n",
       "      <td>0.6310</td>\n",
       "    </tr>\n",
       "    <tr>\n",
       "      <th>3</th>\n",
       "      <td>CHEMBL1201236</td>\n",
       "      <td>CARBIDOPA ANHYDROUS</td>\n",
       "      <td>4.0</td>\n",
       "      <td>226.23</td>\n",
       "      <td>0.0</td>\n",
       "      <td>-0.05</td>\n",
       "      <td>SID8139862</td>\n",
       "      <td>C[C@@](Cc1ccc(O)c(O)c1)(NN)C(=O)O</td>\n",
       "      <td>Potency</td>\n",
       "      <td>'='</td>\n",
       "      <td>...</td>\n",
       "      <td>CHEMBL1201862</td>\n",
       "      <td>7</td>\n",
       "      <td>PubChem BioAssays</td>\n",
       "      <td>NaN</td>\n",
       "      <td>NaN</td>\n",
       "      <td>NaN</td>\n",
       "      <td>NaN</td>\n",
       "      <td>NaN</td>\n",
       "      <td>NaN</td>\n",
       "      <td>89.1251</td>\n",
       "    </tr>\n",
       "    <tr>\n",
       "      <th>4</th>\n",
       "      <td>CHEMBL1327648</td>\n",
       "      <td>NaN</td>\n",
       "      <td>NaN</td>\n",
       "      <td>485.97</td>\n",
       "      <td>1.0</td>\n",
       "      <td>5.71</td>\n",
       "      <td>SID24790533</td>\n",
       "      <td>COc1ccc(CN2C(=O)/C(=C/c3ccc(-c4ccc(Cl)c(C(=O)O...</td>\n",
       "      <td>Potency</td>\n",
       "      <td>'='</td>\n",
       "      <td>...</td>\n",
       "      <td>CHEMBL1201862</td>\n",
       "      <td>7</td>\n",
       "      <td>PubChem BioAssays</td>\n",
       "      <td>NaN</td>\n",
       "      <td>NaN</td>\n",
       "      <td>NaN</td>\n",
       "      <td>NaN</td>\n",
       "      <td>NaN</td>\n",
       "      <td>NaN</td>\n",
       "      <td>5.6234</td>\n",
       "    </tr>\n",
       "  </tbody>\n",
       "</table>\n",
       "<p>5 rows × 48 columns</p>\n",
       "</div>"
      ],
      "text/plain": [
       "  Molecule ChEMBL ID        Molecule Name  Molecule Max Phase  \\\n",
       "0      CHEMBL1410224                  NaN                 NaN   \n",
       "1      CHEMBL2107797           NORGESTREL                 4.0   \n",
       "2      CHEMBL1445608                  NaN                 NaN   \n",
       "3      CHEMBL1201236  CARBIDOPA ANHYDROUS                 4.0   \n",
       "4      CHEMBL1327648                  NaN                 NaN   \n",
       "\n",
       "   Molecular Weight  #RO5 Violations  AlogP Compound Key  \\\n",
       "0            462.30              1.0   5.25  SID24793462   \n",
       "1            312.45              0.0   3.88  SID26719646   \n",
       "2            403.46              0.0   2.26    SID845645   \n",
       "3            226.23              0.0  -0.05   SID8139862   \n",
       "4            485.97              1.0   5.71  SID24790533   \n",
       "\n",
       "                                              Smiles Standard Type  \\\n",
       "0  O=C(O)c1ccc(NC(=O)c2cn(-c3ccccc3)nc2-c2ccc(Br)...       Potency   \n",
       "1  C#CC1(O)CC[C@H]2[C@@H]3CCC4=CC(=O)CC[C@@H]4[C@...       Potency   \n",
       "2  CCN(CC)S(=O)(=O)c1ccc(NC(=O)Cn2c(=O)oc3ccccc32...       Potency   \n",
       "3                  C[C@@](Cc1ccc(O)c(O)c1)(NN)C(=O)O       Potency   \n",
       "4  COc1ccc(CN2C(=O)/C(=C/c3ccc(-c4ccc(Cl)c(C(=O)O...       Potency   \n",
       "\n",
       "  Standard Relation  ...  Document ChEMBL ID Source ID  Source Description  \\\n",
       "0               '='  ...       CHEMBL1201862         7   PubChem BioAssays   \n",
       "1               '='  ...       CHEMBL1201862         7   PubChem BioAssays   \n",
       "2               '='  ...       CHEMBL1201862         7   PubChem BioAssays   \n",
       "3               '='  ...       CHEMBL1201862         7   PubChem BioAssays   \n",
       "4               '='  ...       CHEMBL1201862         7   PubChem BioAssays   \n",
       "\n",
       "   Document Journal Document Year Cell ChEMBL ID  Properties  Action Type  \\\n",
       "0               NaN           NaN            NaN         NaN          NaN   \n",
       "1               NaN           NaN            NaN         NaN          NaN   \n",
       "2               NaN           NaN            NaN         NaN          NaN   \n",
       "3               NaN           NaN            NaN         NaN          NaN   \n",
       "4               NaN           NaN            NaN         NaN          NaN   \n",
       "\n",
       "   Standard Text Value     Value  \n",
       "0                  NaN   89.1251  \n",
       "1                  NaN  100.0000  \n",
       "2                  NaN    0.6310  \n",
       "3                  NaN   89.1251  \n",
       "4                  NaN    5.6234  \n",
       "\n",
       "[5 rows x 48 columns]"
      ]
     },
     "execution_count": 2,
     "metadata": {},
     "output_type": "execute_result"
    }
   ],
   "source": [
    "import pandas as pd\n",
    "from rdkit import Chem\n",
    "from rdkit.Chem.Draw import IPythonConsole\n",
    "from rdkit import RDLogger\n",
    "from rdkit.Chem import rdMolDescriptors as rdescriptors\n",
    "from rdkit.Chem import Descriptors\n",
    "from rdkit.Chem import Lipinski as lp\n",
    "import seaborn as sn\n",
    "import matplotlib.pyplot as plt\n",
    "\n",
    "\n",
    "# Configure RDKit logging\n",
    "lg = RDLogger.logger()\n",
    "lg.setLevel(RDLogger.CRITICAL)  # Set logging level to CRITICAL to minimize output\n",
    "\n",
    "\n",
    "data_dna = pd.read_csv('data_dna_polymerase_beta.csv', delimiter=';')\n",
    "data_dna.head()"
   ]
  },
  {
   "cell_type": "code",
   "execution_count": 3,
   "id": "a21ddbe2-056f-4e2f-8f9a-158d5df4d256",
   "metadata": {},
   "outputs": [
    {
     "data": {
      "text/plain": [
       "(23383, 48)"
      ]
     },
     "execution_count": 3,
     "metadata": {},
     "output_type": "execute_result"
    }
   ],
   "source": [
    "data_dna.shape"
   ]
  },
  {
   "cell_type": "code",
   "execution_count": 4,
   "id": "bd29fe7e-c68c-48dd-8f4a-861a565935e8",
   "metadata": {},
   "outputs": [],
   "source": [
    "drugbank = [mol for mol in Chem.SDMolSupplier(\"../data/drugbank.sdf\") if mol]"
   ]
  },
  {
   "cell_type": "code",
   "execution_count": 5,
   "id": "599f770a-a00a-487d-8f14-3b29954308f7",
   "metadata": {},
   "outputs": [],
   "source": [
    "# Convert to string and drop NaN values\n",
    "mtor = [Chem.MolFromSmiles(str(smiles)) if isinstance(smiles, str) else None for smiles in data_dna[\"Smiles\"]]\n",
    "\n",
    "# Optionally, remove None values (invalid SMILES)\n",
    "mtor = [mol for mol in mtor if mol is not None]"
   ]
  },
  {
   "cell_type": "code",
   "execution_count": 6,
   "id": "6313accb-ffd9-4b92-b871-69eb9eb8037a",
   "metadata": {},
   "outputs": [
    {
     "data": {
      "text/plain": [
       "[<rdkit.Chem.rdchem.Mol at 0x15fb63a00>,\n",
       " <rdkit.Chem.rdchem.Mol at 0x15fb63990>,\n",
       " <rdkit.Chem.rdchem.Mol at 0x15fb63b50>,\n",
       " <rdkit.Chem.rdchem.Mol at 0x15fb63bc0>,\n",
       " <rdkit.Chem.rdchem.Mol at 0x15fb63c30>]"
      ]
     },
     "execution_count": 6,
     "metadata": {},
     "output_type": "execute_result"
    }
   ],
   "source": [
    "mtor[:5]"
   ]
  },
  {
   "cell_type": "code",
   "execution_count": 7,
   "id": "a544b5be-93dd-46ca-a1a9-c444b131bd00",
   "metadata": {},
   "outputs": [],
   "source": [
    "drugbank_mv = [rdescriptors.CalcExactMolWt(mol) for mol in drugbank]\n",
    "mtor_mw = [rdescriptors.CalcExactMolWt(mol) for mol in mtor]"
   ]
  },
  {
   "cell_type": "code",
   "execution_count": 23,
   "id": "9ec768e7-7e29-4538-aad4-76c9e4039ceb",
   "metadata": {},
   "outputs": [
    {
     "ename": "AttributeError",
     "evalue": "'list' object has no attribute 'avg'",
     "output_type": "error",
     "traceback": [
      "\u001b[0;31m---------------------------------------------------------------------------\u001b[0m",
      "\u001b[0;31mAttributeError\u001b[0m                            Traceback (most recent call last)",
      "Cell \u001b[0;32mIn[23], line 1\u001b[0m\n\u001b[0;32m----> 1\u001b[0m mtor_mw\u001b[38;5;241m.\u001b[39mavg()\n",
      "\u001b[0;31mAttributeError\u001b[0m: 'list' object has no attribute 'avg'"
     ]
    }
   ],
   "source": [
    "mtor_mw"
   ]
  },
  {
   "cell_type": "code",
   "execution_count": 9,
   "id": "18284a0b-6e27-4708-b33c-275bd4e3cd0f",
   "metadata": {},
   "outputs": [],
   "source": [
    "segbank_hbd = [lp.NumHDonors(mol) for mol in drugbank]\n",
    "mtor_hbd = [lp.NumHDonors(mol) for mol in mtor]\n",
    "\n",
    "segbank_hba = [lp.NumHAcceptors(mol) for mol in drugbank]\n",
    "mtor_hba = [lp.NumHAcceptors(mol) for mol in mtor]\n",
    "\n",
    "segbank_logp = [Descriptors.MolLogP(mol) for mol in drugbank]\n",
    "mtor_logp = [Descriptors.MolLogP(mol) for mol in mtor]"
   ]
  },
  {
   "cell_type": "code",
   "execution_count": 10,
   "id": "a70bda4b-428c-4176-94b3-3147286d1350",
   "metadata": {},
   "outputs": [
    {
     "data": {
      "image/png": "[encoded data removed]",
      "text/plain": [
       "<Figure size 640x480 with 1 Axes>"
      ]
     },
     "metadata": {},
     "output_type": "display_data"
    }
   ],
   "source": [
    "sn.boxplot([drugbank_mv, mtor_mw, segbank_hba, mtor_hba, segbank_logp, mtor_logp], showfliers=False)\n",
    "plt.xticks(ticks=range(6), labels=[\"D MW\", \"M MW\", \"D HBA\", \"M HBA\", \"D LogP\", \"M LogP\"])\n",
    "plt.show()"
   ]
  },
  {
   "cell_type": "code",
   "execution_count": 29,
   "id": "b3ebd7ec-00d0-4e1d-9428-91de9d379dbb",
   "metadata": {},
   "outputs": [
    {
     "data": {
      "image/png": "[encoded data removed]",
      "text/plain": [
       "<Figure size 640x480 with 1 Axes>"
      ]
     },
     "metadata": {},
     "output_type": "display_data"
    }
   ],
   "source": [
    "sn.scatterplot(x=drugbank_mv, y=segbank_logp)\n",
    "sn.scatterplot(x=mtor_mw, y=mtor_logp)\n",
    "plt.show()"
   ]
  },
  {
   "cell_type": "code",
   "execution_count": null,
   "id": "a22d9d00-6be6-4d9c-bd67-46d768b0ab4e",
   "metadata": {},
   "outputs": [],
   "source": []
  }
 ],
 "metadata": {
  "kernelspec": {
   "display_name": "Python [conda env:base] *",
   "language": "python",
   "name": "conda-base-py"
  },
  "language_info": {
   "codemirror_mode": {
    "name": "ipython",
    "version": 3
   },
   "file_extension": ".py",
   "mimetype": "text/x-python",
   "name": "python",
   "nbconvert_exporter": "python",
   "pygments_lexer": "ipython3",
   "version": "3.12.2"
  }
 },
 "nbformat": 4,
 "nbformat_minor": 5
}
