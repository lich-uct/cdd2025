{
 "cells": [
  {
   "cell_type": "code",
   "execution_count": 22,
   "id": "e40dbee5-4e0c-473a-9742-bbf96309b841",
   "metadata": {},
   "outputs": [],
   "source": [
    "from rdkit.Chem import AllChem as Chem"
   ]
  },
  {
   "cell_type": "code",
   "execution_count": 47,
   "id": "6266c02e-ba9b-4f34-b4bc-2d657971fae9",
   "metadata": {},
   "outputs": [],
   "source": [
    "from rdkit import Chem\n",
    "from rdkit.Chem.Draw import IPythonConsole\n",
    "from rdkit import RDLogger\n",
    "lg = RDLogger.logger()\n",
    "lg.setLevel(RDLogger.CRITICAL)\n",
    "from rdkit.Chem import rdMolDescriptors as rdescriptors\n",
    "from rdkit.Chem import Descriptors"
   ]
  },
  {
   "cell_type": "code",
   "execution_count": 17,
   "id": "c4a2c4ad-9c88-4414-b8aa-2b084ed609ca",
   "metadata": {},
   "outputs": [],
   "source": [
    "drugbank = [mol for mol in Chem.SDMolSupplier(\"../data/drugbank.sdf\") if mol]"
   ]
  },
  {
   "cell_type": "code",
   "execution_count": 38,
   "id": "19c6ce35-ee3b-4f60-b946-bab50d3b2270",
   "metadata": {},
   "outputs": [],
   "source": [
    "def mw_mol (mol):\n",
    "   return rdescriptors.CalcExactMolWt(mol)<500"
   ]
  },
  {
   "cell_type": "code",
   "execution_count": 71,
   "id": "0bfe9cae-c295-4b18-a764-ea2bc9231f64",
   "metadata": {},
   "outputs": [],
   "source": [
    "def hb_mol (mol):\n",
    "    return rdescriptors.CalcNumLipinskiHBA(mol)<=10"
   ]
  },
  {
   "cell_type": "code",
   "execution_count": 72,
   "id": "55c86440-625c-48e1-9484-e7aaf122c005",
   "metadata": {},
   "outputs": [],
   "source": [
    "def hd_mol (mol):\n",
    "    return rdescriptors.CalcNumLipinskiHBD(mol)<=5"
   ]
  },
  {
   "cell_type": "code",
   "execution_count": 73,
   "id": "fe45c458-0c9e-41a5-9a47-209e68304ca7",
   "metadata": {},
   "outputs": [],
   "source": [
    "def lp_mol (mol):\n",
    "    return Descriptors.MolLogP(mol)<5"
   ]
  },
  {
   "cell_type": "code",
   "execution_count": 74,
   "id": "7df48abb-f84b-48e8-8968-c9849033cea6",
   "metadata": {},
   "outputs": [],
   "source": [
    "rings = [len(Chem.GetSSSR(mol)) for mol in drugbank]\n",
    "mws = [mw_mol(mol) for mol in drugbank] \n",
    "hbs = [hb_mol(mol) for mol in drugbank] \n",
    "hds = [hd_mol(mol) for mol in drugbank] \n",
    "lps = [lp_mol(mol) for mol in drugbank]"
   ]
  },
  {
   "cell_type": "code",
   "execution_count": 75,
   "id": "f1dfddf5-12c1-4df8-b07b-fab00cd4f516",
   "metadata": {},
   "outputs": [],
   "source": [
    "tr = [sum(ds)>2 for ds in zip(mws, hbs, hds, lps)]"
   ]
  },
  {
   "cell_type": "code",
   "execution_count": 76,
   "id": "b948ccd4-0723-435e-868a-6604cb662a18",
   "metadata": {},
   "outputs": [
    {
     "data": {
      "text/plain": [
       "0.8414325842696629"
      ]
     },
     "execution_count": 76,
     "metadata": {},
     "output_type": "execute_result"
    }
   ],
   "source": [
    "sum(tr)/len(tr)"
   ]
  },
  {
   "cell_type": "code",
   "execution_count": 77,
   "id": "12eb7d24-de07-409f-b89f-452794ae7397",
   "metadata": {},
   "outputs": [
    {
     "data": {
      "text/plain": [
       "'84%'"
      ]
     },
     "execution_count": 77,
     "metadata": {},
     "output_type": "execute_result"
    }
   ],
   "source": [
    "f\"{sum(tr)/len(tr):.0%}\""
   ]
  },
  {
   "cell_type": "code",
   "execution_count": 26,
   "id": "4ab77000-768b-490c-bfe0-5208c7194fea",
   "metadata": {},
   "outputs": [
    {
     "data": {
      "text/plain": [
       "(2.451123595505618, 356.41730297698126)"
      ]
     },
     "execution_count": 26,
     "metadata": {},
     "output_type": "execute_result"
    }
   ],
   "source": [
    "sum(rings)/len(rings), sum(mws)/len(mws)"
   ]
  },
  {
   "cell_type": "code",
   "execution_count": 5,
   "id": "d9bdfbf9-d220-4c28-b6bf-f6e55cce4a73",
   "metadata": {},
   "outputs": [],
   "source": [
    "cubane = Chem.MolFromSmiles(\"C12C3C4C1C5C2C3C45\")"
   ]
  },
  {
   "cell_type": "code",
   "execution_count": 6,
   "id": "efeb872f-23e9-44ee-b5d3-37ca6ff6f3ef",
   "metadata": {},
   "outputs": [
    {
     "data": {
      "image/png": "[encoded data removed]",
      "text/plain": [
       "<rdkit.Chem.rdchem.Mol at 0x7fe9d6cc3a70>"
      ]
     },
     "execution_count": 6,
     "metadata": {},
     "output_type": "execute_result"
    }
   ],
   "source": [
    "cubane"
   ]
  },
  {
   "cell_type": "code",
   "execution_count": 20,
   "id": "4d737466-4fd2-433a-876c-db148f244817",
   "metadata": {},
   "outputs": [
    {
     "data": {
      "text/plain": [
       "(5, [[0, 3, 2, 1], [0, 5, 4, 3], [0, 5, 6, 1], [1, 6, 7, 2], [3, 4, 7, 2]])"
      ]
     },
     "execution_count": 20,
     "metadata": {},
     "output_type": "execute_result"
    }
   ],
   "source": [
    "len(Chem.GetSSSR(cubane)), [[a for a in v] for v in Chem.GetSSSR(cubane)]"
   ]
  },
  {
   "cell_type": "code",
   "execution_count": 25,
   "id": "c1362cb2-c5e9-4a8e-be3c-54f0f0932456",
   "metadata": {},
   "outputs": [
    {
     "data": {
      "text/plain": [
       "104.062600256"
      ]
     },
     "execution_count": 25,
     "metadata": {},
     "output_type": "execute_result"
    }
   ],
   "source": [
    "rdescriptors.CalcExactMolWt(cubane)"
   ]
  }
 ],
 "metadata": {
  "kernelspec": {
   "display_name": "Python 3 (ipykernel)",
   "language": "python",
   "name": "python3"
  },
  "language_info": {
   "codemirror_mode": {
    "name": "ipython",
    "version": 3
   },
   "file_extension": ".py",
   "mimetype": "text/x-python",
   "name": "python",
   "nbconvert_exporter": "python",
   "pygments_lexer": "ipython3",
   "version": "3.10.15"
  }
 },
 "nbformat": 4,
 "nbformat_minor": 5
}
